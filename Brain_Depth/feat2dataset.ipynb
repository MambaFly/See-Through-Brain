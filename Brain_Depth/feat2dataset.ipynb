{
 "cells": [
  {
   "cell_type": "markdown",
   "id": "0cff2518-ff53-47d2-a125-3ed17be2c95a",
   "metadata": {},
   "source": [
    "# stim 表征数据划分数据集"
   ]
  },
  {
   "cell_type": "code",
   "execution_count": 1,
   "id": "3e7cd069-7c89-4324-97d3-a5b890cf1ead",
   "metadata": {
    "execution": {
     "iopub.execute_input": "2024-09-18T08:18:45.590549Z",
     "iopub.status.busy": "2024-09-18T08:18:45.589985Z",
     "iopub.status.idle": "2024-09-18T08:18:46.693567Z",
     "shell.execute_reply": "2024-09-18T08:18:46.692181Z",
     "shell.execute_reply.started": "2024-09-18T08:18:45.590505Z"
    }
   },
   "outputs": [],
   "source": [
    "import numpy as np\n",
    "import scipy.io\n",
    "from tqdm import tqdm\n",
    "import argparse\n",
    "import os"
   ]
  },
  {
   "cell_type": "code",
   "execution_count": 2,
   "id": "98b94ca2-9cbd-4cd6-ab1f-9e419c8ba052",
   "metadata": {
    "execution": {
     "iopub.execute_input": "2024-09-18T08:18:47.951314Z",
     "iopub.status.busy": "2024-09-18T08:18:47.950652Z",
     "iopub.status.idle": "2024-09-18T08:18:47.958648Z",
     "shell.execute_reply": "2024-09-18T08:18:47.957250Z",
     "shell.execute_reply.started": "2024-09-18T08:18:47.951268Z"
    }
   },
   "outputs": [],
   "source": [
    "'''参数设置'''\n",
    "subject='subj01'  # 受试者\n",
    "use_stim = 'ave'  # ave / each\n",
    "featname = 'dpt'  # 表征 init_latent /  c / dpt_emb0~3"
   ]
  },
  {
   "cell_type": "code",
   "execution_count": 3,
   "id": "40b2b542-edba-4f36-a70a-96816011ee3c",
   "metadata": {
    "execution": {
     "iopub.execute_input": "2024-09-18T08:18:48.806497Z",
     "iopub.status.busy": "2024-09-18T08:18:48.805864Z",
     "iopub.status.idle": "2024-09-18T08:18:49.154807Z",
     "shell.execute_reply": "2024-09-18T08:18:49.153323Z",
     "shell.execute_reply.started": "2024-09-18T08:18:48.806454Z"
    }
   },
   "outputs": [],
   "source": [
    "# 数据路径\n",
    "basedir = '../data/nsdfeat/'\n",
    "featdir = f'{basedir}/{featname}/'\n",
    "nsd_expdesign = scipy.io.loadmat('../data/nsd/nsddata/experiments/nsd/nsd_expdesign.mat')\n",
    "\n",
    "#　保存路径\n",
    "savedir = f'{basedir}/{subject}_feat/'\n",
    "os.makedirs(savedir, exist_ok=True)"
   ]
  },
  {
   "cell_type": "code",
   "execution_count": 4,
   "id": "ef92f8fe-44d9-4003-a00c-3f327f2844b9",
   "metadata": {
    "execution": {
     "iopub.execute_input": "2024-09-18T08:18:52.107855Z",
     "iopub.status.busy": "2024-09-18T08:18:52.107211Z",
     "iopub.status.idle": "2024-09-18T08:18:52.146683Z",
     "shell.execute_reply": "2024-09-18T08:18:52.145387Z",
     "shell.execute_reply.started": "2024-09-18T08:18:52.107810Z"
    }
   },
   "outputs": [
    {
     "name": "stdout",
     "output_type": "stream",
     "text": [
      "测试集大小：1000\n"
     ]
    }
   ],
   "source": [
    "# Note that most of them are 1-base index!\n",
    "# This is why I subtract 1\n",
    "sharedix = nsd_expdesign['sharedix'] -1 \n",
    "print(f'测试集大小：{len(sharedix[0])}')\n",
    "if use_stim == 'ave':\n",
    "    stims = np.load(f'../data/stim/{subject}/{subject}_stims_ave.npy') # 平均值 30000/3 = 10000 (9000+1000)\n",
    "else: # Each\n",
    "    stims = np.load(f'../data/stim/{subject}/{subject}_stims.npy')  # 每人30000次刺激"
   ]
  },
  {
   "cell_type": "code",
   "execution_count": 5,
   "id": "ff391bfd-03c3-4047-acab-c31b48c16088",
   "metadata": {
    "execution": {
     "iopub.execute_input": "2024-09-18T08:19:08.960050Z",
     "iopub.status.busy": "2024-09-18T08:19:08.959494Z",
     "iopub.status.idle": "2024-09-18T08:32:07.674025Z",
     "shell.execute_reply": "2024-09-18T08:32:07.673121Z",
     "shell.execute_reply.started": "2024-09-18T08:19:08.960004Z"
    }
   },
   "outputs": [
    {
     "name": "stderr",
     "output_type": "stream",
     "text": [
      "10000it [11:06, 15.00it/s]\n"
     ]
    }
   ],
   "source": [
    "# 特征数据和索引信息\n",
    "feats = []\n",
    "tr_idx = np.zeros(len(stims))\n",
    "\n",
    "# 遍历刺激数据，加载图像特征数据，并更新索引\n",
    "for idx, stim in tqdm(enumerate(stims)): \n",
    "    # if idx % 1000 == 0:\n",
    "    #     print(idx,stim)\n",
    "    if stim in sharedix:  # 测试数据\n",
    "        tr_idx[idx] = 0\n",
    "    else:  # 训练数据\n",
    "        tr_idx[idx] = 1\n",
    "    # 读取对应的刺激图像的表征数据\n",
    "    feat = np.load(f'{featdir}/{stim:06}.npy')\n",
    "    feats.append(feat)\n",
    "feats = np.stack(feats)    \n",
    "\n",
    "\n",
    "\n",
    "# 训练&测试 图像表征集合\n",
    "feats_tr = feats[tr_idx==1,:]\n",
    "feats_te = feats[tr_idx==0,:]\n",
    "\n",
    "# 保存subj的刺激对应 tr_or_te\n",
    "np.save(f'../data/stim/{subject}/{subject}_stims_tridx.npy',tr_idx)\n",
    "\n",
    "# 保存subj的tr和te刺激图像的表征数据\n",
    "np.save(f'{savedir}/{subject}_{use_stim}_{featname}_tr.npy',feats_tr)\n",
    "np.save(f'{savedir}/{subject}_{use_stim}_{featname}_te.npy',feats_te)"
   ]
  },
  {
   "cell_type": "code",
   "execution_count": 6,
   "id": "56135799-146c-44e1-a696-b9c7fde55450",
   "metadata": {
    "execution": {
     "iopub.execute_input": "2024-09-18T08:32:07.675744Z",
     "iopub.status.busy": "2024-09-18T08:32:07.675391Z",
     "iopub.status.idle": "2024-09-18T08:32:07.679112Z",
     "shell.execute_reply": "2024-09-18T08:32:07.678634Z",
     "shell.execute_reply.started": "2024-09-18T08:32:07.675727Z"
    }
   },
   "outputs": [
    {
     "name": "stdout",
     "output_type": "stream",
     "text": [
      "(9000, 1, 384, 384)\n",
      "(1000, 1, 384, 384)\n"
     ]
    }
   ],
   "source": [
    "print(feats_tr.shape)\n",
    "print(feats_te.shape)"
   ]
  },
  {
   "cell_type": "code",
   "execution_count": 107,
   "id": "ed1a88ed-ac54-4a18-a0ea-32dc164b808c",
   "metadata": {
    "execution": {
     "iopub.execute_input": "2024-07-31T08:51:38.020199Z",
     "iopub.status.busy": "2024-07-31T08:51:38.019654Z",
     "iopub.status.idle": "2024-07-31T08:51:38.028135Z",
     "shell.execute_reply": "2024-07-31T08:51:38.027033Z",
     "shell.execute_reply.started": "2024-07-31T08:51:38.020160Z"
    }
   },
   "outputs": [],
   "source": [
    "# init_latent\n",
    "# each\n",
    "## tr: (27000, 6400)\n",
    "## te: (3000, 6400)\n",
    "\n",
    "# ave   \n",
    "## tr: (9000, 6400)\n",
    "## te: (1000, 6400)"
   ]
  }
 ],
 "metadata": {
  "kernelspec": {
   "display_name": "ldm",
   "language": "python",
   "name": "ldm"
  },
  "language_info": {
   "codemirror_mode": {
    "name": "ipython",
    "version": 3
   },
   "file_extension": ".py",
   "mimetype": "text/x-python",
   "name": "python",
   "nbconvert_exporter": "python",
   "pygments_lexer": "ipython3",
   "version": "3.8.18"
  },
  "widgets": {
   "application/vnd.jupyter.widget-state+json": {
    "state": {},
    "version_major": 2,
    "version_minor": 0
   }
  }
 },
 "nbformat": 4,
 "nbformat_minor": 5
}
