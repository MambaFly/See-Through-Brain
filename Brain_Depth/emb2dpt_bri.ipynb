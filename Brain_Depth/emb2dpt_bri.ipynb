{
 "cells": [
  {
   "cell_type": "code",
   "execution_count": 3,
   "id": "5a7c94fc-0c77-4e97-b069-3b060fba7f78",
   "metadata": {
    "execution": {
     "iopub.execute_input": "2024-10-09T03:10:47.488531Z",
     "iopub.status.busy": "2024-10-09T03:10:47.487922Z",
     "iopub.status.idle": "2024-10-09T03:10:47.496721Z",
     "shell.execute_reply": "2024-10-09T03:10:47.495237Z",
     "shell.execute_reply.started": "2024-10-09T03:10:47.488484Z"
    }
   },
   "outputs": [],
   "source": [
    "import argparse, os\n",
    "from tqdm import tqdm\n",
    "import torch\n",
    "import numpy as np\n",
    "from transformers import DPTForDepthEstimation\n",
    "from PIL import Image"
   ]
  },
  {
   "cell_type": "code",
   "execution_count": 2,
   "id": "6c16eecc-a4db-44dd-a282-8bb11885de3b",
   "metadata": {
    "execution": {
     "iopub.execute_input": "2024-09-18T09:00:42.074005Z",
     "iopub.status.busy": "2024-09-18T09:00:42.073081Z",
     "iopub.status.idle": "2024-09-18T09:00:42.080358Z",
     "shell.execute_reply": "2024-09-18T09:00:42.078996Z",
     "shell.execute_reply.started": "2024-09-18T09:00:42.073953Z"
    }
   },
   "outputs": [],
   "source": [
    "gpu = 0\n",
    "subject = 'subj01'\n",
    "# roi = ['early', 'ventral', 'midventral', 'midlateral', 'lateral', 'parietal']\n",
    "roi = 'midventral'"
   ]
  },
  {
   "cell_type": "code",
   "execution_count": 5,
   "id": "a6229888-464b-4593-ba9e-7edf5a8358db",
   "metadata": {
    "execution": {
     "iopub.execute_input": "2024-09-18T09:02:41.845771Z",
     "iopub.status.busy": "2024-09-18T09:02:41.845178Z",
     "iopub.status.idle": "2024-09-18T09:02:41.971031Z",
     "shell.execute_reply": "2024-09-18T09:02:41.969499Z",
     "shell.execute_reply.started": "2024-09-18T09:02:41.845727Z"
    }
   },
   "outputs": [],
   "source": [
    "datedir = f'../data/decoded/{subject}/'\n",
    "savedir = f'../data/decoded/{subject}/dpt_fromemb/'\n",
    "os.makedirs(f'{savedir}', exist_ok=True)\n",
    "savedir_img = f'../data/decoded/{subject}/dpt_fromemb_image/'\n",
    "os.makedirs(f'{savedir_img}', exist_ok=True)"
   ]
  },
  {
   "cell_type": "code",
   "execution_count": 6,
   "id": "376ce440-97cc-425a-85ec-d4e31d9178c5",
   "metadata": {
    "execution": {
     "iopub.execute_input": "2024-09-18T09:02:42.703175Z",
     "iopub.status.busy": "2024-09-18T09:02:42.702671Z",
     "iopub.status.idle": "2024-09-18T09:02:43.125076Z",
     "shell.execute_reply": "2024-09-18T09:02:43.124231Z",
     "shell.execute_reply.started": "2024-09-18T09:02:42.703136Z"
    }
   },
   "outputs": [
    {
     "name": "stderr",
     "output_type": "stream",
     "text": [
      "Some weights of DPTForDepthEstimation were not initialized from the model checkpoint at ./dpt_large and are newly initialized: ['neck.fusion_stage.layers.0.residual_layer1.convolution1.bias', 'neck.fusion_stage.layers.0.residual_layer1.convolution1.weight', 'neck.fusion_stage.layers.0.residual_layer1.convolution2.bias', 'neck.fusion_stage.layers.0.residual_layer1.convolution2.weight']\n",
      "You should probably TRAIN this model on a down-stream task to be able to use it for predictions and inference.\n"
     ]
    }
   ],
   "source": [
    "device = torch.device(f\"cuda:{gpu}\") if torch.cuda.is_available() else torch.device(\"cpu\")\n",
    "model = DPTForDepthEstimation.from_pretrained(\"./dpt_large\")\n",
    "model.to(device)\n",
    "imsize = (512,512)\n",
    "latentsize = (64,64)"
   ]
  },
  {
   "cell_type": "code",
   "execution_count": 9,
   "id": "6aef947d-a4c4-44be-aa1f-8a5e2ff2c5d8",
   "metadata": {
    "execution": {
     "iopub.execute_input": "2024-09-18T09:04:28.117307Z",
     "iopub.status.busy": "2024-09-18T09:04:28.116557Z",
     "iopub.status.idle": "2024-09-18T09:04:35.150720Z",
     "shell.execute_reply": "2024-09-18T09:04:35.150073Z",
     "shell.execute_reply.started": "2024-09-18T09:04:28.117262Z"
    }
   },
   "outputs": [],
   "source": [
    "dpt_embs = [] \n",
    "# for idx in range(4):\n",
    "#     fname = f'{datdir}/{subject}_{\"_\".join(roi)}_scores_dpt_emb{idx}.npy'\n",
    "#     dpt_embs.append(np.load(fname))\n",
    "dpt_embs.append(np.load(f'{datedir}/subj01_midventral_brain_embs_dpt.npy'))\n",
    "dpt_embs = np.stack(dpt_embs)\n",
    "dpt_embs = torch.Tensor(dpt_embs).to(device)"
   ]
  },
  {
   "cell_type": "code",
   "execution_count": 12,
   "id": "7deb6626-8080-455e-9434-12fe68929133",
   "metadata": {
    "execution": {
     "iopub.execute_input": "2024-09-18T09:07:09.783643Z",
     "iopub.status.busy": "2024-09-18T09:07:09.783060Z",
     "iopub.status.idle": "2024-09-18T09:07:09.792268Z",
     "shell.execute_reply": "2024-09-18T09:07:09.790879Z",
     "shell.execute_reply.started": "2024-09-18T09:07:09.783599Z"
    }
   },
   "outputs": [
    {
     "data": {
      "text/plain": [
       "torch.Size([1, 1000, 147456])"
      ]
     },
     "execution_count": 12,
     "metadata": {},
     "output_type": "execute_result"
    }
   ],
   "source": [
    "dpt_embs.shape"
   ]
  },
  {
   "cell_type": "code",
   "execution_count": 4,
   "id": "78cad48d-4500-42a9-bc6f-b949c767f5cd",
   "metadata": {
    "execution": {
     "iopub.execute_input": "2024-10-16T04:24:09.229981Z",
     "iopub.status.busy": "2024-10-16T04:24:09.141991Z",
     "iopub.status.idle": "2024-10-16T04:24:31.802095Z",
     "shell.execute_reply": "2024-10-16T04:24:31.799040Z",
     "shell.execute_reply.started": "2024-10-16T04:24:09.220005Z"
    }
   },
   "outputs": [
    {
     "ename": "NameError",
     "evalue": "name 'dpt_embs' is not defined",
     "output_type": "error",
     "traceback": [
      "\u001b[0;31m---------------------------------------------------------------------------\u001b[0m",
      "\u001b[0;31mNameError\u001b[0m                                 Traceback (most recent call last)",
      "Cell \u001b[0;32mIn[4], line 1\u001b[0m\n\u001b[0;32m----> 1\u001b[0m \u001b[38;5;28;01mfor\u001b[39;00m s \u001b[38;5;129;01min\u001b[39;00m tqdm(\u001b[38;5;28mrange\u001b[39m(\u001b[43mdpt_embs\u001b[49m\u001b[38;5;241m.\u001b[39mshape[\u001b[38;5;241m1\u001b[39m])):\n\u001b[1;32m      2\u001b[0m     hidden_states \u001b[38;5;241m=\u001b[39m [dpt_embs[\u001b[38;5;241m0\u001b[39m,s,:]\u001b[38;5;241m.\u001b[39mreshape(\u001b[38;5;241m64\u001b[39m,\u001b[38;5;241m256\u001b[39m,\u001b[38;5;241m3\u001b[39m,\u001b[38;5;241m3\u001b[39m)]\n\u001b[1;32m      3\u001b[0m     \u001b[38;5;28;01mwith\u001b[39;00m torch\u001b[38;5;241m.\u001b[39mno_grad():\n\u001b[1;32m      4\u001b[0m         \u001b[38;5;66;03m# hidden_states = model.neck(hidden_states)\u001b[39;00m\n",
      "\u001b[0;31mNameError\u001b[0m: name 'dpt_embs' is not defined"
     ]
    }
   ],
   "source": [
    "for s in tqdm(range(dpt_embs.shape[1])):\n",
    "    hidden_states = [dpt_embs[0,s,:].reshape(64,256,3,3)]\n",
    "    with torch.no_grad():\n",
    "        # hidden_states = model.neck(hidden_states)\n",
    "        predicted_depth = model.head(hidden_states)\n",
    "\n",
    "    # Make depth Image for visual inspection\n",
    "    prediction = torch.nn.functional.interpolate(\n",
    "        predicted_depth.unsqueeze(1),\n",
    "        size=imsize,\n",
    "        mode=\"bicubic\",\n",
    "        align_corners=False,\n",
    "    )\n",
    "\n",
    "    # visualize the prediction\n",
    "    # output = prediction.squeeze().cpu().numpy()\n",
    "    # formatted = (output * 255 / np.max(output)).astype(\"uint8\")\n",
    "    # depth = Image.fromarray(formatted)\n",
    "\n",
    "    # Make latent reps for SD2\n",
    "    cc = torch.nn.functional.interpolate(\n",
    "        predicted_depth.unsqueeze(1),\n",
    "        size=latentsize,\n",
    "        mode=\"bicubic\",\n",
    "        align_corners=False,\n",
    "    )\n",
    "    depth_min, depth_max = torch.amin(cc, dim=[1, 2, 3], keepdim=True), torch.amax(cc, dim=[1, 2, 3],\n",
    "                                                                                    keepdim=True)\n",
    "    cc = 2. * (cc - depth_min) / (depth_max - depth_min) - 1.\n",
    "\n",
    "    np.save(f'{savedir}/{s:06}.npy',cc.to('cpu').detach().numpy())\n",
    "    # depth.save(f'{savedir_img}/{s:06}.png')"
   ]
  }
 ],
 "metadata": {
  "kernelspec": {
   "display_name": "ldm",
   "language": "python",
   "name": "ldm"
  },
  "language_info": {
   "codemirror_mode": {
    "name": "ipython",
    "version": 3
   },
   "file_extension": ".py",
   "mimetype": "text/x-python",
   "name": "python",
   "nbconvert_exporter": "python",
   "pygments_lexer": "ipython3",
   "version": "3.8.18"
  },
  "widgets": {
   "application/vnd.jupyter.widget-state+json": {
    "state": {},
    "version_major": 2,
    "version_minor": 0
   }
  }
 },
 "nbformat": 4,
 "nbformat_minor": 5
}
