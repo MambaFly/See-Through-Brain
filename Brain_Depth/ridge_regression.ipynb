{
 "cells": [
  {
   "cell_type": "markdown",
   "id": "50fd738f-68dd-4ade-b1b2-dac72f7155b1",
   "metadata": {},
   "source": [
    "# 回归拟合-大脑对齐（fmri->imgfeat）"
   ]
  },
  {
   "cell_type": "code",
   "execution_count": 1,
   "id": "494aa029-d7cd-42bd-a225-d3a69392827a",
   "metadata": {
    "execution": {
     "iopub.execute_input": "2024-10-16T03:23:03.928924Z",
     "iopub.status.busy": "2024-10-16T03:23:03.928313Z",
     "iopub.status.idle": "2024-10-16T03:23:26.679877Z",
     "shell.execute_reply": "2024-10-16T03:23:26.678195Z",
     "shell.execute_reply.started": "2024-10-16T03:23:03.928878Z"
    }
   },
   "outputs": [],
   "source": [
    "import argparse, os\n",
    "import numpy as np\n",
    "from himalaya.backend import set_backend\n",
    "from himalaya.ridge import RidgeCV\n",
    "from himalaya.scoring import correlation_score\n",
    "from sklearn.pipeline import make_pipeline\n",
    "from sklearn.preprocessing import StandardScaler"
   ]
  },
  {
   "cell_type": "code",
   "execution_count": 2,
   "id": "217adcb2-4140-41b1-a7bb-b386b8efc0d7",
   "metadata": {
    "execution": {
     "iopub.execute_input": "2024-10-16T03:25:32.587543Z",
     "iopub.status.busy": "2024-10-16T03:25:32.586563Z",
     "iopub.status.idle": "2024-10-16T03:25:32.613632Z",
     "shell.execute_reply": "2024-10-16T03:25:32.612074Z",
     "shell.execute_reply.started": "2024-10-16T03:25:32.587491Z"
    }
   },
   "outputs": [],
   "source": [
    "# 参数设置\n",
    "target = 'dpt'   # init_latent / c\n",
    "roi = ['early','ventral','midventral','midlateral','lateral','parietal']  # early  /  ventral\n",
    "croi = 'midlateral'\n",
    "backend = set_backend(\"numpy\", on_error=\"warn\")\n",
    "subject='subj01'"
   ]
  },
  {
   "cell_type": "code",
   "execution_count": 3,
   "id": "0c12b03c-cebc-4e82-b616-ee11c36fac7f",
   "metadata": {
    "execution": {
     "iopub.execute_input": "2024-10-16T03:25:42.148742Z",
     "iopub.status.busy": "2024-10-16T03:25:42.148137Z",
     "iopub.status.idle": "2024-10-16T03:25:42.156451Z",
     "shell.execute_reply": "2024-10-16T03:25:42.155085Z",
     "shell.execute_reply.started": "2024-10-16T03:25:42.148695Z"
    }
   },
   "outputs": [],
   "source": [
    "# 路径设置\n",
    "mridir = f'../data/fmri/{subject}'\n",
    "featdir = f'../data/nsdfeat/{subject}_feat'\n",
    "\n",
    "savedir = f'../data/decoded/{subject}'\n",
    "os.makedirs(savedir, exist_ok=True)"
   ]
  },
  {
   "cell_type": "code",
   "execution_count": 4,
   "id": "1fc57975-ecc5-401c-a678-d6e67113bc95",
   "metadata": {
    "execution": {
     "iopub.execute_input": "2024-10-16T03:25:42.934602Z",
     "iopub.status.busy": "2024-10-16T03:25:42.934055Z",
     "iopub.status.idle": "2024-10-16T03:25:42.941298Z",
     "shell.execute_reply": "2024-10-16T03:25:42.939910Z",
     "shell.execute_reply.started": "2024-10-16T03:25:42.934559Z"
    }
   },
   "outputs": [],
   "source": [
    "# 超参数选择，正则化系数\n",
    "alpha = [1e3, 3e3, 6e3, 9e3, 1e4, 3e4, 6e4, 9e4, 1e5]"
   ]
  },
  {
   "cell_type": "code",
   "execution_count": 5,
   "id": "2eb744af-fb35-4173-be5d-c1488daa463e",
   "metadata": {
    "execution": {
     "iopub.execute_input": "2024-10-16T03:25:47.540571Z",
     "iopub.status.busy": "2024-10-16T03:25:47.540013Z",
     "iopub.status.idle": "2024-10-16T03:25:47.549207Z",
     "shell.execute_reply": "2024-10-16T03:25:47.547840Z",
     "shell.execute_reply.started": "2024-10-16T03:25:47.540527Z"
    }
   },
   "outputs": [],
   "source": [
    "'''算法流程'''\n",
    "# 创建岭回归\n",
    "ridge = RidgeCV(alphas=alpha)\n",
    "\n",
    "# 创建预处理流程\n",
    "preprocess_pipeline = make_pipeline(\n",
    "    StandardScaler(with_mean=True, with_std=True),\n",
    ")\n",
    "\n",
    "# 预处理+岭回归 流程pipeline\n",
    "pipeline = make_pipeline(\n",
    "    preprocess_pipeline,\n",
    "    ridge,\n",
    ") "
   ]
  },
  {
   "cell_type": "code",
   "execution_count": 6,
   "id": "093c95d3-4a2a-48bd-a0d4-fce678721a12",
   "metadata": {
    "execution": {
     "iopub.execute_input": "2024-10-16T03:25:56.547161Z",
     "iopub.status.busy": "2024-10-16T03:25:56.546556Z",
     "iopub.status.idle": "2024-10-16T03:29:08.352348Z",
     "shell.execute_reply": "2024-10-16T03:29:08.351488Z",
     "shell.execute_reply.started": "2024-10-16T03:25:56.547115Z"
    }
   },
   "outputs": [],
   "source": [
    "'''加载训练和测试数据'''\n",
    "X = []  # 训练样本（特有刺激响应），每个subj的所列roi的所有刺激响应体素值betas（9000*3=27000）\n",
    "X_te = []  #测试样本（共有刺激大脑响应），每个subj的所列roi的平均刺激响应体素值betas（1000）\n",
    "# for croi in roi:\n",
    "#     # cX = np.load(f'{mridir}/{subject}_{croi}_betas_tr.npy').astype(\"float32\")\n",
    "#     cX = np.load(f'{mridir}/{subject}_{croi}_betas_ave_tr.npy').astype(\"float32\")\n",
    "#     cX_te = np.load(f'{mridir}/{subject}_{croi}_betas_ave_te.npy').astype(\"float32\")\n",
    "#     X.append(cX)\n",
    "#     X_te.append(cX_te)\n",
    "X.append(np.load(f'{mridir}/{subject}_{croi}_betas_ave_tr.npy').astype(\"float32\"))\n",
    "X_te.append(np.load(f'{mridir}/{subject}_{croi}_betas_ave_te.npy').astype(\"float32\"))\n",
    "\n",
    "# 堆叠所有roi并转为np\n",
    "X = np.hstack(X)\n",
    "X_te = np.hstack(X_te)\n",
    "\n",
    "# 目标数据（图像特征）\n",
    "# Y = np.load(f'{featdir}/{subject}_each_{target}_tr.npy').astype(\"float32\").reshape([X.shape[0],-1])\n",
    "Y = np.load(f'{featdir}/{subject}_ave_{target}_tr.npy').astype(\"float32\").reshape([X.shape[0],-1])\n",
    "Y_te = np.load(f'{featdir}/{subject}_ave_{target}_te.npy').astype(\"float32\").reshape([X_te.shape[0],-1])"
   ]
  },
  {
   "cell_type": "code",
   "execution_count": 7,
   "id": "0fd1563e-cef8-4c9f-acad-dd5b5d773a27",
   "metadata": {
    "execution": {
     "iopub.execute_input": "2024-10-16T03:29:48.840635Z",
     "iopub.status.busy": "2024-10-16T03:29:48.839895Z",
     "iopub.status.idle": "2024-10-16T03:29:48.848479Z",
     "shell.execute_reply": "2024-10-16T03:29:48.847011Z",
     "shell.execute_reply.started": "2024-10-16T03:29:48.840585Z"
    }
   },
   "outputs": [
    {
     "name": "stdout",
     "output_type": "stream",
     "text": [
      "X (9000, 834), Y (9000, 147456), X_te (1000, 834), Y_te (1000, 147456)\n"
     ]
    }
   ],
   "source": [
    "print(f'X {X.shape}, Y {Y.shape}, X_te {X_te.shape}, Y_te {Y_te.shape}')"
   ]
  },
  {
   "cell_type": "code",
   "execution_count": 8,
   "id": "14e12674-7603-4f8f-ad2a-98c80fab8c8f",
   "metadata": {
    "execution": {
     "iopub.execute_input": "2024-10-16T03:29:58.374634Z",
     "iopub.status.busy": "2024-10-16T03:29:58.373909Z",
     "iopub.status.idle": "2024-10-16T03:37:10.332359Z",
     "shell.execute_reply": "2024-10-16T03:37:10.331025Z",
     "shell.execute_reply.started": "2024-10-16T03:29:58.374583Z"
    },
    "scrolled": true
   },
   "outputs": [
    {
     "name": "stdout",
     "output_type": "stream",
     "text": [
      "Now making decoding model for... subj01:  ['early', 'ventral', 'midventral', 'midlateral', 'lateral', 'parietal'], dpt\n"
     ]
    },
    {
     "data": {
      "text/html": [
       "<style>#sk-container-id-1 {color: black;}#sk-container-id-1 pre{padding: 0;}#sk-container-id-1 div.sk-toggleable {background-color: white;}#sk-container-id-1 label.sk-toggleable__label {cursor: pointer;display: block;width: 100%;margin-bottom: 0;padding: 0.3em;box-sizing: border-box;text-align: center;}#sk-container-id-1 label.sk-toggleable__label-arrow:before {content: \"▸\";float: left;margin-right: 0.25em;color: #696969;}#sk-container-id-1 label.sk-toggleable__label-arrow:hover:before {color: black;}#sk-container-id-1 div.sk-estimator:hover label.sk-toggleable__label-arrow:before {color: black;}#sk-container-id-1 div.sk-toggleable__content {max-height: 0;max-width: 0;overflow: hidden;text-align: left;background-color: #f0f8ff;}#sk-container-id-1 div.sk-toggleable__content pre {margin: 0.2em;color: black;border-radius: 0.25em;background-color: #f0f8ff;}#sk-container-id-1 input.sk-toggleable__control:checked~div.sk-toggleable__content {max-height: 200px;max-width: 100%;overflow: auto;}#sk-container-id-1 input.sk-toggleable__control:checked~label.sk-toggleable__label-arrow:before {content: \"▾\";}#sk-container-id-1 div.sk-estimator input.sk-toggleable__control:checked~label.sk-toggleable__label {background-color: #d4ebff;}#sk-container-id-1 div.sk-label input.sk-toggleable__control:checked~label.sk-toggleable__label {background-color: #d4ebff;}#sk-container-id-1 input.sk-hidden--visually {border: 0;clip: rect(1px 1px 1px 1px);clip: rect(1px, 1px, 1px, 1px);height: 1px;margin: -1px;overflow: hidden;padding: 0;position: absolute;width: 1px;}#sk-container-id-1 div.sk-estimator {font-family: monospace;background-color: #f0f8ff;border: 1px dotted black;border-radius: 0.25em;box-sizing: border-box;margin-bottom: 0.5em;}#sk-container-id-1 div.sk-estimator:hover {background-color: #d4ebff;}#sk-container-id-1 div.sk-parallel-item::after {content: \"\";width: 100%;border-bottom: 1px solid gray;flex-grow: 1;}#sk-container-id-1 div.sk-label:hover label.sk-toggleable__label {background-color: #d4ebff;}#sk-container-id-1 div.sk-serial::before {content: \"\";position: absolute;border-left: 1px solid gray;box-sizing: border-box;top: 0;bottom: 0;left: 50%;z-index: 0;}#sk-container-id-1 div.sk-serial {display: flex;flex-direction: column;align-items: center;background-color: white;padding-right: 0.2em;padding-left: 0.2em;position: relative;}#sk-container-id-1 div.sk-item {position: relative;z-index: 1;}#sk-container-id-1 div.sk-parallel {display: flex;align-items: stretch;justify-content: center;background-color: white;position: relative;}#sk-container-id-1 div.sk-item::before, #sk-container-id-1 div.sk-parallel-item::before {content: \"\";position: absolute;border-left: 1px solid gray;box-sizing: border-box;top: 0;bottom: 0;left: 50%;z-index: -1;}#sk-container-id-1 div.sk-parallel-item {display: flex;flex-direction: column;z-index: 1;position: relative;background-color: white;}#sk-container-id-1 div.sk-parallel-item:first-child::after {align-self: flex-end;width: 50%;}#sk-container-id-1 div.sk-parallel-item:last-child::after {align-self: flex-start;width: 50%;}#sk-container-id-1 div.sk-parallel-item:only-child::after {width: 0;}#sk-container-id-1 div.sk-dashed-wrapped {border: 1px dashed gray;margin: 0 0.4em 0.5em 0.4em;box-sizing: border-box;padding-bottom: 0.4em;background-color: white;}#sk-container-id-1 div.sk-label label {font-family: monospace;font-weight: bold;display: inline-block;line-height: 1.2em;}#sk-container-id-1 div.sk-label-container {text-align: center;}#sk-container-id-1 div.sk-container {/* jupyter's `normalize.less` sets `[hidden] { display: none; }` but bootstrap.min.css set `[hidden] { display: none !important; }` so we also need the `!important` here to be able to override the default hidden behavior on the sphinx rendered scikit-learn.org. See: https://github.com/scikit-learn/scikit-learn/issues/21755 */display: inline-block !important;position: relative;}#sk-container-id-1 div.sk-text-repr-fallback {display: none;}</style><div id=\"sk-container-id-1\" class=\"sk-top-container\"><div class=\"sk-text-repr-fallback\"><pre>Pipeline(steps=[(&#x27;pipeline&#x27;,\n",
       "                 Pipeline(steps=[(&#x27;standardscaler&#x27;, StandardScaler())])),\n",
       "                (&#x27;ridgecv&#x27;,\n",
       "                 RidgeCV(alphas=[1000.0, 3000.0, 6000.0, 9000.0, 10000.0,\n",
       "                                 30000.0, 60000.0, 90000.0, 100000.0]))])</pre><b>In a Jupyter environment, please rerun this cell to show the HTML representation or trust the notebook. <br />On GitHub, the HTML representation is unable to render, please try loading this page with nbviewer.org.</b></div><div class=\"sk-container\" hidden><div class=\"sk-item sk-dashed-wrapped\"><div class=\"sk-label-container\"><div class=\"sk-label sk-toggleable\"><input class=\"sk-toggleable__control sk-hidden--visually\" id=\"sk-estimator-id-1\" type=\"checkbox\" ><label for=\"sk-estimator-id-1\" class=\"sk-toggleable__label sk-toggleable__label-arrow\">Pipeline</label><div class=\"sk-toggleable__content\"><pre>Pipeline(steps=[(&#x27;pipeline&#x27;,\n",
       "                 Pipeline(steps=[(&#x27;standardscaler&#x27;, StandardScaler())])),\n",
       "                (&#x27;ridgecv&#x27;,\n",
       "                 RidgeCV(alphas=[1000.0, 3000.0, 6000.0, 9000.0, 10000.0,\n",
       "                                 30000.0, 60000.0, 90000.0, 100000.0]))])</pre></div></div></div><div class=\"sk-serial\"><div class=\"sk-item\"><div class=\"sk-label-container\"><div class=\"sk-label sk-toggleable\"><input class=\"sk-toggleable__control sk-hidden--visually\" id=\"sk-estimator-id-2\" type=\"checkbox\" ><label for=\"sk-estimator-id-2\" class=\"sk-toggleable__label sk-toggleable__label-arrow\">pipeline: Pipeline</label><div class=\"sk-toggleable__content\"><pre>Pipeline(steps=[(&#x27;standardscaler&#x27;, StandardScaler())])</pre></div></div></div><div class=\"sk-serial\"><div class=\"sk-item\"><div class=\"sk-estimator sk-toggleable\"><input class=\"sk-toggleable__control sk-hidden--visually\" id=\"sk-estimator-id-3\" type=\"checkbox\" ><label for=\"sk-estimator-id-3\" class=\"sk-toggleable__label sk-toggleable__label-arrow\">StandardScaler</label><div class=\"sk-toggleable__content\"><pre>StandardScaler()</pre></div></div></div></div></div><div class=\"sk-item\"><div class=\"sk-estimator sk-toggleable\"><input class=\"sk-toggleable__control sk-hidden--visually\" id=\"sk-estimator-id-4\" type=\"checkbox\" ><label for=\"sk-estimator-id-4\" class=\"sk-toggleable__label sk-toggleable__label-arrow\">RidgeCV</label><div class=\"sk-toggleable__content\"><pre>RidgeCV(alphas=[1000.0, 3000.0, 6000.0, 9000.0, 10000.0, 30000.0, 60000.0,\n",
       "                90000.0, 100000.0])</pre></div></div></div></div></div></div></div>"
      ],
      "text/plain": [
       "Pipeline(steps=[('pipeline',\n",
       "                 Pipeline(steps=[('standardscaler', StandardScaler())])),\n",
       "                ('ridgecv',\n",
       "                 RidgeCV(alphas=[1000.0, 3000.0, 6000.0, 9000.0, 10000.0,\n",
       "                                 30000.0, 60000.0, 90000.0, 100000.0]))])"
      ]
     },
     "execution_count": 8,
     "metadata": {},
     "output_type": "execute_result"
    }
   ],
   "source": [
    "# 训练回归拟合模型\n",
    "print(f'Now making decoding model for... {subject}:  {roi}, {target}')\n",
    "pipeline.fit(X, Y)"
   ]
  },
  {
   "cell_type": "code",
   "execution_count": 9,
   "id": "49ebc569-929e-4637-b9a3-e9354588b6e7",
   "metadata": {
    "execution": {
     "iopub.execute_input": "2024-10-16T03:37:10.334530Z",
     "iopub.status.busy": "2024-10-16T03:37:10.334141Z",
     "iopub.status.idle": "2024-10-16T03:37:12.743542Z",
     "shell.execute_reply": "2024-10-16T03:37:12.742939Z",
     "shell.execute_reply.started": "2024-10-16T03:37:10.334503Z"
    }
   },
   "outputs": [
    {
     "name": "stdout",
     "output_type": "stream",
     "text": [
      "Prediction accuracy is: 0.276\n"
     ]
    }
   ],
   "source": [
    "# 模型预测和评估\n",
    "brain_embs = pipeline.predict(X_te)\n",
    "rs = correlation_score(Y_te.T,brain_embs.T)\n",
    "print(f'Prediction accuracy is: {np.mean(rs):3.3}')"
   ]
  },
  {
   "cell_type": "code",
   "execution_count": 10,
   "id": "ba276cd0-7b34-439e-92ab-4c04cb0aea69",
   "metadata": {
    "execution": {
     "iopub.execute_input": "2024-10-16T03:37:12.744529Z",
     "iopub.status.busy": "2024-10-16T03:37:12.744350Z",
     "iopub.status.idle": "2024-10-16T03:37:12.747929Z",
     "shell.execute_reply": "2024-10-16T03:37:12.747389Z",
     "shell.execute_reply.started": "2024-10-16T03:37:12.744515Z"
    },
    "scrolled": true
   },
   "outputs": [
    {
     "name": "stdout",
     "output_type": "stream",
     "text": [
      "(1000, 147456)\n"
     ]
    }
   ],
   "source": [
    "# print(X_te[0])\n",
    "# print(brain_embs[0])\n",
    "# print(Y_te[0])\n",
    "print(brain_embs.shape)"
   ]
  },
  {
   "cell_type": "code",
   "execution_count": 11,
   "id": "b515d407-ab82-4fad-bf36-f5f2b1439788",
   "metadata": {
    "execution": {
     "iopub.execute_input": "2024-10-16T03:37:12.749110Z",
     "iopub.status.busy": "2024-10-16T03:37:12.748954Z",
     "iopub.status.idle": "2024-10-16T03:37:12.760278Z",
     "shell.execute_reply": "2024-10-16T03:37:12.759662Z",
     "shell.execute_reply.started": "2024-10-16T03:37:12.749097Z"
    }
   },
   "outputs": [
    {
     "name": "stdout",
     "output_type": "stream",
     "text": [
      "Best alpha parameter: [99999.97 99999.97 99999.97 ... 99999.97 99999.97 99999.97]\n"
     ]
    }
   ],
   "source": [
    "best_alpha = pipeline.named_steps['ridgecv'].best_alphas_\n",
    "print(\"Best alpha parameter:\", best_alpha)"
   ]
  },
  {
   "cell_type": "code",
   "execution_count": 19,
   "id": "c904ac01-d4da-4463-b2fe-f9529ba911ca",
   "metadata": {
    "execution": {
     "iopub.execute_input": "2024-09-18T08:50:34.502057Z",
     "iopub.status.busy": "2024-09-18T08:50:34.501521Z",
     "iopub.status.idle": "2024-09-18T08:50:48.123648Z",
     "shell.execute_reply": "2024-09-18T08:50:48.122256Z",
     "shell.execute_reply.started": "2024-09-18T08:50:34.502009Z"
    }
   },
   "outputs": [],
   "source": [
    "# 保存预测结果\n",
    "np.save(f'{savedir}/{subject}_{\"_\".join(croi)}_brain_embs_{target}.npy',brain_embs)"
   ]
  },
  {
   "cell_type": "markdown",
   "id": "e89b700c-befa-4094-b9d2-048d293dbf58",
   "metadata": {},
   "source": [
    "### 下面是对齐后的解码"
   ]
  },
  {
   "cell_type": "code",
   "execution_count": 19,
   "id": "fee59e7c-0b4e-47d5-8975-aeb03fdad4d2",
   "metadata": {
    "execution": {
     "iopub.execute_input": "2024-07-31T13:30:42.257999Z",
     "iopub.status.busy": "2024-07-31T13:30:42.257175Z",
     "iopub.status.idle": "2024-07-31T13:30:42.279000Z",
     "shell.execute_reply": "2024-07-31T13:30:42.277440Z",
     "shell.execute_reply.started": "2024-07-31T13:30:42.257948Z"
    }
   },
   "outputs": [],
   "source": [
    "brain_align = np.load(f'../data/fmri_align/subj02/subj02_{roi[0]}_brain_align_{subject}.npy')"
   ]
  },
  {
   "cell_type": "code",
   "execution_count": 20,
   "id": "1c6dea89-c91c-46cd-8dc7-584f6b51f8ef",
   "metadata": {
    "execution": {
     "iopub.execute_input": "2024-07-31T13:30:42.754496Z",
     "iopub.status.busy": "2024-07-31T13:30:42.753768Z",
     "iopub.status.idle": "2024-07-31T13:30:42.786692Z",
     "shell.execute_reply": "2024-07-31T13:30:42.785585Z",
     "shell.execute_reply.started": "2024-07-31T13:30:42.754448Z"
    }
   },
   "outputs": [],
   "source": [
    "Y_te = np.load(f'../data/nsdfeat/subj02_feat/subj02_ave_{target}_te.npy').astype(\"float32\")"
   ]
  },
  {
   "cell_type": "code",
   "execution_count": 21,
   "id": "8c74d544-a18e-4a11-a118-f60f2c648310",
   "metadata": {
    "execution": {
     "iopub.execute_input": "2024-07-31T13:30:43.273570Z",
     "iopub.status.busy": "2024-07-31T13:30:43.272827Z",
     "iopub.status.idle": "2024-07-31T13:30:43.527359Z",
     "shell.execute_reply": "2024-07-31T13:30:43.526797Z",
     "shell.execute_reply.started": "2024-07-31T13:30:43.273523Z"
    }
   },
   "outputs": [
    {
     "name": "stdout",
     "output_type": "stream",
     "text": [
      "Prediction accuracy is: 0.0481\n"
     ]
    }
   ],
   "source": [
    "brain_embs = pipeline.predict(brain_align)\n",
    "rs = correlation_score(Y_te.T,brain_embs.T)\n",
    "print(f'Prediction accuracy is: {np.mean(rs):3.3}')"
   ]
  },
  {
   "cell_type": "code",
   "execution_count": 23,
   "id": "0872d091-1fd7-4321-b6ca-d785e6d721ca",
   "metadata": {
    "execution": {
     "iopub.execute_input": "2024-07-31T13:33:23.549003Z",
     "iopub.status.busy": "2024-07-31T13:33:23.548408Z",
     "iopub.status.idle": "2024-07-31T13:33:24.196227Z",
     "shell.execute_reply": "2024-07-31T13:33:24.194749Z",
     "shell.execute_reply.started": "2024-07-31T13:33:23.548953Z"
    }
   },
   "outputs": [],
   "source": [
    "np.save(f'../data/decoded/subj02/subj02_{\"_\".join(roi)}_brain_embs_{target}.npy',brain_embs)"
   ]
  },
  {
   "cell_type": "code",
   "execution_count": null,
   "id": "9e308a7a-8c67-4042-997d-e1d438664191",
   "metadata": {},
   "outputs": [],
   "source": []
  },
  {
   "cell_type": "code",
   "execution_count": null,
   "id": "2f013b31-0fd7-4310-b2e0-f17452668a91",
   "metadata": {},
   "outputs": [],
   "source": []
  }
 ],
 "metadata": {
  "kernelspec": {
   "display_name": "ldm",
   "language": "python",
   "name": "ldm"
  },
  "language_info": {
   "codemirror_mode": {
    "name": "ipython",
    "version": 3
   },
   "file_extension": ".py",
   "mimetype": "text/x-python",
   "name": "python",
   "nbconvert_exporter": "python",
   "pygments_lexer": "ipython3",
   "version": "3.8.18"
  },
  "widgets": {
   "application/vnd.jupyter.widget-state+json": {
    "state": {},
    "version_major": 2,
    "version_minor": 0
   }
  }
 },
 "nbformat": 4,
 "nbformat_minor": 5
}
