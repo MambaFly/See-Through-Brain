{
 "cells": [
  {
   "cell_type": "markdown",
   "id": "2ac01e9e-fbd5-4fd3-a3ea-9a54a7550c94",
   "metadata": {},
   "source": [
    "# 使用扩散模型对大脑解码"
   ]
  },
  {
   "cell_type": "code",
   "execution_count": 1,
   "id": "7e99221c-dbcf-4fe0-8aa4-9cf47b36802d",
   "metadata": {
    "execution": {
     "iopub.execute_input": "2024-10-16T04:19:58.495243Z",
     "iopub.status.busy": "2024-10-16T04:19:58.494634Z",
     "iopub.status.idle": "2024-10-16T04:20:07.823547Z",
     "shell.execute_reply": "2024-10-16T04:20:07.822109Z",
     "shell.execute_reply.started": "2024-10-16T04:19:58.495184Z"
    }
   },
   "outputs": [],
   "source": [
    "import h5py\n",
    "from PIL import Image\n",
    "import scipy.io\n",
    "import argparse, os\n",
    "import pandas as pd\n",
    "import PIL\n",
    "import torch\n",
    "import numpy as np\n",
    "from omegaconf import OmegaConf\n",
    "from tqdm import trange\n",
    "from einops import rearrange\n",
    "from torch import autocast\n",
    "from contextlib import nullcontext\n",
    "from pytorch_lightning import seed_everything\n",
    "import sys\n",
    "from nsd_access.nsda import NSDAccess\n",
    "from ldm.util import instantiate_from_config\n",
    "from ldm.models.diffusion.ddim import DDIMSampler\n",
    "# from ldm.data.util import AddMiDaS"
   ]
  },
  {
   "cell_type": "code",
   "execution_count": 2,
   "id": "22bfca36-a6a5-4e87-8307-42ae990203fe",
   "metadata": {
    "execution": {
     "iopub.execute_input": "2024-10-16T04:20:22.491173Z",
     "iopub.status.busy": "2024-10-16T04:20:22.490178Z",
     "iopub.status.idle": "2024-10-16T04:20:22.503487Z",
     "shell.execute_reply": "2024-10-16T04:20:22.501736Z",
     "shell.execute_reply.started": "2024-10-16T04:20:22.491121Z"
    }
   },
   "outputs": [],
   "source": [
    "def load_model_from_config(config, ckpt, gpu, verbose=False):\n",
    "    print(f\"Loading model from {ckpt}\")\n",
    "    pl_sd = torch.load(ckpt, map_location=\"cpu\")\n",
    "    if \"global_step\" in pl_sd:\n",
    "        print(f\"Global Step: {pl_sd['global_step']}\")\n",
    "    sd = pl_sd[\"state_dict\"]\n",
    "    model = instantiate_from_config(config.model)\n",
    "    m, u = model.load_state_dict(sd, strict=False)\n",
    "    if len(m) > 0 and verbose:\n",
    "        print(\"missing keys:\")\n",
    "        print(m)\n",
    "    if len(u) > 0 and verbose:\n",
    "        print(\"unexpected keys:\")\n",
    "        print(u)\n",
    "    model.cuda(f\"cuda:{gpu}\")\n",
    "    model.eval()\n",
    "    return model"
   ]
  },
  {
   "cell_type": "code",
   "execution_count": 3,
   "id": "b7157c37-1262-4b62-a6a4-1d796b884324",
   "metadata": {
    "execution": {
     "iopub.execute_input": "2024-10-16T04:20:23.440980Z",
     "iopub.status.busy": "2024-10-16T04:20:23.440419Z",
     "iopub.status.idle": "2024-10-16T04:20:23.450763Z",
     "shell.execute_reply": "2024-10-16T04:20:23.449059Z",
     "shell.execute_reply.started": "2024-10-16T04:20:23.440936Z"
    }
   },
   "outputs": [],
   "source": [
    "def load_img_from_arr(img_arr):\n",
    "    image = Image.fromarray(img_arr).convert(\"RGB\")\n",
    "    w, h = 512, 512\n",
    "    image = image.resize((w, h), resample=PIL.Image.LANCZOS)\n",
    "    image = np.array(image).astype(np.float32) / 255.0\n",
    "    image = image[None].transpose(0, 3, 1, 2)\n",
    "    image = torch.from_numpy(image)\n",
    "    return 2.*image - 1."
   ]
  },
  {
   "cell_type": "code",
   "execution_count": 4,
   "id": "cbe3de9e-0f1a-4e09-98c4-2532e4cc8927",
   "metadata": {
    "execution": {
     "iopub.execute_input": "2024-10-16T04:20:24.288510Z",
     "iopub.status.busy": "2024-10-16T04:20:24.287962Z",
     "iopub.status.idle": "2024-10-16T04:20:24.308519Z",
     "shell.execute_reply": "2024-10-16T04:20:24.307197Z",
     "shell.execute_reply.started": "2024-10-16T04:20:24.288466Z"
    }
   },
   "outputs": [
    {
     "name": "stderr",
     "output_type": "stream",
     "text": [
      "Global seed set to 42\n"
     ]
    }
   ],
   "source": [
    "# Set parameters\n",
    "seed = 42\n",
    "seed_everything(seed)\n",
    "imgidx = 0\n",
    "gpu = 0\n",
    "method = \"bright\"\n",
    "subject= \"subj01\"\n",
    "# gandir = f'../data/decoded/gan_recon_img/all_layers/{subject}/streams/'\n",
    "# captdir = f'../data/decoded/{subject}/captions/'"
   ]
  },
  {
   "cell_type": "code",
   "execution_count": 5,
   "id": "9300b78d-fdd0-441f-b27c-52dad49a4b04",
   "metadata": {
    "execution": {
     "iopub.execute_input": "2024-10-16T04:20:26.890440Z",
     "iopub.status.busy": "2024-10-16T04:20:26.889890Z",
     "iopub.status.idle": "2024-10-16T04:20:27.003837Z",
     "shell.execute_reply": "2024-10-16T04:20:27.002226Z",
     "shell.execute_reply.started": "2024-10-16T04:20:26.890397Z"
    }
   },
   "outputs": [],
   "source": [
    "# Load NSD information\n",
    "nsd_expdesign = scipy.io.loadmat('../data/nsd/nsddata/experiments/nsd/nsd_expdesign.mat')\n",
    "\n",
    "# Note that mos of them are 1-base index!\n",
    "# This is why I subtract 1\n",
    "sharedix = nsd_expdesign['sharedix'] -1 \n",
    "\n",
    "nsda = NSDAccess('../data/nsd/')\n",
    "sf = h5py.File(nsda.stimuli_file, 'r')\n",
    "sdataset = sf.get('imgBrick')\n",
    "\n",
    "stims_ave = np.load(f'../data/stim/{subject}/{subject}_stims_ave.npy')"
   ]
  },
  {
   "cell_type": "code",
   "execution_count": 6,
   "id": "288d77ab-e71f-47ed-be9c-c705f733cdb5",
   "metadata": {
    "execution": {
     "iopub.execute_input": "2024-10-16T04:20:30.671307Z",
     "iopub.status.busy": "2024-10-16T04:20:30.670751Z",
     "iopub.status.idle": "2024-10-16T04:20:30.740089Z",
     "shell.execute_reply": "2024-10-16T04:20:30.739445Z",
     "shell.execute_reply.started": "2024-10-16T04:20:30.671263Z"
    }
   },
   "outputs": [],
   "source": [
    "tr_idx = np.zeros_like(stims_ave)\n",
    "for idx, s in enumerate(stims_ave):\n",
    "    if s in sharedix:\n",
    "        tr_idx[idx] = 0\n",
    "    else:\n",
    "        tr_idx[idx] = 1"
   ]
  },
  {
   "cell_type": "code",
   "execution_count": 7,
   "id": "62778084-87d4-4189-a530-31a50551cc45",
   "metadata": {
    "execution": {
     "iopub.execute_input": "2024-10-16T04:20:33.378768Z",
     "iopub.status.busy": "2024-10-16T04:20:33.378030Z",
     "iopub.status.idle": "2024-10-16T04:21:27.094584Z",
     "shell.execute_reply": "2024-10-16T04:21:27.093632Z",
     "shell.execute_reply.started": "2024-10-16T04:20:33.378722Z"
    }
   },
   "outputs": [
    {
     "name": "stdout",
     "output_type": "stream",
     "text": [
      "Loading model from ../stable-diffusion_v1/models/ldm/stable-diffusion-v1/sd-v1-4.ckpt\n"
     ]
    },
    {
     "name": "stderr",
     "output_type": "stream",
     "text": [
      "/tmp/ipykernel_55462/215837999.py:3: FutureWarning: You are using `torch.load` with `weights_only=False` (the current default value), which uses the default pickle module implicitly. It is possible to construct malicious pickle data which will execute arbitrary code during unpickling (See https://github.com/pytorch/pytorch/blob/main/SECURITY.md#untrusted-models for more details). In a future release, the default value for `weights_only` will be flipped to `True`. This limits the functions that could be executed during unpickling. Arbitrary objects will no longer be allowed to be loaded via this mode unless they are explicitly allowlisted by the user via `torch.serialization.add_safe_globals`. We recommend you start setting `weights_only=True` for any use case where you don't have full control of the loaded file. Please open an issue on GitHub for any issues related to this experimental feature.\n",
      "  pl_sd = torch.load(ckpt, map_location=\"cpu\")\n"
     ]
    },
    {
     "name": "stdout",
     "output_type": "stream",
     "text": [
      "Global Step: 470000\n",
      "LatentDiffusion: Running in eps-prediction mode\n",
      "DiffusionWrapper has 859.52 M params.\n",
      "making attention of type 'vanilla' with 512 in_channels\n",
      "Working with z of shape (1, 4, 32, 32) = 4096 dimensions.\n",
      "making attention of type 'vanilla' with 512 in_channels\n"
     ]
    }
   ],
   "source": [
    "# Load Stable Diffusion Model\n",
    "config = '../stable-diffusion_v1/configs/stable-diffusion/v1-inference.yaml'\n",
    "ckpt = '../stable-diffusion_v1/models/ldm/stable-diffusion-v1/sd-v1-4.ckpt'\n",
    "config = OmegaConf.load(f\"{config}\")\n",
    "torch.cuda.set_device(gpu)\n",
    "model = load_model_from_config(config, f\"{ckpt}\", gpu)"
   ]
  },
  {
   "cell_type": "code",
   "execution_count": 8,
   "id": "ebe295a5-a934-4161-929d-8b92ddaa62ac",
   "metadata": {
    "execution": {
     "iopub.execute_input": "2024-10-16T04:21:37.956071Z",
     "iopub.status.busy": "2024-10-16T04:21:37.955317Z",
     "iopub.status.idle": "2024-10-16T04:21:37.964933Z",
     "shell.execute_reply": "2024-10-16T04:21:37.963613Z",
     "shell.execute_reply.started": "2024-10-16T04:21:37.956019Z"
    }
   },
   "outputs": [],
   "source": [
    "n_samples = 1\n",
    "ddim_steps = 50\n",
    "ddim_eta = 0.0\n",
    "strength = 0.8\n",
    "scale = 5.0\n",
    "n_iter = 5\n",
    "precision = 'autocast'\n",
    "precision_scope = autocast if precision == \"autocast\" else nullcontext\n",
    "batch_size = n_samples\n",
    "device = torch.device(\"cuda\") if torch.cuda.is_available() else torch.device(\"cpu\")"
   ]
  },
  {
   "cell_type": "code",
   "execution_count": 9,
   "id": "55a22778-ab30-4da6-998f-f9daf7af4257",
   "metadata": {
    "execution": {
     "iopub.execute_input": "2024-10-16T04:21:39.281810Z",
     "iopub.status.busy": "2024-10-16T04:21:39.281109Z",
     "iopub.status.idle": "2024-10-16T04:21:39.293017Z",
     "shell.execute_reply": "2024-10-16T04:21:39.291665Z",
     "shell.execute_reply.started": "2024-10-16T04:21:39.281765Z"
    }
   },
   "outputs": [],
   "source": [
    "# 解码结果输出路径\n",
    "outdir = f'../data/output/image-{method}/{subject}/'\n",
    "os.makedirs(outdir, exist_ok=True)\n",
    "sample_path = os.path.join(outdir, f\"samples\")\n",
    "os.makedirs(sample_path, exist_ok=True)"
   ]
  },
  {
   "cell_type": "code",
   "execution_count": 10,
   "id": "96312a5c-25ce-4dc8-9602-39b9570f2667",
   "metadata": {
    "execution": {
     "iopub.execute_input": "2024-10-16T04:21:50.008825Z",
     "iopub.status.busy": "2024-10-16T04:21:50.008208Z",
     "iopub.status.idle": "2024-10-16T04:21:50.073423Z",
     "shell.execute_reply": "2024-10-16T04:21:50.071633Z",
     "shell.execute_reply.started": "2024-10-16T04:21:50.008782Z"
    }
   },
   "outputs": [
    {
     "name": "stdout",
     "output_type": "stream",
     "text": [
      "target t_enc is 40 steps\n"
     ]
    }
   ],
   "source": [
    "precision = 'autocast'\n",
    "device = torch.device(f\"cuda:{gpu}\") if torch.cuda.is_available() else torch.device(\"cpu\")\n",
    "model = model.to(device)\n",
    "sampler = DDIMSampler(model)\n",
    "\n",
    "sampler.make_schedule(ddim_num_steps=ddim_steps, ddim_eta=ddim_eta, verbose=False)\n",
    "\n",
    "assert 0. <= strength <= 1., 'can only work with strength in [0.0, 1.0]'\n",
    "t_enc = int(strength * ddim_steps)\n",
    "print(f\"target t_enc is {t_enc} steps\")"
   ]
  },
  {
   "cell_type": "code",
   "execution_count": null,
   "id": "05f5d141-90b9-468c-a804-abf210cacb2f",
   "metadata": {},
   "outputs": [],
   "source": []
  },
  {
   "cell_type": "code",
   "execution_count": 15,
   "id": "249a1b2a-f399-4da9-9ca8-9f7f943b3e5a",
   "metadata": {
    "execution": {
     "iopub.execute_input": "2024-10-16T04:35:34.635873Z",
     "iopub.status.busy": "2024-10-16T04:35:34.635131Z",
     "iopub.status.idle": "2024-10-16T04:35:34.648638Z",
     "shell.execute_reply": "2024-10-16T04:35:34.647042Z",
     "shell.execute_reply.started": "2024-10-16T04:35:34.635827Z"
    }
   },
   "outputs": [],
   "source": [
    "# Load Prediction (C, InitLatent, Depth(cc))\n",
    "captdir = f'../../Brain-Decoded/{subject}'\n",
    "dptdir = f'../../data/decoded/{subject}/dpt_fromemb/'\n",
    "\n",
    "# C\n",
    "captions = pd.read_csv(f'{captdir}/captions_brain.csv', sep='\\t',header=None)"
   ]
  },
  {
   "cell_type": "code",
   "execution_count": 139,
   "id": "d9411a9a-404e-464d-8908-f6d16b17f5b2",
   "metadata": {
    "execution": {
     "iopub.execute_input": "2024-10-16T06:30:34.345287Z",
     "iopub.status.busy": "2024-10-16T06:30:34.344548Z",
     "iopub.status.idle": "2024-10-16T06:30:34.353891Z",
     "shell.execute_reply": "2024-10-16T06:30:34.352333Z",
     "shell.execute_reply.started": "2024-10-16T06:30:34.345238Z"
    }
   },
   "outputs": [],
   "source": [
    "# Save Directories\n",
    "outdir = f'../data/output/image-bright/{subject}/'\n",
    "os.makedirs(outdir, exist_ok=True)\n",
    "sample_path = os.path.join(outdir, f\"samples\")\n",
    "os.makedirs(sample_path, exist_ok=True)"
   ]
  },
  {
   "cell_type": "code",
   "execution_count": 166,
   "id": "e003fe48-5c66-4bab-82e2-923ee5476e89",
   "metadata": {
    "execution": {
     "iopub.execute_input": "2024-10-16T06:34:58.165146Z",
     "iopub.status.busy": "2024-10-16T06:34:58.164531Z",
     "iopub.status.idle": "2024-10-16T06:34:58.171782Z",
     "shell.execute_reply": "2024-10-16T06:34:58.170349Z",
     "shell.execute_reply.started": "2024-10-16T06:34:58.165101Z"
    }
   },
   "outputs": [],
   "source": [
    "imgidx = 5"
   ]
  },
  {
   "cell_type": "code",
   "execution_count": 167,
   "id": "f668a9b2-aebf-4ae0-9f9c-21adecc503a8",
   "metadata": {
    "execution": {
     "iopub.execute_input": "2024-10-16T06:34:58.332692Z",
     "iopub.status.busy": "2024-10-16T06:34:58.332169Z",
     "iopub.status.idle": "2024-10-16T06:34:58.554038Z",
     "shell.execute_reply": "2024-10-16T06:34:58.553354Z",
     "shell.execute_reply.started": "2024-10-16T06:34:58.332650Z"
    }
   },
   "outputs": [],
   "source": [
    "# Load z (Image)\n",
    "imgidx_te = np.where(tr_idx==0)[0][imgidx] # Extract test image index\n",
    "idx73k= stims_ave[imgidx_te]\n",
    "Image.fromarray(np.squeeze(sdataset[idx73k,:,:,:]).astype(np.uint8)).save(\n",
    "    os.path.join(sample_path, f\"{imgidx:05}_org.png\"))    \n",
    "\n",
    "if method in ['init','text']:\n",
    "    roi_latent = 'early'\n",
    "    init_latent = np.load(f'../data/decoded/{subject}/{subject}_{roi_latent}_brain_embs_init_latent.npy')\n",
    "    imgarr = torch.Tensor(init_latent[imgidx,:].reshape(4,40,40)).unsqueeze(0).to('cuda')\n",
    "\n",
    "    # Generate image from Z\n",
    "    precision_scope = autocast if precision == \"autocast\" else nullcontext\n",
    "    with torch.no_grad():\n",
    "        with precision_scope(\"cuda\"):\n",
    "            with model.ema_scope():\n",
    "                x_samples = model.decode_first_stage(imgarr)\n",
    "                x_samples = torch.clamp((x_samples + 1.0) / 2.0, min=0.0, max=1.0)\n",
    "\n",
    "                for x_sample in x_samples:\n",
    "                    x_sample = 255. * rearrange(x_sample.cpu().numpy(), 'c h w -> h w c')\n",
    "    im = Image.fromarray(x_sample.astype(np.uint8)).resize((512,512))\n",
    "    im = np.array(im)\n",
    "\n",
    "elif method == 'gan':\n",
    "    ganpath = f'{gandir}/recon_image_normalized-VGG19-fc8-{subject}-streams-{imgidx:06}.tiff'\n",
    "    im = Image.open(ganpath).resize((512,512))\n",
    "    im = np.array(im)\n",
    "\n",
    "init_image = load_img_from_arr(im).to('cuda')\n",
    "init_latent = model.get_first_stage_encoding(model.encode_first_stage(init_image))  # move to latent space"
   ]
  },
  {
   "cell_type": "code",
   "execution_count": 168,
   "id": "764f9c03-e39e-4e08-9545-1e6d9964f329",
   "metadata": {
    "execution": {
     "iopub.execute_input": "2024-10-16T06:34:58.555530Z",
     "iopub.status.busy": "2024-10-16T06:34:58.555215Z",
     "iopub.status.idle": "2024-10-16T06:34:58.571288Z",
     "shell.execute_reply": "2024-10-16T06:34:58.570720Z",
     "shell.execute_reply.started": "2024-10-16T06:34:58.555512Z"
    }
   },
   "outputs": [],
   "source": [
    "# Load c (Semantics)\n",
    "if method == 'init':\n",
    "    roi_c = 'ventral'\n",
    "    c_embs = np.load(f'../data/decoded/{subject}/{subject}_{roi_c}_brain_embs_c.npy')\n",
    "    carr = c_embs[imgidx,:].reshape(77,768)\n",
    "    c = torch.Tensor(carr).unsqueeze(0).to('cuda')\n",
    "elif method in ['text','depth','bright']:\n",
    "    captions = pd.read_csv(f'{captdir}/captions_brain.csv', sep='\\t',header=None)\n",
    "    c = model.get_learned_conditioning(captions.iloc[imgidx][0]).to('cuda')"
   ]
  },
  {
   "cell_type": "code",
   "execution_count": 169,
   "id": "30ef1375-9829-44e5-a8c1-649a6056ee55",
   "metadata": {
    "execution": {
     "iopub.execute_input": "2024-10-16T06:34:58.754183Z",
     "iopub.status.busy": "2024-10-16T06:34:58.753576Z",
     "iopub.status.idle": "2024-10-16T06:34:58.858222Z",
     "shell.execute_reply": "2024-10-16T06:34:58.856769Z",
     "shell.execute_reply.started": "2024-10-16T06:34:58.754142Z"
    }
   },
   "outputs": [],
   "source": [
    "# Load cc(depth/bright)\n",
    "cc = torch.Tensor(np.load(f'{dptdir}/{imgidx:06}.npy')).to('cuda')"
   ]
  },
  {
   "cell_type": "code",
   "execution_count": 170,
   "id": "3d0941b9-84b7-487c-9e1c-24ad717c631b",
   "metadata": {
    "execution": {
     "iopub.execute_input": "2024-10-16T06:34:58.987663Z",
     "iopub.status.busy": "2024-10-16T06:34:58.987006Z",
     "iopub.status.idle": "2024-10-16T06:35:11.841583Z",
     "shell.execute_reply": "2024-10-16T06:35:11.840923Z",
     "shell.execute_reply.started": "2024-10-16T06:34:58.987618Z"
    }
   },
   "outputs": [
    {
     "name": "stderr",
     "output_type": "stream",
     "text": [
      "Sampling:   0%|          | 0/5 [00:00<?, ?it/s]"
     ]
    },
    {
     "name": "stdout",
     "output_type": "stream",
     "text": [
      "Running DDIM Sampling with 40 timesteps\n"
     ]
    },
    {
     "name": "stderr",
     "output_type": "stream",
     "text": [
      "\n",
      "Decoding image:   0%|          | 0/40 [00:00<?, ?it/s]\u001b[A\n",
      "Decoding image:   5%|▌         | 2/40 [00:00<00:02, 15.16it/s]\u001b[A\n",
      "Decoding image:  10%|█         | 4/40 [00:00<00:02, 16.11it/s]\u001b[A\n",
      "Decoding image:  15%|█▌        | 6/40 [00:00<00:02, 16.45it/s]\u001b[A\n",
      "Decoding image:  20%|██        | 8/40 [00:00<00:01, 16.52it/s]\u001b[A\n",
      "Decoding image:  25%|██▌       | 10/40 [00:00<00:01, 16.62it/s]\u001b[A\n",
      "Decoding image:  30%|███       | 12/40 [00:00<00:01, 16.69it/s]\u001b[A\n",
      "Decoding image:  35%|███▌      | 14/40 [00:00<00:01, 16.67it/s]\u001b[A\n",
      "Decoding image:  40%|████      | 16/40 [00:00<00:01, 16.72it/s]\u001b[A\n",
      "Decoding image:  45%|████▌     | 18/40 [00:01<00:01, 16.75it/s]\u001b[A\n",
      "Decoding image:  50%|█████     | 20/40 [00:01<00:01, 16.78it/s]\u001b[A\n",
      "Decoding image:  55%|█████▌    | 22/40 [00:01<00:01, 16.80it/s]\u001b[A\n",
      "Decoding image:  60%|██████    | 24/40 [00:01<00:00, 16.17it/s]\u001b[A\n",
      "Decoding image:  65%|██████▌   | 26/40 [00:01<00:00, 16.37it/s]\u001b[A\n",
      "Decoding image:  70%|███████   | 28/40 [00:01<00:00, 16.53it/s]\u001b[A\n",
      "Decoding image:  75%|███████▌  | 30/40 [00:01<00:00, 16.64it/s]\u001b[A\n",
      "Decoding image:  80%|████████  | 32/40 [00:01<00:00, 16.71it/s]\u001b[A\n",
      "Decoding image:  85%|████████▌ | 34/40 [00:02<00:00, 16.76it/s]\u001b[A\n",
      "Decoding image:  90%|█████████ | 36/40 [00:02<00:00, 16.81it/s]\u001b[A\n",
      "Decoding image:  95%|█████████▌| 38/40 [00:02<00:00, 16.84it/s]\u001b[A\n",
      "Decoding image: 100%|██████████| 40/40 [00:02<00:00, 16.62it/s]\u001b[A\n",
      "Sampling:  20%|██        | 1/5 [00:02<00:10,  2.58s/it]"
     ]
    },
    {
     "name": "stdout",
     "output_type": "stream",
     "text": [
      "Running DDIM Sampling with 40 timesteps\n"
     ]
    },
    {
     "name": "stderr",
     "output_type": "stream",
     "text": [
      "\n",
      "Decoding image:   0%|          | 0/40 [00:00<?, ?it/s]\u001b[A\n",
      "Decoding image:   5%|▌         | 2/40 [00:00<00:02, 16.96it/s]\u001b[A\n",
      "Decoding image:  10%|█         | 4/40 [00:00<00:02, 16.91it/s]\u001b[A\n",
      "Decoding image:  15%|█▌        | 6/40 [00:00<00:02, 16.88it/s]\u001b[A\n",
      "Decoding image:  20%|██        | 8/40 [00:00<00:01, 16.90it/s]\u001b[A\n",
      "Decoding image:  25%|██▌       | 10/40 [00:00<00:01, 16.90it/s]\u001b[A\n",
      "Decoding image:  30%|███       | 12/40 [00:00<00:01, 16.90it/s]\u001b[A\n",
      "Decoding image:  35%|███▌      | 14/40 [00:00<00:01, 16.91it/s]\u001b[A\n",
      "Decoding image:  40%|████      | 16/40 [00:00<00:01, 16.89it/s]\u001b[A\n",
      "Decoding image:  45%|████▌     | 18/40 [00:01<00:01, 16.90it/s]\u001b[A\n",
      "Decoding image:  50%|█████     | 20/40 [00:01<00:01, 16.91it/s]\u001b[A\n",
      "Decoding image:  55%|█████▌    | 22/40 [00:01<00:01, 16.92it/s]\u001b[A\n",
      "Decoding image:  60%|██████    | 24/40 [00:01<00:00, 16.93it/s]\u001b[A\n",
      "Decoding image:  65%|██████▌   | 26/40 [00:01<00:00, 16.92it/s]\u001b[A\n",
      "Decoding image:  70%|███████   | 28/40 [00:01<00:00, 16.93it/s]\u001b[A\n",
      "Decoding image:  75%|███████▌  | 30/40 [00:01<00:00, 16.93it/s]\u001b[A\n",
      "Decoding image:  80%|████████  | 32/40 [00:01<00:00, 16.93it/s]\u001b[A\n",
      "Decoding image:  85%|████████▌ | 34/40 [00:02<00:00, 16.94it/s]\u001b[A\n",
      "Decoding image:  90%|█████████ | 36/40 [00:02<00:00, 16.95it/s]\u001b[A\n",
      "Decoding image:  95%|█████████▌| 38/40 [00:02<00:00, 16.96it/s]\u001b[A\n",
      "Decoding image: 100%|██████████| 40/40 [00:02<00:00, 16.90it/s]\u001b[A\n",
      "Sampling:  40%|████      | 2/5 [00:05<00:07,  2.57s/it]"
     ]
    },
    {
     "name": "stdout",
     "output_type": "stream",
     "text": [
      "Running DDIM Sampling with 40 timesteps\n"
     ]
    },
    {
     "name": "stderr",
     "output_type": "stream",
     "text": [
      "\n",
      "Decoding image:   0%|          | 0/40 [00:00<?, ?it/s]\u001b[A\n",
      "Decoding image:   5%|▌         | 2/40 [00:00<00:02, 16.97it/s]\u001b[A\n",
      "Decoding image:  10%|█         | 4/40 [00:00<00:02, 16.93it/s]\u001b[A\n",
      "Decoding image:  15%|█▌        | 6/40 [00:00<00:02, 16.92it/s]\u001b[A\n",
      "Decoding image:  20%|██        | 8/40 [00:00<00:01, 16.91it/s]\u001b[A\n",
      "Decoding image:  25%|██▌       | 10/40 [00:00<00:01, 16.90it/s]\u001b[A\n",
      "Decoding image:  30%|███       | 12/40 [00:00<00:01, 16.90it/s]\u001b[A\n",
      "Decoding image:  35%|███▌      | 14/40 [00:00<00:01, 16.91it/s]\u001b[A\n",
      "Decoding image:  40%|████      | 16/40 [00:00<00:01, 16.91it/s]\u001b[A\n",
      "Decoding image:  45%|████▌     | 18/40 [00:01<00:01, 16.89it/s]\u001b[A\n",
      "Decoding image:  50%|█████     | 20/40 [00:01<00:01, 16.88it/s]\u001b[A\n",
      "Decoding image:  55%|█████▌    | 22/40 [00:01<00:01, 16.91it/s]\u001b[A\n",
      "Decoding image:  60%|██████    | 24/40 [00:01<00:00, 16.89it/s]\u001b[A\n",
      "Decoding image:  65%|██████▌   | 26/40 [00:01<00:00, 16.91it/s]\u001b[A\n",
      "Decoding image:  70%|███████   | 28/40 [00:01<00:00, 16.93it/s]\u001b[A\n",
      "Decoding image:  75%|███████▌  | 30/40 [00:01<00:00, 16.94it/s]\u001b[A\n",
      "Decoding image:  80%|████████  | 32/40 [00:01<00:00, 16.91it/s]\u001b[A\n",
      "Decoding image:  85%|████████▌ | 34/40 [00:02<00:00, 16.91it/s]\u001b[A\n",
      "Decoding image:  90%|█████████ | 36/40 [00:02<00:00, 16.93it/s]\u001b[A\n",
      "Decoding image:  95%|█████████▌| 38/40 [00:02<00:00, 16.92it/s]\u001b[A\n",
      "Decoding image: 100%|██████████| 40/40 [00:02<00:00, 16.90it/s]\u001b[A\n",
      "Sampling:  60%|██████    | 3/5 [00:07<00:05,  2.56s/it]"
     ]
    },
    {
     "name": "stdout",
     "output_type": "stream",
     "text": [
      "Running DDIM Sampling with 40 timesteps\n"
     ]
    },
    {
     "name": "stderr",
     "output_type": "stream",
     "text": [
      "\n",
      "Decoding image:   0%|          | 0/40 [00:00<?, ?it/s]\u001b[A\n",
      "Decoding image:   5%|▌         | 2/40 [00:00<00:02, 16.91it/s]\u001b[A\n",
      "Decoding image:  10%|█         | 4/40 [00:00<00:02, 16.92it/s]\u001b[A\n",
      "Decoding image:  15%|█▌        | 6/40 [00:00<00:02, 16.90it/s]\u001b[A\n",
      "Decoding image:  20%|██        | 8/40 [00:00<00:01, 16.88it/s]\u001b[A\n",
      "Decoding image:  25%|██▌       | 10/40 [00:00<00:01, 16.89it/s]\u001b[A\n",
      "Decoding image:  30%|███       | 12/40 [00:00<00:01, 16.90it/s]\u001b[A\n",
      "Decoding image:  35%|███▌      | 14/40 [00:00<00:01, 16.91it/s]\u001b[A\n",
      "Decoding image:  40%|████      | 16/40 [00:00<00:01, 16.91it/s]\u001b[A\n",
      "Decoding image:  45%|████▌     | 18/40 [00:01<00:01, 16.91it/s]\u001b[A\n",
      "Decoding image:  50%|█████     | 20/40 [00:01<00:01, 16.91it/s]\u001b[A\n",
      "Decoding image:  55%|█████▌    | 22/40 [00:01<00:01, 16.91it/s]\u001b[A\n",
      "Decoding image:  60%|██████    | 24/40 [00:01<00:00, 16.89it/s]\u001b[A\n",
      "Decoding image:  65%|██████▌   | 26/40 [00:01<00:00, 16.92it/s]\u001b[A\n",
      "Decoding image:  70%|███████   | 28/40 [00:01<00:00, 16.93it/s]\u001b[A\n",
      "Decoding image:  75%|███████▌  | 30/40 [00:01<00:00, 16.94it/s]\u001b[A\n",
      "Decoding image:  80%|████████  | 32/40 [00:01<00:00, 16.93it/s]\u001b[A\n",
      "Decoding image:  85%|████████▌ | 34/40 [00:02<00:00, 16.91it/s]\u001b[A\n",
      "Decoding image:  90%|█████████ | 36/40 [00:02<00:00, 16.93it/s]\u001b[A\n",
      "Decoding image:  95%|█████████▌| 38/40 [00:02<00:00, 16.94it/s]\u001b[A\n",
      "Decoding image: 100%|██████████| 40/40 [00:02<00:00, 16.90it/s]\u001b[A\n",
      "Sampling:  80%|████████  | 4/5 [00:10<00:02,  2.57s/it]"
     ]
    },
    {
     "name": "stdout",
     "output_type": "stream",
     "text": [
      "Running DDIM Sampling with 40 timesteps\n"
     ]
    },
    {
     "name": "stderr",
     "output_type": "stream",
     "text": [
      "\n",
      "Decoding image:   0%|          | 0/40 [00:00<?, ?it/s]\u001b[A\n",
      "Decoding image:   5%|▌         | 2/40 [00:00<00:02, 16.90it/s]\u001b[A\n",
      "Decoding image:  10%|█         | 4/40 [00:00<00:02, 16.86it/s]\u001b[A\n",
      "Decoding image:  15%|█▌        | 6/40 [00:00<00:02, 16.85it/s]\u001b[A\n",
      "Decoding image:  20%|██        | 8/40 [00:00<00:01, 16.86it/s]\u001b[A\n",
      "Decoding image:  25%|██▌       | 10/40 [00:00<00:01, 16.87it/s]\u001b[A\n",
      "Decoding image:  30%|███       | 12/40 [00:00<00:01, 16.88it/s]\u001b[A\n",
      "Decoding image:  35%|███▌      | 14/40 [00:00<00:01, 16.87it/s]\u001b[A\n",
      "Decoding image:  40%|████      | 16/40 [00:00<00:01, 16.89it/s]\u001b[A\n",
      "Decoding image:  45%|████▌     | 18/40 [00:01<00:01, 16.88it/s]\u001b[A\n",
      "Decoding image:  50%|█████     | 20/40 [00:01<00:01, 16.82it/s]\u001b[A\n",
      "Decoding image:  55%|█████▌    | 22/40 [00:01<00:01, 16.85it/s]\u001b[A\n",
      "Decoding image:  60%|██████    | 24/40 [00:01<00:00, 16.88it/s]\u001b[A\n",
      "Decoding image:  65%|██████▌   | 26/40 [00:01<00:00, 16.90it/s]\u001b[A\n",
      "Decoding image:  70%|███████   | 28/40 [00:01<00:00, 16.92it/s]\u001b[A\n",
      "Decoding image:  75%|███████▌  | 30/40 [00:01<00:00, 16.93it/s]\u001b[A\n",
      "Decoding image:  80%|████████  | 32/40 [00:01<00:00, 16.93it/s]\u001b[A\n",
      "Decoding image:  85%|████████▌ | 34/40 [00:02<00:00, 16.93it/s]\u001b[A\n",
      "Decoding image:  90%|█████████ | 36/40 [00:02<00:00, 16.93it/s]\u001b[A\n",
      "Decoding image:  95%|█████████▌| 38/40 [00:02<00:00, 16.92it/s]\u001b[A\n",
      "Decoding image: 100%|██████████| 40/40 [00:02<00:00, 16.88it/s]\u001b[A\n",
      "Sampling: 100%|██████████| 5/5 [00:12<00:00,  2.57s/it]\n"
     ]
    }
   ],
   "source": [
    "# Generate image from Z (image) + C (semantics) + cc(bright)\n",
    "base_count = 0\n",
    "with torch.no_grad():\n",
    "    with precision_scope(\"cuda\"):\n",
    "        with model.ema_scope():\n",
    "            for n in trange(n_iter, desc=\"Sampling\"):\n",
    "                # c = model.cond_stage_model.encode(prompt).mean(axis=0).unsqueeze(0)\n",
    "\n",
    "                uc = model.get_learned_conditioning(str(cc))\n",
    "\n",
    "                # encode (scaled latent)\n",
    "                z_enc = sampler.stochastic_encode(init_latent, torch.tensor([t_enc]*batch_size).to(device))\n",
    "                # decode it\n",
    "                samples = sampler.decode(z_enc, c, t_enc, unconditional_guidance_scale=scale,\n",
    "                                        unconditional_conditioning=uc,)\n",
    "\n",
    "                x_samples = model.decode_first_stage(samples)\n",
    "                x_samples = torch.clamp((x_samples + 1.0) / 2.0, min=0.0, max=1.0)\n",
    "\n",
    "                for x_sample in x_samples:\n",
    "                    x_sample = 255. * rearrange(x_sample.cpu().numpy(), 'c h w -> h w c')\n",
    "                Image.fromarray(x_sample.astype(np.uint8)).save(\n",
    "                    os.path.join(sample_path, f\"{imgidx:05}_{base_count:03}.png\"))    \n",
    "                base_count += 1"
   ]
  },
  {
   "cell_type": "code",
   "execution_count": null,
   "id": "82d689b1-81bf-4714-bd23-51894e4ea5c0",
   "metadata": {},
   "outputs": [],
   "source": []
  },
  {
   "cell_type": "code",
   "execution_count": null,
   "id": "862b4c57-239b-4186-b3b7-b65380e3077f",
   "metadata": {},
   "outputs": [],
   "source": []
  }
 ],
 "metadata": {
  "kernelspec": {
   "display_name": "ldm",
   "language": "python",
   "name": "ldm"
  },
  "language_info": {
   "codemirror_mode": {
    "name": "ipython",
    "version": 3
   },
   "file_extension": ".py",
   "mimetype": "text/x-python",
   "name": "python",
   "nbconvert_exporter": "python",
   "pygments_lexer": "ipython3",
   "version": "3.8.18"
  },
  "widgets": {
   "application/vnd.jupyter.widget-state+json": {
    "state": {},
    "version_major": 2,
    "version_minor": 0
   }
  }
 },
 "nbformat": 4,
 "nbformat_minor": 5
}
