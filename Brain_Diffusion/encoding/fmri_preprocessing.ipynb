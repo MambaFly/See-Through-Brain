{
 "cells": [
  {
   "cell_type": "markdown",
   "id": "2f949d47-eb17-41e5-9d0c-d8b15fd11adb",
   "metadata": {},
   "source": [
    "# fMRI数据预处理"
   ]
  },
  {
   "cell_type": "code",
   "execution_count": 1,
   "id": "0b6a6cbd",
   "metadata": {},
   "outputs": [
    {
     "name": "stdout",
     "output_type": "stream",
     "text": [
      "当前工作目录: /data\n",
      "当前工作目录: /data/zlhu/NeuroAI/Eye-of-Brain/Brain-Diffusion/encoding\n"
     ]
    }
   ],
   "source": [
    "import os\n",
    "# 获取当前文件所在目录\n",
    "current_dir = os.path.dirname(os.path.abspath(''))\n",
    "print(\"当前工作目录:\", current_dir)\n",
    "# 设置工作目录\n",
    "os.chdir('/data/zlhu/NeuroAI/Eye-of-Brain/Brain-Diffusion/encoding')\n",
    "# 验证工作目录\n",
    "print(\"当前工作目录:\", os.getcwd())"
   ]
  },
  {
   "cell_type": "code",
   "execution_count": 2,
   "id": "b8002c1a-bcca-4553-8bb5-07b15f6365af",
   "metadata": {
    "execution": {
     "iopub.execute_input": "2024-07-30T07:28:22.355305Z",
     "iopub.status.busy": "2024-07-30T07:28:22.354776Z",
     "iopub.status.idle": "2024-07-30T07:28:24.236753Z",
     "shell.execute_reply": "2024-07-30T07:28:24.235693Z",
     "shell.execute_reply.started": "2024-07-30T07:28:22.355260Z"
    }
   },
   "outputs": [],
   "source": [
    "import argparse\n",
    "import os\n",
    "import numpy as np\n",
    "import pandas as pd\n",
    "from nsd_access import NSDAccess\n",
    "import scipy.io"
   ]
  },
  {
   "cell_type": "code",
   "execution_count": 3,
   "id": "6f66735c-6ac5-485c-999b-7a86713ca01a",
   "metadata": {
    "execution": {
     "iopub.execute_input": "2024-07-30T07:28:24.238953Z",
     "iopub.status.busy": "2024-07-30T07:28:24.238427Z",
     "iopub.status.idle": "2024-07-30T07:28:24.370077Z",
     "shell.execute_reply": "2024-07-30T07:28:24.368577Z",
     "shell.execute_reply.started": "2024-07-30T07:28:24.238925Z"
    }
   },
   "outputs": [
    {
     "name": "stdout",
     "output_type": "stream",
     "text": [
      "/data/zlhu/NeuroAI/Eye-of-Brain/Brain-Diffusion/encoding\n"
     ]
    }
   ],
   "source": [
    "!pwd"
   ]
  },
  {
   "cell_type": "code",
   "execution_count": 26,
   "id": "4677cd05-11ef-495e-b997-c8bef32ecd79",
   "metadata": {
    "execution": {
     "iopub.execute_input": "2024-07-30T07:28:30.066193Z",
     "iopub.status.busy": "2024-07-30T07:28:30.065454Z",
     "iopub.status.idle": "2024-07-30T07:28:30.072547Z",
     "shell.execute_reply": "2024-07-30T07:28:30.071240Z",
     "shell.execute_reply.started": "2024-07-30T07:28:30.066144Z"
    }
   },
   "outputs": [],
   "source": [
    "# 全局参数设置\n",
    "subject = \"subj07\"   # subj01 or subj02  or subj05  or subj07 for full-data subjects\n",
    "atlasname = 'streams'"
   ]
  },
  {
   "cell_type": "code",
   "execution_count": 27,
   "id": "ab5b11b7-6e80-40c1-8631-0886953fc99c",
   "metadata": {
    "execution": {
     "iopub.execute_input": "2024-07-30T09:57:15.175492Z",
     "iopub.status.busy": "2024-07-30T09:57:15.174767Z",
     "iopub.status.idle": "2024-07-30T09:57:15.200922Z",
     "shell.execute_reply": "2024-07-30T09:57:15.199625Z",
     "shell.execute_reply.started": "2024-07-30T09:57:15.175445Z"
    }
   },
   "outputs": [],
   "source": [
    "# 数据保存路径\n",
    "savedir = f'../data/fmri/{subject}/'\n",
    "os.makedirs(savedir, exist_ok=True)\n",
    "\n",
    "# 源数据路径\n",
    "nsda = NSDAccess('../data/nsd/')\n",
    "\n",
    "# 加载stim刺激数据\n",
    "stims_unique = np.load(f'../data/stim/{subject}/{subject}_stims_ave.npy')\n",
    "stims_all = np.load(f'../data/stim/{subject}/{subject}_stims.npy')\n",
    "\n",
    "# 加载NSD实验设计信息\n",
    "os.makedirs('../data/nsd/nsddata/experiments/nsd', exist_ok=True)\n",
    "nsd_expdesign = scipy.io.loadmat('../data/nsd/nsddata/experiments/nsd/nsd_expdesign.mat')\n",
    "# 由于nsd_expdesign的索引是基于1的，这里减1以适应Python的0索引\n",
    "sharedix = nsd_expdesign['sharedix'] -1 "
   ]
  },
  {
   "cell_type": "code",
   "execution_count": 28,
   "id": "9079ffbc-cdad-4bc2-9710-1036e5998c88",
   "metadata": {
    "execution": {
     "iopub.execute_input": "2024-07-30T07:30:38.680026Z",
     "iopub.status.busy": "2024-07-30T07:30:38.679381Z",
     "iopub.status.idle": "2024-07-30T07:30:38.753902Z",
     "shell.execute_reply": "2024-07-30T07:30:38.752538Z",
     "shell.execute_reply.started": "2024-07-30T07:30:38.679975Z"
    }
   },
   "outputs": [],
   "source": [
    "#fmri数据源路径\n",
    "fmri_path = f'../data/nsd/nsddata_betas/ppdata/{subject}/func1pt8mm/betas_fithrf_GLMdenoise_RR'\n",
    "os.makedirs(fmri_path, exist_ok=True)"
   ]
  },
  {
   "cell_type": "code",
   "execution_count": 7,
   "id": "9587ae09-0173-4109-8362-8d7ef42430fa",
   "metadata": {
    "execution": {
     "iopub.execute_input": "2024-07-30T09:28:48.754549Z",
     "iopub.status.busy": "2024-07-30T09:28:48.753801Z",
     "iopub.status.idle": "2024-07-30T09:45:13.575704Z",
     "shell.execute_reply": "2024-07-30T09:45:13.569516Z",
     "shell.execute_reply.started": "2024-07-30T09:28:48.754494Z"
    }
   },
   "outputs": [
    {
     "name": "stdout",
     "output_type": "stream",
     "text": [
      "now processing subj07 - session1\n",
      "now processing subj07 - session2\n",
      "now processing subj07 - session3\n",
      "now processing subj07 - session4\n",
      "now processing subj07 - session5\n",
      "now processing subj07 - session6\n",
      "now processing subj07 - session7\n",
      "now processing subj07 - session8\n",
      "now processing subj07 - session9\n",
      "now processing subj07 - session10\n",
      "now processing subj07 - session11\n",
      "now processing subj07 - session12\n",
      "now processing subj07 - session13\n",
      "now processing subj07 - session14\n",
      "now processing subj07 - session15\n",
      "now processing subj07 - session16\n",
      "now processing subj07 - session17\n",
      "now processing subj07 - session18\n",
      "now processing subj07 - session19\n",
      "now processing subj07 - session20\n",
      "now processing subj07 - session21\n",
      "now processing subj07 - session22\n",
      "now processing subj07 - session23\n",
      "now processing subj07 - session24\n",
      "now processing subj07 - session25\n",
      "now processing subj07 - session26\n",
      "now processing subj07 - session27\n",
      "now processing subj07 - session28\n",
      "now processing subj07 - session29\n",
      "now processing subj07 - session30\n",
      "now processing subj07 - session31\n",
      "now processing subj07 - session32\n",
      "now processing subj07 - session33\n",
      "now processing subj07 - session34\n",
      "now processing subj07 - session35\n",
      "now processing subj07 - session36\n",
      "now processing subj07 - session37\n",
      "now processing subj07 - session38\n",
      "now processing subj07 - session39\n",
      "now processing subj07 - session40\n"
     ]
    }
   ],
   "source": [
    "# 获取每个会话的betas值（fMRI大脑响应数据）\n",
    "for i in range(1, 41):\n",
    "    print(f\"now processing {subject} - session{i}\")\n",
    "    beta_trial = nsda.read_betas(subject=subject, \n",
    "                            session_index=i, \n",
    "                            trial_index=[], # empty list as index means get all for this session\n",
    "                            data_type='betas_fithrf_GLMdenoise_RR',\n",
    "                            data_format='func1pt8mm')\n",
    "    if i==1:\n",
    "        betas_all = beta_trial\n",
    "    else:\n",
    "        betas_all = np.concatenate((betas_all,beta_trial),0)"
   ]
  },
  {
   "cell_type": "code",
   "execution_count": 8,
   "id": "d348ecef-fd50-4b2f-8b2f-8b8d00fcb6ca",
   "metadata": {
    "execution": {
     "iopub.execute_input": "2024-07-30T09:55:26.625074Z",
     "iopub.status.busy": "2024-07-30T09:55:26.624446Z",
     "iopub.status.idle": "2024-07-30T09:55:26.635623Z",
     "shell.execute_reply": "2024-07-30T09:55:26.633679Z",
     "shell.execute_reply.started": "2024-07-30T09:55:26.625027Z"
    }
   },
   "outputs": [],
   "source": [
    "# roi数据源路径\n",
    "os.makedirs('../data/nsd/nsddata/freesurfer/fsaverage/label',exist_ok=True)\n",
    "os.makedirs(f'../data/nsd/nsddata/ppdata/{subject}/func1pt8mm/roi',exist_ok=True)"
   ]
  },
  {
   "cell_type": "code",
   "execution_count": 9,
   "id": "e1b36d7f-0849-49dd-9ae4-ddc974297c12",
   "metadata": {
    "execution": {
     "iopub.execute_input": "2024-07-30T09:57:21.017348Z",
     "iopub.status.busy": "2024-07-30T09:57:21.016777Z",
     "iopub.status.idle": "2024-07-30T09:59:00.415188Z",
     "shell.execute_reply": "2024-07-30T09:59:00.413702Z",
     "shell.execute_reply.started": "2024-07-30T09:57:21.017306Z"
    }
   },
   "outputs": [
    {
     "name": "stdout",
     "output_type": "stream",
     "text": [
      "Unknown 0\n",
      "SKIP\n",
      "early 1\n",
      "(30000, 4559)\n",
      "(10000, 4559)\n",
      "midventral 2\n",
      "(30000, 785)\n",
      "(10000, 785)\n",
      "midlateral 3\n",
      "(30000, 628)\n",
      "(10000, 628)\n",
      "midparietal 4\n",
      "(30000, 692)\n",
      "(10000, 692)\n",
      "ventral 5\n",
      "(30000, 6515)\n"
     ]
    },
    {
     "name": "stdout",
     "output_type": "stream",
     "text": [
      "(10000, 6515)\n",
      "lateral 6\n",
      "(30000, 6118)\n",
      "(10000, 6118)\n",
      "parietal 7\n",
      "(30000, 2459)\n",
      "(10000, 2459)\n"
     ]
    }
   ],
   "source": [
    "# 读取大脑图谱信息\n",
    "atlas = nsda.read_atlas_results(subject=subject, atlas=atlasname, data_format='func1pt8mm')\n",
    "# 对每个ROI进行处理\n",
    "for roi,val in atlas[1].items():\n",
    "    '''分roi处理'''\n",
    "    print(roi,val)\n",
    "    if val == 0:\n",
    "        print('SKIP')\n",
    "        continue\n",
    "    else:\n",
    "        # 根据ROI来筛选beta值\n",
    "        betas_roi = betas_all[:,atlas[0].transpose([2,1,0])==val]\n",
    "\n",
    "    # 打印ROI beta值的形状（样本量*体素数量）\n",
    "    print(betas_roi.shape)\n",
    "\n",
    "    '''计算betas_roi_ave'''\n",
    "    # 给每个stim刺激计算平均beta值（每个刺激呈现过3次）\n",
    "    betas_roi_ave = []\n",
    "    for stim in stims_unique:\n",
    "        stim_mean = np.mean(betas_roi[stims_all == stim,:],axis=0)\n",
    "        betas_roi_ave.append(stim_mean)\n",
    "    betas_roi_ave = np.stack(betas_roi_ave)\n",
    "    \n",
    "    # 打印ROI beta值平均后的形状 \n",
    "    print(betas_roi_ave.shape)\n",
    "\n",
    "    '''划分tr te'''\n",
    "    # 训练集/测试集划分\n",
    "    betas_tr = []\n",
    "    betas_te = []\n",
    "    # 若在share（共享图片）中，则为测试集\n",
    "    for idx,stim in enumerate(stims_all):\n",
    "        if stim in sharedix:\n",
    "            betas_te.append(betas_roi[idx,:])\n",
    "        else:\n",
    "            betas_tr.append(betas_roi[idx,:])\n",
    "    # 全betas\n",
    "    betas_tr = np.stack(betas_tr)\n",
    "    betas_te = np.stack(betas_te)    \n",
    "    \n",
    "    # 训练集/测试集划分       \n",
    "    betas_ave_tr = []\n",
    "    betas_ave_te = []\n",
    "    # 处理平均数据\n",
    "    for idx,stim in enumerate(stims_unique):\n",
    "        if stim in sharedix:\n",
    "            betas_ave_te.append(betas_roi_ave[idx,:])\n",
    "        else:\n",
    "            betas_ave_tr.append(betas_roi_ave[idx,:])\n",
    "    #平均betas\n",
    "    betas_ave_tr = np.stack(betas_ave_tr)\n",
    "    betas_ave_te = np.stack(betas_ave_te)    \n",
    "\n",
    "    \n",
    "    # 保存所有betas和平均betas的训练和测试数据\n",
    "    np.save(f'{savedir}/{subject}_{roi}_betas_tr.npy',betas_tr)\n",
    "    np.save(f'{savedir}/{subject}_{roi}_betas_te.npy',betas_te)\n",
    "    np.save(f'{savedir}/{subject}_{roi}_betas_ave_tr.npy',betas_ave_tr)\n",
    "    np.save(f'{savedir}/{subject}_{roi}_betas_ave_te.npy',betas_ave_te)"
   ]
  },
  {
   "cell_type": "code",
   "execution_count": 10,
   "id": "7a38f47e-a1e6-4851-aea2-776affedbd7d",
   "metadata": {
    "execution": {
     "iopub.execute_input": "2024-07-31T07:56:31.159552Z",
     "iopub.status.busy": "2024-07-31T07:56:31.158972Z",
     "iopub.status.idle": "2024-07-31T07:56:31.168360Z",
     "shell.execute_reply": "2024-07-31T07:56:31.166954Z",
     "shell.execute_reply.started": "2024-07-31T07:56:31.159506Z"
    }
   },
   "outputs": [
    {
     "name": "stdout",
     "output_type": "stream",
     "text": [
      "(27000, 2459)\n",
      "(3000, 2459)\n",
      "(9000, 2459)\n",
      "(1000, 2459)\n"
     ]
    }
   ],
   "source": [
    "'''\n",
    "对每个个体的每个大脑体素做计算\n",
    "每个subj特有刺激9000个，重复3次，共27000次大脑响应betas\n",
    "共有刺激1000个，重复3次，共3000次大脑响应betas\n",
    "\n",
    "全部刺激27000+3000 = 30000次betas\n",
    "平均刺激30000/3 = 10000  (9000+1000) 次betas\n",
    "'''\n",
    "print(betas_tr.shape)\n",
    "print(betas_te.shape)\n",
    "print(betas_ave_tr.shape)\n",
    "print(betas_ave_te.shape)"
   ]
  },
  {
   "cell_type": "code",
   "execution_count": null,
   "id": "fd294930-b509-49c0-abf8-b1d309e4b2f0",
   "metadata": {},
   "outputs": [],
   "source": []
  }
 ],
 "metadata": {
  "kernelspec": {
   "display_name": "brain",
   "language": "python",
   "name": "brain"
  },
  "language_info": {
   "codemirror_mode": {
    "name": "ipython",
    "version": 3
   },
   "file_extension": ".py",
   "mimetype": "text/x-python",
   "name": "python",
   "nbconvert_exporter": "python",
   "pygments_lexer": "ipython3",
   "version": "3.8.18"
  },
  "widgets": {
   "application/vnd.jupyter.widget-state+json": {
    "state": {},
    "version_major": 2,
    "version_minor": 0
   }
  }
 },
 "nbformat": 4,
 "nbformat_minor": 5
}
