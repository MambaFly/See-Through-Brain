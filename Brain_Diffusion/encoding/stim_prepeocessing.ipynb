{
 "cells": [
  {
   "cell_type": "markdown",
   "id": "86ac6524-12ce-4bb8-8877-072e3645b12c",
   "metadata": {},
   "source": [
    "# stim 数据预处理"
   ]
  },
  {
   "cell_type": "code",
   "execution_count": 18,
   "id": "1a2aa3d2",
   "metadata": {},
   "outputs": [
    {
     "name": "stdout",
     "output_type": "stream",
     "text": [
      "当前工作目录: /data/zlhu/NeuroAI/Eye-of-Brain/Brain-Diffusion\n",
      "当前工作目录: /data/zlhu/NeuroAI/Eye-of-Brain/Brain-Diffusion/encoding\n"
     ]
    }
   ],
   "source": [
    "import os\n",
    "# 获取当前文件所在目录\n",
    "current_dir = os.path.dirname(os.path.abspath(''))\n",
    "print(\"当前工作目录:\", current_dir)\n",
    "# 设置工作目录\n",
    "os.chdir('/data/zlhu/NeuroAI/Eye-of-Brain/Brain-Diffusion/encoding')\n",
    "# 验证工作目录\n",
    "print(\"当前工作目录:\", os.getcwd())"
   ]
  },
  {
   "cell_type": "code",
   "execution_count": 19,
   "id": "88008b3e-67b9-45a0-915f-c4bce1ff2fa2",
   "metadata": {
    "execution": {
     "iopub.execute_input": "2024-09-14T07:54:37.810552Z",
     "iopub.status.busy": "2024-09-14T07:54:37.809969Z",
     "iopub.status.idle": "2024-09-14T07:54:49.455051Z",
     "shell.execute_reply": "2024-09-14T07:54:49.453523Z",
     "shell.execute_reply.started": "2024-09-14T07:54:37.810503Z"
    }
   },
   "outputs": [],
   "source": [
    "import argparse\n",
    "import os\n",
    "import numpy as np\n",
    "import pandas as pd\n",
    "import sys\n",
    "# sys.path.append(os.path.dirname(os.path.abspath(__file__)))\n",
    "from nsd_access import NSDAccess\n",
    "import scipy.io"
   ]
  },
  {
   "cell_type": "code",
   "execution_count": 20,
   "id": "90fd28df-4a43-4677-bc41-65ad9419ffad",
   "metadata": {
    "execution": {
     "iopub.execute_input": "2024-07-30T07:11:57.481209Z",
     "iopub.status.busy": "2024-07-30T07:11:57.480302Z",
     "iopub.status.idle": "2024-07-30T07:11:57.616230Z",
     "shell.execute_reply": "2024-07-30T07:11:57.614570Z",
     "shell.execute_reply.started": "2024-07-30T07:11:57.481162Z"
    }
   },
   "outputs": [
    {
     "name": "stdout",
     "output_type": "stream",
     "text": [
      "/data/zlhu/NeuroAI/Eye-of-Brain/Brain-Diffusion/encoding\n"
     ]
    }
   ],
   "source": [
    "!pwd"
   ]
  },
  {
   "cell_type": "code",
   "execution_count": 30,
   "id": "1f515bd4-5233-41ac-a2a6-dd0f89dc62ad",
   "metadata": {
    "execution": {
     "iopub.execute_input": "2024-07-30T07:27:47.140952Z",
     "iopub.status.busy": "2024-07-30T07:27:47.140320Z",
     "iopub.status.idle": "2024-07-30T07:27:47.147424Z",
     "shell.execute_reply": "2024-07-30T07:27:47.145999Z",
     "shell.execute_reply.started": "2024-07-30T07:27:47.140902Z"
    }
   },
   "outputs": [],
   "source": [
    "# 全局参数设置\n",
    "subject = \"subj07\"   # subj01 or subj02  or subj05  or subj07 for full-data subjects"
   ]
  },
  {
   "cell_type": "code",
   "execution_count": 31,
   "id": "fe3d5bfa-ea61-4651-89ab-627b5056cc54",
   "metadata": {
    "execution": {
     "iopub.execute_input": "2024-07-30T07:27:47.471584Z",
     "iopub.status.busy": "2024-07-30T07:27:47.471059Z",
     "iopub.status.idle": "2024-07-30T07:27:47.478409Z",
     "shell.execute_reply": "2024-07-30T07:27:47.477004Z",
     "shell.execute_reply.started": "2024-07-30T07:27:47.471541Z"
    }
   },
   "outputs": [],
   "source": [
    "# 数据保存路径\n",
    "savedir = f'../data/stim/{subject}/'\n",
    "os.makedirs(savedir, exist_ok=True)"
   ]
  },
  {
   "cell_type": "code",
   "execution_count": 32,
   "id": "02ac5994-15a1-443f-91da-28c9c289c5b9",
   "metadata": {
    "execution": {
     "iopub.execute_input": "2024-07-30T09:56:47.948928Z",
     "iopub.status.busy": "2024-07-30T09:56:47.948366Z",
     "iopub.status.idle": "2024-07-30T09:56:47.954643Z",
     "shell.execute_reply": "2024-07-30T09:56:47.953636Z",
     "shell.execute_reply.started": "2024-07-30T09:56:47.948883Z"
    }
   },
   "outputs": [],
   "source": [
    "# 源数据路径\n",
    "nsda = NSDAccess('../../data/nsd/')"
   ]
  },
  {
   "cell_type": "code",
   "execution_count": 33,
   "id": "7860de33-d183-46fa-9827-fc3d9165498e",
   "metadata": {
    "execution": {
     "iopub.execute_input": "2024-07-30T09:56:48.292814Z",
     "iopub.status.busy": "2024-07-30T09:56:48.292269Z",
     "iopub.status.idle": "2024-07-30T09:56:48.299706Z",
     "shell.execute_reply": "2024-07-30T09:56:48.298431Z",
     "shell.execute_reply.started": "2024-07-30T09:56:48.292770Z"
    }
   },
   "outputs": [],
   "source": [
    "# 行为数据路径\n",
    "behav_path = f'../../data/nsd/nsddata/ppdata/{subject}/behav'\n",
    "os.makedirs(behav_path, exist_ok=True)"
   ]
  },
  {
   "cell_type": "code",
   "execution_count": 34,
   "id": "3bffe8e4-9f1d-4216-ba50-f260b27484c1",
   "metadata": {
    "execution": {
     "iopub.execute_input": "2024-07-30T09:56:48.569497Z",
     "iopub.status.busy": "2024-07-30T09:56:48.568859Z",
     "iopub.status.idle": "2024-07-30T09:56:50.237933Z",
     "shell.execute_reply": "2024-07-30T09:56:50.236700Z",
     "shell.execute_reply.started": "2024-07-30T09:56:48.569455Z"
    }
   },
   "outputs": [],
   "source": [
    "# 存储行为数据\n",
    "behs = pd.DataFrame()\n",
    "# 获取每个会话的行为数据(共40个session)\n",
    "for i in range(1, 41):\n",
    "    beh = nsda.read_behavior(subject=subject, \n",
    "                            session_index=i)\n",
    "    behs = pd.concat((behs,beh))\n",
    "\n",
    "# Caution: 73KID is 1-based! https://cvnlab.slite.page/p/fRv4lz5V2F/Behavioral-data\n",
    "stims_unique = behs['73KID'].unique() - 1\n",
    "stims_all = behs['73KID'] - 1\n",
    "\n",
    "# 分别保存所有刺激和特有刺激\n",
    "np.save(f'{savedir}/{subject}_stims.npy',stims_all)\n",
    "np.save(f'{savedir}/{subject}_stims_ave.npy',stims_unique)"
   ]
  },
  {
   "cell_type": "code",
   "execution_count": 35,
   "id": "e524ffd7-6ba8-4b92-aeb0-de4730f1d85e",
   "metadata": {
    "execution": {
     "iopub.execute_input": "2024-07-30T07:27:49.695361Z",
     "iopub.status.busy": "2024-07-30T07:27:49.694793Z",
     "iopub.status.idle": "2024-07-30T07:27:49.704137Z",
     "shell.execute_reply": "2024-07-30T07:27:49.702938Z",
     "shell.execute_reply.started": "2024-07-30T07:27:49.695321Z"
    }
   },
   "outputs": [
    {
     "name": "stdout",
     "output_type": "stream",
     "text": [
      "10000\n",
      "[46002 16506  9386 ... 12495 65856 50353] \n",
      "\n",
      "\n",
      "30000\n",
      "0        46002\n",
      "1        16506\n",
      "2         9386\n",
      "3        19211\n",
      "4        19177\n",
      "         ...  \n",
      "29995    56967\n",
      "29996    32974\n",
      "29997    34540\n",
      "29998    31243\n",
      "29999    55230\n",
      "Name: 73KID, Length: 30000, dtype: int64\n"
     ]
    }
   ],
   "source": [
    "# 独立刺激和所有刺激\n",
    "print(len(stims_unique))\n",
    "print(stims_unique,'\\n\\n')\n",
    "print(len(stims_all))\n",
    "print(stims_all)"
   ]
  },
  {
   "cell_type": "code",
   "execution_count": null,
   "id": "1061eaa1-331a-41e6-9fc9-506368f470ab",
   "metadata": {},
   "outputs": [],
   "source": []
  }
 ],
 "metadata": {
  "kernelspec": {
   "display_name": "ldm",
   "language": "python",
   "name": "ldm"
  },
  "widgets": {
   "application/vnd.jupyter.widget-state+json": {
    "state": {},
    "version_major": 2,
    "version_minor": 0
   }
  }
 },
 "nbformat": 4,
 "nbformat_minor": 5
}
