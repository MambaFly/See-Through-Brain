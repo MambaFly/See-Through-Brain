{
 "cells": [
  {
   "cell_type": "markdown",
   "id": "0cff2518-ff53-47d2-a125-3ed17be2c95a",
   "metadata": {},
   "source": [
    "# stim 表征数据划分数据集"
   ]
  },
  {
   "cell_type": "code",
   "execution_count": 127,
   "id": "298e6e86",
   "metadata": {},
   "outputs": [
    {
     "name": "stdout",
     "output_type": "stream",
     "text": [
      "当前工作目录: /data/zlhu/NeuroAI/Eye-of-Brain/Brain-Diffusion\n",
      "当前工作目录: /data/zlhu/NeuroAI/Eye-of-Brain/Brain-Diffusion/encoding\n"
     ]
    }
   ],
   "source": [
    "import os\n",
    "# 获取当前文件所在目录\n",
    "current_dir = os.path.dirname(os.path.abspath(''))\n",
    "print(\"当前工作目录:\", current_dir)\n",
    "# 设置工作目录\n",
    "os.chdir('/data/zlhu/NeuroAI/Eye-of-Brain/Brain-Diffusion/encoding')\n",
    "# 验证工作目录\n",
    "print(\"当前工作目录:\", os.getcwd())"
   ]
  },
  {
   "cell_type": "code",
   "execution_count": 128,
   "id": "3e7cd069-7c89-4324-97d3-a5b890cf1ead",
   "metadata": {
    "execution": {
     "iopub.execute_input": "2024-09-14T07:58:02.605137Z",
     "iopub.status.busy": "2024-09-14T07:58:02.604531Z",
     "iopub.status.idle": "2024-09-14T07:58:03.101665Z",
     "shell.execute_reply": "2024-09-14T07:58:03.100443Z",
     "shell.execute_reply.started": "2024-09-14T07:58:02.605093Z"
    }
   },
   "outputs": [],
   "source": [
    "import numpy as np\n",
    "import scipy.io\n",
    "from tqdm import tqdm\n",
    "import argparse\n",
    "import os"
   ]
  },
  {
   "cell_type": "code",
   "execution_count": 129,
   "id": "98b94ca2-9cbd-4cd6-ab1f-9e419c8ba052",
   "metadata": {
    "execution": {
     "iopub.execute_input": "2024-09-14T07:58:05.737890Z",
     "iopub.status.busy": "2024-09-14T07:58:05.736990Z",
     "iopub.status.idle": "2024-09-14T07:58:05.745371Z",
     "shell.execute_reply": "2024-09-14T07:58:05.743742Z",
     "shell.execute_reply.started": "2024-09-14T07:58:05.737844Z"
    }
   },
   "outputs": [],
   "source": [
    "'''参数设置'''\n",
    "subject='subj07'  # 受试者\n",
    "use_stim = 'ave'  # ave / each\n",
    "featname = 'c'  # 表征 init_latent /  c / dpt_emb0~3"
   ]
  },
  {
   "cell_type": "code",
   "execution_count": 130,
   "id": "40b2b542-edba-4f36-a70a-96816011ee3c",
   "metadata": {
    "execution": {
     "iopub.execute_input": "2024-09-14T07:58:41.246498Z",
     "iopub.status.busy": "2024-09-14T07:58:41.245902Z",
     "iopub.status.idle": "2024-09-14T07:58:41.627928Z",
     "shell.execute_reply": "2024-09-14T07:58:41.626308Z",
     "shell.execute_reply.started": "2024-09-14T07:58:41.246453Z"
    }
   },
   "outputs": [],
   "source": [
    "# 数据路径\n",
    "basedir = '../data/nsdfeat/'\n",
    "featdir = f'{basedir}/{featname}/'\n",
    "nsd_expdesign = scipy.io.loadmat('../data/nsd/nsddata/experiments/nsd/nsd_expdesign.mat')\n",
    "\n",
    "#　保存路径\n",
    "savedir = f'{basedir}/{subject}_feat/'\n",
    "os.makedirs(savedir, exist_ok=True)"
   ]
  },
  {
   "cell_type": "code",
   "execution_count": 131,
   "id": "ef92f8fe-44d9-4003-a00c-3f327f2844b9",
   "metadata": {
    "execution": {
     "iopub.execute_input": "2024-07-31T08:51:24.415028Z",
     "iopub.status.busy": "2024-07-31T08:51:24.414486Z",
     "iopub.status.idle": "2024-07-31T08:51:24.426384Z",
     "shell.execute_reply": "2024-07-31T08:51:24.424458Z",
     "shell.execute_reply.started": "2024-07-31T08:51:24.414991Z"
    }
   },
   "outputs": [
    {
     "name": "stdout",
     "output_type": "stream",
     "text": [
      "测试集大小：1000\n"
     ]
    }
   ],
   "source": [
    "# Note that most of them are 1-base index!\n",
    "# This is why I subtract 1\n",
    "sharedix = nsd_expdesign['sharedix'] -1 \n",
    "print(f'测试集大小：{len(sharedix[0])}')\n",
    "if use_stim == 'ave':\n",
    "    stims = np.load(f'../data/stim/{subject}/{subject}_stims_ave.npy') # 平均值 30000/3 = 10000 (9000+1000)\n",
    "else: # Each\n",
    "    stims = np.load(f'../data/stim/{subject}/{subject}_stims.npy')  # 每人30000次刺激"
   ]
  },
  {
   "cell_type": "code",
   "execution_count": 132,
   "id": "ff391bfd-03c3-4047-acab-c31b48c16088",
   "metadata": {
    "execution": {
     "iopub.execute_input": "2024-07-31T08:51:24.430608Z",
     "iopub.status.busy": "2024-07-31T08:51:24.429746Z",
     "iopub.status.idle": "2024-07-31T08:51:38.008037Z",
     "shell.execute_reply": "2024-07-31T08:51:38.006733Z",
     "shell.execute_reply.started": "2024-07-31T08:51:24.430566Z"
    }
   },
   "outputs": [
    {
     "name": "stderr",
     "output_type": "stream",
     "text": [
      "10000it [00:02, 3867.85it/s]\n"
     ]
    }
   ],
   "source": [
    "# 特征数据和索引信息\n",
    "feats = []\n",
    "tr_idx = np.zeros(len(stims))\n",
    "\n",
    "# 遍历刺激数据，加载图像特征数据，并更新索引\n",
    "for idx, stim in tqdm(enumerate(stims)): \n",
    "    # if idx % 1000 == 0:\n",
    "    #     print(idx,stim)\n",
    "    if stim in sharedix:  # 测试数据\n",
    "        tr_idx[idx] = 0\n",
    "    else:  # 训练数据\n",
    "        tr_idx[idx] = 1\n",
    "    # 读取对应的刺激图像的表征数据\n",
    "    feat = np.load(f'{featdir}/{stim:06}.npy')\n",
    "    feats.append(feat)\n",
    "feats = np.stack(feats)    \n",
    "\n",
    "\n",
    "\n",
    "# 训练&测试 图像表征集合\n",
    "feats_tr = feats[tr_idx==1,:]\n",
    "feats_te = feats[tr_idx==0,:]\n",
    "\n",
    "# 保存subj的刺激对应 tr_or_te\n",
    "np.save(f'../data/stim/{subject}/{subject}_stims_tridx.npy',tr_idx)\n",
    "\n",
    "# 保存subj的tr和te刺激图像的表征数据\n",
    "# np.save(f'{savedir}/{subject}_{use_stim}_{featname}_tr.npy',feats_tr)\n",
    "# np.save(f'{savedir}/{subject}_{use_stim}_{featname}_te.npy',feats_te)"
   ]
  },
  {
   "cell_type": "code",
   "execution_count": 133,
   "id": "56135799-146c-44e1-a696-b9c7fde55450",
   "metadata": {
    "execution": {
     "iopub.execute_input": "2024-07-31T08:51:38.010178Z",
     "iopub.status.busy": "2024-07-31T08:51:38.009700Z",
     "iopub.status.idle": "2024-07-31T08:51:38.017773Z",
     "shell.execute_reply": "2024-07-31T08:51:38.016290Z",
     "shell.execute_reply.started": "2024-07-31T08:51:38.010137Z"
    }
   },
   "outputs": [
    {
     "name": "stdout",
     "output_type": "stream",
     "text": [
      "(9000, 59136)\n",
      "(1000, 59136)\n"
     ]
    }
   ],
   "source": [
    "print(feats_tr.shape)\n",
    "print(feats_te.shape)\n",
    "np.save(f'{savedir}/{subject}_{use_stim}_{featname}_tr.npy',feats_tr)\n",
    "np.save(f'{savedir}/{subject}_{use_stim}_{featname}_te.npy',feats_te)"
   ]
  },
  {
   "cell_type": "code",
   "execution_count": 134,
   "id": "ed1a88ed-ac54-4a18-a0ea-32dc164b808c",
   "metadata": {
    "execution": {
     "iopub.execute_input": "2024-07-31T08:51:38.020199Z",
     "iopub.status.busy": "2024-07-31T08:51:38.019654Z",
     "iopub.status.idle": "2024-07-31T08:51:38.028135Z",
     "shell.execute_reply": "2024-07-31T08:51:38.027033Z",
     "shell.execute_reply.started": "2024-07-31T08:51:38.020160Z"
    }
   },
   "outputs": [],
   "source": [
    "# init_latent\n",
    "# each\n",
    "## tr: (27000, 6400)\n",
    "## te: (3000, 6400)\n",
    "\n",
    "# ave   \n",
    "## tr: (9000, 6400)\n",
    "## te: (1000, 6400)"
   ]
  }
 ],
 "metadata": {
  "kernelspec": {
   "display_name": "ldm",
   "language": "python",
   "name": "ldm"
  },
  "widgets": {
   "application/vnd.jupyter.widget-state+json": {
    "state": {},
    "version_major": 2,
    "version_minor": 0
   }
  }
 },
 "nbformat": 4,
 "nbformat_minor": 5
}
