{
 "cells": [
  {
   "cell_type": "markdown",
   "id": "50fd738f-68dd-4ade-b1b2-dac72f7155b1",
   "metadata": {},
   "source": [
    "# 回归拟合-大脑对齐（fmri->imgfeat）"
   ]
  },
  {
   "cell_type": "code",
   "execution_count": 1,
   "id": "8eb78049",
   "metadata": {},
   "outputs": [
    {
     "name": "stdout",
     "output_type": "stream",
     "text": [
      "当前工作目录: /data\n",
      "当前工作目录: /data/zlhu/NeuroAI/Eye-of-Brain/Brain-Diffusion/encoding\n"
     ]
    }
   ],
   "source": [
    "import os\n",
    "# 获取当前文件所在目录\n",
    "current_dir = os.path.dirname(os.path.abspath(''))\n",
    "print(\"当前工作目录:\", current_dir)\n",
    "# 设置工作目录\n",
    "os.chdir('/data/zlhu/NeuroAI/Eye-of-Brain/Brain-Diffusion/encoding')\n",
    "# 验证工作目录\n",
    "print(\"当前工作目录:\", os.getcwd())"
   ]
  },
  {
   "cell_type": "code",
   "execution_count": 2,
   "id": "494aa029-d7cd-42bd-a225-d3a69392827a",
   "metadata": {
    "execution": {
     "iopub.execute_input": "2024-11-27T14:32:39.633160Z",
     "iopub.status.busy": "2024-11-27T14:32:39.632515Z",
     "iopub.status.idle": "2024-11-27T14:32:41.577127Z",
     "shell.execute_reply": "2024-11-27T14:32:41.575533Z",
     "shell.execute_reply.started": "2024-11-27T14:32:39.633096Z"
    }
   },
   "outputs": [],
   "source": [
    "import argparse, os\n",
    "import numpy as np\n",
    "from himalaya.backend import set_backend\n",
    "from himalaya.ridge import RidgeCV\n",
    "from himalaya.scoring import correlation_score\n",
    "from sklearn.pipeline import make_pipeline\n",
    "from sklearn.preprocessing import StandardScaler"
   ]
  },
  {
   "cell_type": "code",
   "execution_count": 3,
   "id": "217adcb2-4140-41b1-a7bb-b386b8efc0d7",
   "metadata": {
    "execution": {
     "iopub.execute_input": "2024-11-27T14:32:41.580515Z",
     "iopub.status.busy": "2024-11-27T14:32:41.579817Z",
     "iopub.status.idle": "2024-11-27T14:32:41.589088Z",
     "shell.execute_reply": "2024-11-27T14:32:41.587740Z",
     "shell.execute_reply.started": "2024-11-27T14:32:41.580470Z"
    }
   },
   "outputs": [],
   "source": [
    "# 参数设置\n",
    "target = 'init_latent'   # init_latent / c\n",
    "roi = ['early']  # early  /  ventral\n",
    "# roi = ['early','midventral','midparietal','midlateral','ventral','parietal','lateral']   # 需要对齐的ROI\n",
    "\n",
    "backend = set_backend(\"numpy\", on_error=\"warn\")\n",
    "subject='subj01'"
   ]
  },
  {
   "cell_type": "code",
   "execution_count": 4,
   "id": "0c12b03c-cebc-4e82-b616-ee11c36fac7f",
   "metadata": {
    "execution": {
     "iopub.execute_input": "2024-11-27T14:32:41.591605Z",
     "iopub.status.busy": "2024-11-27T14:32:41.590991Z",
     "iopub.status.idle": "2024-11-27T14:32:41.598955Z",
     "shell.execute_reply": "2024-11-27T14:32:41.597724Z",
     "shell.execute_reply.started": "2024-11-27T14:32:41.591564Z"
    }
   },
   "outputs": [],
   "source": [
    "# 路径设置\n",
    "mridir = f'../data/fmri/{subject}/'\n",
    "featdir = f'../data/nsdfeat/{subject}_feat/'\n",
    "\n",
    "savedir = f'../data/decoded/{subject}/'\n",
    "os.makedirs(savedir, exist_ok=True)"
   ]
  },
  {
   "cell_type": "code",
   "execution_count": 5,
   "id": "1fc57975-ecc5-401c-a678-d6e67113bc95",
   "metadata": {
    "execution": {
     "iopub.execute_input": "2024-11-27T14:32:41.602432Z",
     "iopub.status.busy": "2024-11-27T14:32:41.601842Z",
     "iopub.status.idle": "2024-11-27T14:32:41.608274Z",
     "shell.execute_reply": "2024-11-27T14:32:41.607033Z",
     "shell.execute_reply.started": "2024-11-27T14:32:41.602392Z"
    }
   },
   "outputs": [],
   "source": [
    "# 超参数选择，正则化系数\n",
    "# alphas = [1e3, 3e3, 6e3, 9e3, 1e4, 3e4, 6e4, 9e4, 1e5]\n",
    "# alpha = 5e4\n",
    "alphas = [0.000001,0.00001,0.0001,0.001,0.01, 0.1, 1]"
   ]
  },
  {
   "cell_type": "code",
   "execution_count": 6,
   "id": "2eb744af-fb35-4173-be5d-c1488daa463e",
   "metadata": {
    "execution": {
     "iopub.execute_input": "2024-11-27T14:32:41.610540Z",
     "iopub.status.busy": "2024-11-27T14:32:41.609991Z",
     "iopub.status.idle": "2024-11-27T14:32:41.618240Z",
     "shell.execute_reply": "2024-11-27T14:32:41.616734Z",
     "shell.execute_reply.started": "2024-11-27T14:32:41.610503Z"
    }
   },
   "outputs": [],
   "source": [
    "'''算法流程'''\n",
    "# 创建岭回归\n",
    "ridge = RidgeCV(alphas=alphas)\n",
    "\n",
    "# 创建预处理流程\n",
    "preprocess_pipeline = make_pipeline(\n",
    "    StandardScaler(with_mean=True, with_std=True),\n",
    ")\n",
    "\n",
    "# 预处理+岭回归 流程pipeline\n",
    "pipeline = make_pipeline(\n",
    "    preprocess_pipeline,\n",
    "    ridge,\n",
    ") "
   ]
  },
  {
   "cell_type": "code",
   "execution_count": 18,
   "id": "093c95d3-4a2a-48bd-a0d4-fce678721a12",
   "metadata": {
    "execution": {
     "iopub.execute_input": "2024-11-27T14:32:42.111510Z",
     "iopub.status.busy": "2024-11-27T14:32:42.110848Z",
     "iopub.status.idle": "2024-11-27T14:32:42.798858Z",
     "shell.execute_reply": "2024-11-27T14:32:42.797860Z",
     "shell.execute_reply.started": "2024-11-27T14:32:42.111469Z"
    }
   },
   "outputs": [],
   "source": [
    "'''加载训练和测试数据'''\n",
    "X = []  # 训练样本（特有刺激响应），每个subj的所列roi的所有刺激响应体素值betas（9000*3=27000）\n",
    "X_te = []  #测试样本（共有刺激大脑响应），每个subj的所列roi的平均刺激响应体素值betas（1000）\n",
    "for croi in roi:\n",
    "    cX = np.load(f'{mridir}/{subject}_{croi}_betas_tr.npy').astype(\"float32\")\n",
    "    cX_te = np.load(f'{mridir}/{subject}_{croi}_betas_ave_te.npy').astype(\"float32\")\n",
    "    X.append(cX)\n",
    "    X_te.append(cX_te)\n",
    "\n",
    "# 堆叠所有roi并转为np\n",
    "X = np.hstack(X)\n",
    "X_te = np.hstack(X_te)\n",
    "\n",
    "# 目标数据（图像特征）\n",
    "Y = np.load(f'{featdir}/{subject}_each_{target}_tr.npy').astype(\"float32\").reshape([X.shape[0],-1])\n",
    "Y_te = np.load(f'{featdir}/{subject}_ave_{target}_te.npy').astype(\"float32\").reshape([X_te.shape[0],-1])"
   ]
  },
  {
   "cell_type": "code",
   "execution_count": 8,
   "id": "0fd1563e-cef8-4c9f-acad-dd5b5d773a27",
   "metadata": {
    "execution": {
     "iopub.execute_input": "2024-11-27T14:32:42.800051Z",
     "iopub.status.busy": "2024-11-27T14:32:42.799871Z",
     "iopub.status.idle": "2024-11-27T14:32:42.803850Z",
     "shell.execute_reply": "2024-11-27T14:32:42.803294Z",
     "shell.execute_reply.started": "2024-11-27T14:32:42.800036Z"
    }
   },
   "outputs": [
    {
     "name": "stdout",
     "output_type": "stream",
     "text": [
      "X (27000, 5917), Y (27000, 6400), X_te (1000, 5917), Y_te (1000, 6400)\n"
     ]
    }
   ],
   "source": [
    "print(f'X {X.shape}, Y {Y.shape}, X_te {X_te.shape}, Y_te {Y_te.shape}')"
   ]
  },
  {
   "cell_type": "code",
   "execution_count": 9,
   "id": "14e12674-7603-4f8f-ad2a-98c80fab8c8f",
   "metadata": {
    "execution": {
     "iopub.execute_input": "2024-11-27T14:32:44.306348Z",
     "iopub.status.busy": "2024-11-27T14:32:44.305843Z",
     "iopub.status.idle": "2024-11-27T14:40:23.516337Z",
     "shell.execute_reply": "2024-11-27T14:40:23.515382Z",
     "shell.execute_reply.started": "2024-11-27T14:32:44.306308Z"
    }
   },
   "outputs": [
    {
     "name": "stdout",
     "output_type": "stream",
     "text": [
      "Now making decoding model for... subj01:  ['early'], init_latent\n"
     ]
    },
    {
     "data": {
      "text/html": [
       "<style>#sk-container-id-1 {color: black;}#sk-container-id-1 pre{padding: 0;}#sk-container-id-1 div.sk-toggleable {background-color: white;}#sk-container-id-1 label.sk-toggleable__label {cursor: pointer;display: block;width: 100%;margin-bottom: 0;padding: 0.3em;box-sizing: border-box;text-align: center;}#sk-container-id-1 label.sk-toggleable__label-arrow:before {content: \"▸\";float: left;margin-right: 0.25em;color: #696969;}#sk-container-id-1 label.sk-toggleable__label-arrow:hover:before {color: black;}#sk-container-id-1 div.sk-estimator:hover label.sk-toggleable__label-arrow:before {color: black;}#sk-container-id-1 div.sk-toggleable__content {max-height: 0;max-width: 0;overflow: hidden;text-align: left;background-color: #f0f8ff;}#sk-container-id-1 div.sk-toggleable__content pre {margin: 0.2em;color: black;border-radius: 0.25em;background-color: #f0f8ff;}#sk-container-id-1 input.sk-toggleable__control:checked~div.sk-toggleable__content {max-height: 200px;max-width: 100%;overflow: auto;}#sk-container-id-1 input.sk-toggleable__control:checked~label.sk-toggleable__label-arrow:before {content: \"▾\";}#sk-container-id-1 div.sk-estimator input.sk-toggleable__control:checked~label.sk-toggleable__label {background-color: #d4ebff;}#sk-container-id-1 div.sk-label input.sk-toggleable__control:checked~label.sk-toggleable__label {background-color: #d4ebff;}#sk-container-id-1 input.sk-hidden--visually {border: 0;clip: rect(1px 1px 1px 1px);clip: rect(1px, 1px, 1px, 1px);height: 1px;margin: -1px;overflow: hidden;padding: 0;position: absolute;width: 1px;}#sk-container-id-1 div.sk-estimator {font-family: monospace;background-color: #f0f8ff;border: 1px dotted black;border-radius: 0.25em;box-sizing: border-box;margin-bottom: 0.5em;}#sk-container-id-1 div.sk-estimator:hover {background-color: #d4ebff;}#sk-container-id-1 div.sk-parallel-item::after {content: \"\";width: 100%;border-bottom: 1px solid gray;flex-grow: 1;}#sk-container-id-1 div.sk-label:hover label.sk-toggleable__label {background-color: #d4ebff;}#sk-container-id-1 div.sk-serial::before {content: \"\";position: absolute;border-left: 1px solid gray;box-sizing: border-box;top: 0;bottom: 0;left: 50%;z-index: 0;}#sk-container-id-1 div.sk-serial {display: flex;flex-direction: column;align-items: center;background-color: white;padding-right: 0.2em;padding-left: 0.2em;position: relative;}#sk-container-id-1 div.sk-item {position: relative;z-index: 1;}#sk-container-id-1 div.sk-parallel {display: flex;align-items: stretch;justify-content: center;background-color: white;position: relative;}#sk-container-id-1 div.sk-item::before, #sk-container-id-1 div.sk-parallel-item::before {content: \"\";position: absolute;border-left: 1px solid gray;box-sizing: border-box;top: 0;bottom: 0;left: 50%;z-index: -1;}#sk-container-id-1 div.sk-parallel-item {display: flex;flex-direction: column;z-index: 1;position: relative;background-color: white;}#sk-container-id-1 div.sk-parallel-item:first-child::after {align-self: flex-end;width: 50%;}#sk-container-id-1 div.sk-parallel-item:last-child::after {align-self: flex-start;width: 50%;}#sk-container-id-1 div.sk-parallel-item:only-child::after {width: 0;}#sk-container-id-1 div.sk-dashed-wrapped {border: 1px dashed gray;margin: 0 0.4em 0.5em 0.4em;box-sizing: border-box;padding-bottom: 0.4em;background-color: white;}#sk-container-id-1 div.sk-label label {font-family: monospace;font-weight: bold;display: inline-block;line-height: 1.2em;}#sk-container-id-1 div.sk-label-container {text-align: center;}#sk-container-id-1 div.sk-container {/* jupyter's `normalize.less` sets `[hidden] { display: none; }` but bootstrap.min.css set `[hidden] { display: none !important; }` so we also need the `!important` here to be able to override the default hidden behavior on the sphinx rendered scikit-learn.org. See: https://github.com/scikit-learn/scikit-learn/issues/21755 */display: inline-block !important;position: relative;}#sk-container-id-1 div.sk-text-repr-fallback {display: none;}</style><div id=\"sk-container-id-1\" class=\"sk-top-container\"><div class=\"sk-text-repr-fallback\"><pre>Pipeline(steps=[(&#x27;pipeline&#x27;,\n",
       "                 Pipeline(steps=[(&#x27;standardscaler&#x27;, StandardScaler())])),\n",
       "                (&#x27;ridgecv&#x27;,\n",
       "                 RidgeCV(alphas=[1e-06, 1e-05, 0.0001, 0.001, 0.01, 0.1, 1]))])</pre><b>In a Jupyter environment, please rerun this cell to show the HTML representation or trust the notebook. <br />On GitHub, the HTML representation is unable to render, please try loading this page with nbviewer.org.</b></div><div class=\"sk-container\" hidden><div class=\"sk-item sk-dashed-wrapped\"><div class=\"sk-label-container\"><div class=\"sk-label sk-toggleable\"><input class=\"sk-toggleable__control sk-hidden--visually\" id=\"sk-estimator-id-1\" type=\"checkbox\" ><label for=\"sk-estimator-id-1\" class=\"sk-toggleable__label sk-toggleable__label-arrow\">Pipeline</label><div class=\"sk-toggleable__content\"><pre>Pipeline(steps=[(&#x27;pipeline&#x27;,\n",
       "                 Pipeline(steps=[(&#x27;standardscaler&#x27;, StandardScaler())])),\n",
       "                (&#x27;ridgecv&#x27;,\n",
       "                 RidgeCV(alphas=[1e-06, 1e-05, 0.0001, 0.001, 0.01, 0.1, 1]))])</pre></div></div></div><div class=\"sk-serial\"><div class=\"sk-item\"><div class=\"sk-label-container\"><div class=\"sk-label sk-toggleable\"><input class=\"sk-toggleable__control sk-hidden--visually\" id=\"sk-estimator-id-2\" type=\"checkbox\" ><label for=\"sk-estimator-id-2\" class=\"sk-toggleable__label sk-toggleable__label-arrow\">pipeline: Pipeline</label><div class=\"sk-toggleable__content\"><pre>Pipeline(steps=[(&#x27;standardscaler&#x27;, StandardScaler())])</pre></div></div></div><div class=\"sk-serial\"><div class=\"sk-item\"><div class=\"sk-estimator sk-toggleable\"><input class=\"sk-toggleable__control sk-hidden--visually\" id=\"sk-estimator-id-3\" type=\"checkbox\" ><label for=\"sk-estimator-id-3\" class=\"sk-toggleable__label sk-toggleable__label-arrow\">StandardScaler</label><div class=\"sk-toggleable__content\"><pre>StandardScaler()</pre></div></div></div></div></div><div class=\"sk-item\"><div class=\"sk-estimator sk-toggleable\"><input class=\"sk-toggleable__control sk-hidden--visually\" id=\"sk-estimator-id-4\" type=\"checkbox\" ><label for=\"sk-estimator-id-4\" class=\"sk-toggleable__label sk-toggleable__label-arrow\">RidgeCV</label><div class=\"sk-toggleable__content\"><pre>RidgeCV(alphas=[1e-06, 1e-05, 0.0001, 0.001, 0.01, 0.1, 1])</pre></div></div></div></div></div></div></div>"
      ],
      "text/plain": [
       "Pipeline(steps=[('pipeline',\n",
       "                 Pipeline(steps=[('standardscaler', StandardScaler())])),\n",
       "                ('ridgecv',\n",
       "                 RidgeCV(alphas=[1e-06, 1e-05, 0.0001, 0.001, 0.01, 0.1, 1]))])"
      ]
     },
     "execution_count": 9,
     "metadata": {},
     "output_type": "execute_result"
    }
   ],
   "source": [
    "# 训练回归拟合模型\n",
    "print(f'Now making decoding model for... {subject}:  {roi}, {target}')\n",
    "pipeline.fit(X, Y)"
   ]
  },
  {
   "cell_type": "code",
   "execution_count": 19,
   "id": "49ebc569-929e-4637-b9a3-e9354588b6e7",
   "metadata": {
    "execution": {
     "iopub.execute_input": "2024-11-27T14:40:23.518331Z",
     "iopub.status.busy": "2024-11-27T14:40:23.517963Z",
     "iopub.status.idle": "2024-11-27T14:40:23.763461Z",
     "shell.execute_reply": "2024-11-27T14:40:23.762808Z",
     "shell.execute_reply.started": "2024-11-27T14:40:23.518299Z"
    }
   },
   "outputs": [
    {
     "name": "stdout",
     "output_type": "stream",
     "text": [
      "Prediction accuracy is: 0.251\n"
     ]
    }
   ],
   "source": [
    "# 模型预测和评估\n",
    "brain_embs = pipeline.predict(X_te)\n",
    "rs = correlation_score(Y_te.T,brain_embs.T)\n",
    "print(f'Prediction accuracy is: {np.mean(rs):3.3}')"
   ]
  },
  {
   "cell_type": "code",
   "execution_count": 20,
   "id": "ba276cd0-7b34-439e-92ab-4c04cb0aea69",
   "metadata": {
    "execution": {
     "iopub.execute_input": "2024-11-26T12:49:02.665773Z",
     "iopub.status.busy": "2024-11-26T12:49:02.665575Z",
     "iopub.status.idle": "2024-11-26T12:49:02.670178Z",
     "shell.execute_reply": "2024-11-26T12:49:02.669478Z",
     "shell.execute_reply.started": "2024-11-26T12:49:02.665757Z"
    }
   },
   "outputs": [
    {
     "name": "stdout",
     "output_type": "stream",
     "text": [
      "[2493.3333   960.3333   440.      ... -262.66666 -229.66667 -205.66667]\n",
      "[-0.07173416 -0.42249662  0.1324219  ... -0.04046825  0.23343459\n",
      "  0.13494942]\n",
      "[-0.95976335 -0.2181579  -1.7245413  ... -0.06844854  0.84640396\n",
      "  0.431206  ]\n",
      "(1000, 6400)\n"
     ]
    }
   ],
   "source": [
    "print(X_te[0])\n",
    "print(brain_embs[0])\n",
    "print(Y_te[0])\n",
    "print(brain_embs.shape)"
   ]
  },
  {
   "cell_type": "code",
   "execution_count": 21,
   "id": "b515d407-ab82-4fad-bf36-f5f2b1439788",
   "metadata": {
    "execution": {
     "iopub.execute_input": "2024-11-26T12:49:02.672039Z",
     "iopub.status.busy": "2024-11-26T12:49:02.671675Z",
     "iopub.status.idle": "2024-11-26T12:49:02.678355Z",
     "shell.execute_reply": "2024-11-26T12:49:02.677791Z",
     "shell.execute_reply.started": "2024-11-26T12:49:02.672016Z"
    }
   },
   "outputs": [
    {
     "name": "stdout",
     "output_type": "stream",
     "text": [
      "Best alpha parameter: [1. 1. 1. ... 1. 1. 1.]\n"
     ]
    }
   ],
   "source": [
    "best_alpha = pipeline.named_steps['ridgecv'].best_alphas_\n",
    "print(\"Best alpha parameter:\", best_alpha)"
   ]
  },
  {
   "cell_type": "code",
   "execution_count": 22,
   "id": "c904ac01-d4da-4463-b2fe-f9529ba911ca",
   "metadata": {
    "execution": {
     "iopub.execute_input": "2024-11-26T12:49:02.679298Z",
     "iopub.status.busy": "2024-11-26T12:49:02.679050Z",
     "iopub.status.idle": "2024-11-26T12:49:03.016649Z",
     "shell.execute_reply": "2024-11-26T12:49:03.014959Z",
     "shell.execute_reply.started": "2024-11-26T12:49:02.679270Z"
    }
   },
   "outputs": [],
   "source": [
    "# 保存预测结果\n",
    "np.save(f'{savedir}/{subject}_{\"_\".join(roi)}_brain_embs_{target}.npy',brain_embs)"
   ]
  },
  {
   "cell_type": "markdown",
   "id": "e89b700c-befa-4094-b9d2-048d293dbf58",
   "metadata": {},
   "source": [
    "### 下面是对齐后的解码"
   ]
  },
  {
   "cell_type": "code",
   "execution_count": 34,
   "id": "693af4ed",
   "metadata": {},
   "outputs": [],
   "source": [
    "source_subj='subj01'\n",
    "target_subj = 'subj07'\n",
    "roi = ['early']   # 需要对齐的ROI\n",
    "\n",
    "# 路径设置\n",
    "tardir = f'../data/fmri/{target_subj}'\n",
    "braindir = f'../data/fmri_align/{target_subj}'\n"
   ]
  },
  {
   "cell_type": "code",
   "execution_count": 35,
   "id": "fee59e7c-0b4e-47d5-8975-aeb03fdad4d2",
   "metadata": {
    "execution": {
     "iopub.execute_input": "2024-11-27T14:40:23.764662Z",
     "iopub.status.busy": "2024-11-27T14:40:23.764320Z",
     "iopub.status.idle": "2024-11-27T14:40:23.773809Z",
     "shell.execute_reply": "2024-11-27T14:40:23.773233Z",
     "shell.execute_reply.started": "2024-11-27T14:40:23.764638Z"
    }
   },
   "outputs": [],
   "source": [
    "brain_align = np.load(f'{braindir}/{target_subj}_{\"_\".join(roi)}_brain_align2_{source_subj}.npy')"
   ]
  },
  {
   "cell_type": "code",
   "execution_count": 36,
   "id": "1c6dea89-c91c-46cd-8dc7-584f6b51f8ef",
   "metadata": {
    "execution": {
     "iopub.execute_input": "2024-11-27T14:40:23.776403Z",
     "iopub.status.busy": "2024-11-27T14:40:23.776094Z",
     "iopub.status.idle": "2024-11-27T14:40:23.793433Z",
     "shell.execute_reply": "2024-11-27T14:40:23.792837Z",
     "shell.execute_reply.started": "2024-11-27T14:40:23.776382Z"
    }
   },
   "outputs": [],
   "source": [
    "Y_te = np.load(f'../data/nsdfeat/{target_subj}_feat/{target_subj}_ave_{target}_te.npy').astype(\"float32\")\n",
    "Y_te = Y_te[800:]"
   ]
  },
  {
   "cell_type": "code",
   "execution_count": 37,
   "id": "8c74d544-a18e-4a11-a118-f60f2c648310",
   "metadata": {
    "execution": {
     "iopub.execute_input": "2024-11-27T14:40:23.794813Z",
     "iopub.status.busy": "2024-11-27T14:40:23.794533Z",
     "iopub.status.idle": "2024-11-27T14:40:24.131447Z",
     "shell.execute_reply": "2024-11-27T14:40:24.130726Z",
     "shell.execute_reply.started": "2024-11-27T14:40:23.794793Z"
    }
   },
   "outputs": [
    {
     "name": "stdout",
     "output_type": "stream",
     "text": [
      "Prediction accuracy is: 0.0784\n"
     ]
    }
   ],
   "source": [
    "brain_embs = pipeline.predict(brain_align)\n",
    "rs = correlation_score(Y_te.T,brain_embs.T)\n",
    "print(f'Prediction accuracy is: {np.mean(rs):3.3}')\n",
    "# print(brain_embs.shape)\n",
    "# print(brain_align.shape)\n",
    "# print(Y_te.shape)"
   ]
  },
  {
   "cell_type": "code",
   "execution_count": 38,
   "id": "0872d091-1fd7-4321-b6ca-d785e6d721ca",
   "metadata": {
    "execution": {
     "iopub.execute_input": "2024-11-27T14:40:24.132687Z",
     "iopub.status.busy": "2024-11-27T14:40:24.132341Z",
     "iopub.status.idle": "2024-11-27T14:40:24.440094Z",
     "shell.execute_reply": "2024-11-27T14:40:24.438448Z",
     "shell.execute_reply.started": "2024-11-27T14:40:24.132668Z"
    }
   },
   "outputs": [],
   "source": [
    "np.save(f'../data/decoded/{target_subj}/{target_subj}_to_{source_subj}_{\"_\".join(roi)}_brain_embs_{target}.npy',brain_embs)"
   ]
  },
  {
   "cell_type": "code",
   "execution_count": null,
   "id": "9e308a7a-8c67-4042-997d-e1d438664191",
   "metadata": {},
   "outputs": [],
   "source": []
  }
 ],
 "metadata": {
  "kernelspec": {
   "display_name": "brain",
   "language": "python",
   "name": "brain"
  },
  "widgets": {
   "application/vnd.jupyter.widget-state+json": {
    "state": {},
    "version_major": 2,
    "version_minor": 0
   }
  }
 },
 "nbformat": 4,
 "nbformat_minor": 5
}
