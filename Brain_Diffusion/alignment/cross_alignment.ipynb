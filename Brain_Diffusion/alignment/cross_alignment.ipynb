{
 "cells": [
  {
   "cell_type": "code",
   "execution_count": 1,
   "id": "43bad197",
   "metadata": {},
   "outputs": [
    {
     "name": "stdout",
     "output_type": "stream",
     "text": [
      "当前工作目录: /data\n",
      "当前工作目录: /data/zlhu/NeuroAI/Eye-of-Brain/Brain-Diffusion/alignment\n"
     ]
    }
   ],
   "source": [
    "import os\n",
    "# 获取当前文件所在目录\n",
    "current_dir = os.path.dirname(os.path.abspath(''))\n",
    "print(\"当前工作目录:\", current_dir)\n",
    "# 设置工作目录\n",
    "os.chdir('/data/zlhu/NeuroAI/Eye-of-Brain/Brain-Diffusion/alignment')\n",
    "# 验证工作目录\n",
    "print(\"当前工作目录:\", os.getcwd())"
   ]
  },
  {
   "cell_type": "code",
   "execution_count": 2,
   "id": "9656092a-0cce-465e-962f-be3f1a7dc0c1",
   "metadata": {
    "execution": {
     "iopub.execute_input": "2024-11-26T12:37:48.388233Z",
     "iopub.status.busy": "2024-11-26T12:37:48.387592Z",
     "iopub.status.idle": "2024-11-26T12:37:49.941645Z",
     "shell.execute_reply": "2024-11-26T12:37:49.939902Z",
     "shell.execute_reply.started": "2024-11-26T12:37:48.388189Z"
    }
   },
   "outputs": [],
   "source": [
    "import argparse, os\n",
    "import numpy as np\n",
    "from himalaya.backend import set_backend\n",
    "from himalaya.ridge import RidgeCV\n",
    "from himalaya.scoring import correlation_score\n",
    "from sklearn.pipeline import make_pipeline\n",
    "from sklearn.preprocessing import StandardScaler"
   ]
  },
  {
   "cell_type": "code",
   "execution_count": 3,
   "id": "8ca41683-06a7-4b45-a4b2-12069c49df0d",
   "metadata": {
    "execution": {
     "iopub.execute_input": "2024-11-26T12:37:49.945892Z",
     "iopub.status.busy": "2024-11-26T12:37:49.944920Z",
     "iopub.status.idle": "2024-11-26T12:37:49.956286Z",
     "shell.execute_reply": "2024-11-26T12:37:49.954443Z",
     "shell.execute_reply.started": "2024-11-26T12:37:49.945823Z"
    }
   },
   "outputs": [],
   "source": [
    "# 参数设置\n",
    "source='subj07'\n",
    "target = 'subj05'\n",
    "roi = ['early']   # 需要对齐的ROI\n",
    "backend = set_backend(\"numpy\", on_error=\"warn\")"
   ]
  },
  {
   "cell_type": "code",
   "execution_count": 4,
   "id": "56905d19-2c89-4fbc-a203-ca1a63ef155a",
   "metadata": {
    "execution": {
     "iopub.execute_input": "2024-11-26T12:37:52.266165Z",
     "iopub.status.busy": "2024-11-26T12:37:52.265635Z",
     "iopub.status.idle": "2024-11-26T12:37:52.296249Z",
     "shell.execute_reply": "2024-11-26T12:37:52.294755Z",
     "shell.execute_reply.started": "2024-11-26T12:37:52.266122Z"
    }
   },
   "outputs": [],
   "source": [
    "# 路径设置\n",
    "sourdir = f'../data/fmri/{source}'\n",
    "tardir = f'../data/fmri/{target}'\n",
    "savedir = f'../data/fmri_align/{target}'\n",
    "# os.makedirs(savedir, exist_ok=True)"
   ]
  },
  {
   "cell_type": "code",
   "execution_count": 5,
   "id": "dfc7ccd1-2210-47de-93e2-20b2b826d494",
   "metadata": {
    "execution": {
     "iopub.execute_input": "2024-11-26T12:37:53.059285Z",
     "iopub.status.busy": "2024-11-26T12:37:53.058757Z",
     "iopub.status.idle": "2024-11-26T12:37:53.066358Z",
     "shell.execute_reply": "2024-11-26T12:37:53.064485Z",
     "shell.execute_reply.started": "2024-11-26T12:37:53.059243Z"
    }
   },
   "outputs": [],
   "source": [
    "# 超参数选择，正则化系数\n",
    "# alpha = [1e3, 3e3, 6e3, 9e3, 1e4, 3e4, 6e4, 9e4, 1e5]\n",
    "alpha = [0.000001,0.00001,0.0001,0.001,0.01, 0.1, 1]"
   ]
  },
  {
   "cell_type": "code",
   "execution_count": 6,
   "id": "cc4e5e53-3fe3-4dbb-92c6-74b94779dc90",
   "metadata": {
    "execution": {
     "iopub.execute_input": "2024-11-26T12:37:55.035162Z",
     "iopub.status.busy": "2024-11-26T12:37:55.034618Z",
     "iopub.status.idle": "2024-11-26T12:37:55.044014Z",
     "shell.execute_reply": "2024-11-26T12:37:55.042137Z",
     "shell.execute_reply.started": "2024-11-26T12:37:55.035120Z"
    }
   },
   "outputs": [],
   "source": [
    "'''算法流程'''\n",
    "# 创建岭回归\n",
    "ridge = RidgeCV(alphas=alpha)\n",
    "\n",
    "# 创建预处理流程\n",
    "preprocess_pipeline = make_pipeline(\n",
    "    StandardScaler(with_mean=True, with_std=True),\n",
    ")\n",
    "\n",
    "# 预处理+岭回归 流程pipeline\n",
    "pipeline = make_pipeline(\n",
    "    preprocess_pipeline,\n",
    "    ridge,\n",
    ") "
   ]
  },
  {
   "cell_type": "code",
   "execution_count": 7,
   "id": "c97232a5",
   "metadata": {},
   "outputs": [],
   "source": [
    "'''加载训练和测试数据'''\n",
    "X = []  # 所有对齐样本 1000（800：200）\n",
    "\n",
    "for croi in roi:\n",
    "    cX = np.load(f'{tardir}/{target}_{croi}_betas_ave_te.npy').astype(\"float32\")\n",
    "    X.append(cX)\n",
    "\n",
    "# 堆叠所有roi并转为np\n",
    "X = np.hstack(X)\n",
    "\n",
    "X_tr = X[:800]\n",
    "X_te = X[800:]\n",
    "\n",
    "\n",
    "Y = []   \n",
    "for croi in roi:\n",
    "    cY = np.load(f'{sourdir}/{source}_{croi}_betas_ave_te.npy').astype(\"float32\")\n",
    "    Y.append(cY)\n",
    "\n",
    "# 目标数据（图像特征）\n",
    "Y = np.hstack(Y)\n",
    "\n",
    "Y_tr = Y[:800]\n",
    "Y_te = Y[800:]"
   ]
  },
  {
   "cell_type": "code",
   "execution_count": 8,
   "id": "798a84d5-d2d6-47c9-a56b-f7e0c7b39c1e",
   "metadata": {
    "execution": {
     "iopub.execute_input": "2024-11-26T12:43:50.998644Z",
     "iopub.status.busy": "2024-11-26T12:43:50.998164Z",
     "iopub.status.idle": "2024-11-26T12:43:51.003390Z",
     "shell.execute_reply": "2024-11-26T12:43:51.002597Z",
     "shell.execute_reply.started": "2024-11-26T12:43:50.998608Z"
    }
   },
   "outputs": [
    {
     "name": "stdout",
     "output_type": "stream",
     "text": [
      "X_tr (800, 4494), X_te (200, 4494), Y_tr (800, 4559), Y_te (200, 4559)\n"
     ]
    }
   ],
   "source": [
    "print(f'X_tr {X_tr.shape}, X_te {X_te.shape}, Y_tr {Y_tr.shape}, Y_te {Y_te.shape}')"
   ]
  },
  {
   "cell_type": "code",
   "execution_count": 9,
   "id": "255a3cb9-86a6-43d3-9abf-b6cbc12d1a00",
   "metadata": {
    "execution": {
     "iopub.execute_input": "2024-11-26T12:43:52.088566Z",
     "iopub.status.busy": "2024-11-26T12:43:52.088079Z",
     "iopub.status.idle": "2024-11-26T12:44:05.179326Z",
     "shell.execute_reply": "2024-11-26T12:44:05.178723Z",
     "shell.execute_reply.started": "2024-11-26T12:43:52.088533Z"
    }
   },
   "outputs": [
    {
     "name": "stdout",
     "output_type": "stream",
     "text": [
      "Now making alignment model for... subj05 -align-to- subj07 in ['early']\n"
     ]
    },
    {
     "name": "stderr",
     "output_type": "stream",
     "text": [
      "/data/zlhu/miniconda3/envs/brain/lib/python3.8/site-packages/himalaya/ridge/_random_search.py:491: UserWarning: Solving ridge is slower than solving kernel ridge when n_samples < n_features (here 800 < 4494). Using a linear kernel in himalaya.kernel_ridge.KernelRidgeCV or himalaya.kernel_ridge.solve_kernel_ridge_cv_eigenvalues would be faster. Use warn=False to silence this warning.\n",
      "  warnings.warn(\n"
     ]
    },
    {
     "data": {
      "text/html": [
       "<style>#sk-container-id-1 {color: black;}#sk-container-id-1 pre{padding: 0;}#sk-container-id-1 div.sk-toggleable {background-color: white;}#sk-container-id-1 label.sk-toggleable__label {cursor: pointer;display: block;width: 100%;margin-bottom: 0;padding: 0.3em;box-sizing: border-box;text-align: center;}#sk-container-id-1 label.sk-toggleable__label-arrow:before {content: \"▸\";float: left;margin-right: 0.25em;color: #696969;}#sk-container-id-1 label.sk-toggleable__label-arrow:hover:before {color: black;}#sk-container-id-1 div.sk-estimator:hover label.sk-toggleable__label-arrow:before {color: black;}#sk-container-id-1 div.sk-toggleable__content {max-height: 0;max-width: 0;overflow: hidden;text-align: left;background-color: #f0f8ff;}#sk-container-id-1 div.sk-toggleable__content pre {margin: 0.2em;color: black;border-radius: 0.25em;background-color: #f0f8ff;}#sk-container-id-1 input.sk-toggleable__control:checked~div.sk-toggleable__content {max-height: 200px;max-width: 100%;overflow: auto;}#sk-container-id-1 input.sk-toggleable__control:checked~label.sk-toggleable__label-arrow:before {content: \"▾\";}#sk-container-id-1 div.sk-estimator input.sk-toggleable__control:checked~label.sk-toggleable__label {background-color: #d4ebff;}#sk-container-id-1 div.sk-label input.sk-toggleable__control:checked~label.sk-toggleable__label {background-color: #d4ebff;}#sk-container-id-1 input.sk-hidden--visually {border: 0;clip: rect(1px 1px 1px 1px);clip: rect(1px, 1px, 1px, 1px);height: 1px;margin: -1px;overflow: hidden;padding: 0;position: absolute;width: 1px;}#sk-container-id-1 div.sk-estimator {font-family: monospace;background-color: #f0f8ff;border: 1px dotted black;border-radius: 0.25em;box-sizing: border-box;margin-bottom: 0.5em;}#sk-container-id-1 div.sk-estimator:hover {background-color: #d4ebff;}#sk-container-id-1 div.sk-parallel-item::after {content: \"\";width: 100%;border-bottom: 1px solid gray;flex-grow: 1;}#sk-container-id-1 div.sk-label:hover label.sk-toggleable__label {background-color: #d4ebff;}#sk-container-id-1 div.sk-serial::before {content: \"\";position: absolute;border-left: 1px solid gray;box-sizing: border-box;top: 0;bottom: 0;left: 50%;z-index: 0;}#sk-container-id-1 div.sk-serial {display: flex;flex-direction: column;align-items: center;background-color: white;padding-right: 0.2em;padding-left: 0.2em;position: relative;}#sk-container-id-1 div.sk-item {position: relative;z-index: 1;}#sk-container-id-1 div.sk-parallel {display: flex;align-items: stretch;justify-content: center;background-color: white;position: relative;}#sk-container-id-1 div.sk-item::before, #sk-container-id-1 div.sk-parallel-item::before {content: \"\";position: absolute;border-left: 1px solid gray;box-sizing: border-box;top: 0;bottom: 0;left: 50%;z-index: -1;}#sk-container-id-1 div.sk-parallel-item {display: flex;flex-direction: column;z-index: 1;position: relative;background-color: white;}#sk-container-id-1 div.sk-parallel-item:first-child::after {align-self: flex-end;width: 50%;}#sk-container-id-1 div.sk-parallel-item:last-child::after {align-self: flex-start;width: 50%;}#sk-container-id-1 div.sk-parallel-item:only-child::after {width: 0;}#sk-container-id-1 div.sk-dashed-wrapped {border: 1px dashed gray;margin: 0 0.4em 0.5em 0.4em;box-sizing: border-box;padding-bottom: 0.4em;background-color: white;}#sk-container-id-1 div.sk-label label {font-family: monospace;font-weight: bold;display: inline-block;line-height: 1.2em;}#sk-container-id-1 div.sk-label-container {text-align: center;}#sk-container-id-1 div.sk-container {/* jupyter's `normalize.less` sets `[hidden] { display: none; }` but bootstrap.min.css set `[hidden] { display: none !important; }` so we also need the `!important` here to be able to override the default hidden behavior on the sphinx rendered scikit-learn.org. See: https://github.com/scikit-learn/scikit-learn/issues/21755 */display: inline-block !important;position: relative;}#sk-container-id-1 div.sk-text-repr-fallback {display: none;}</style><div id=\"sk-container-id-1\" class=\"sk-top-container\"><div class=\"sk-text-repr-fallback\"><pre>Pipeline(steps=[(&#x27;pipeline&#x27;,\n",
       "                 Pipeline(steps=[(&#x27;standardscaler&#x27;, StandardScaler())])),\n",
       "                (&#x27;ridgecv&#x27;,\n",
       "                 RidgeCV(alphas=[1e-06, 1e-05, 0.0001, 0.001, 0.01, 0.1, 1]))])</pre><b>In a Jupyter environment, please rerun this cell to show the HTML representation or trust the notebook. <br />On GitHub, the HTML representation is unable to render, please try loading this page with nbviewer.org.</b></div><div class=\"sk-container\" hidden><div class=\"sk-item sk-dashed-wrapped\"><div class=\"sk-label-container\"><div class=\"sk-label sk-toggleable\"><input class=\"sk-toggleable__control sk-hidden--visually\" id=\"sk-estimator-id-1\" type=\"checkbox\" ><label for=\"sk-estimator-id-1\" class=\"sk-toggleable__label sk-toggleable__label-arrow\">Pipeline</label><div class=\"sk-toggleable__content\"><pre>Pipeline(steps=[(&#x27;pipeline&#x27;,\n",
       "                 Pipeline(steps=[(&#x27;standardscaler&#x27;, StandardScaler())])),\n",
       "                (&#x27;ridgecv&#x27;,\n",
       "                 RidgeCV(alphas=[1e-06, 1e-05, 0.0001, 0.001, 0.01, 0.1, 1]))])</pre></div></div></div><div class=\"sk-serial\"><div class=\"sk-item\"><div class=\"sk-label-container\"><div class=\"sk-label sk-toggleable\"><input class=\"sk-toggleable__control sk-hidden--visually\" id=\"sk-estimator-id-2\" type=\"checkbox\" ><label for=\"sk-estimator-id-2\" class=\"sk-toggleable__label sk-toggleable__label-arrow\">pipeline: Pipeline</label><div class=\"sk-toggleable__content\"><pre>Pipeline(steps=[(&#x27;standardscaler&#x27;, StandardScaler())])</pre></div></div></div><div class=\"sk-serial\"><div class=\"sk-item\"><div class=\"sk-estimator sk-toggleable\"><input class=\"sk-toggleable__control sk-hidden--visually\" id=\"sk-estimator-id-3\" type=\"checkbox\" ><label for=\"sk-estimator-id-3\" class=\"sk-toggleable__label sk-toggleable__label-arrow\">StandardScaler</label><div class=\"sk-toggleable__content\"><pre>StandardScaler()</pre></div></div></div></div></div><div class=\"sk-item\"><div class=\"sk-estimator sk-toggleable\"><input class=\"sk-toggleable__control sk-hidden--visually\" id=\"sk-estimator-id-4\" type=\"checkbox\" ><label for=\"sk-estimator-id-4\" class=\"sk-toggleable__label sk-toggleable__label-arrow\">RidgeCV</label><div class=\"sk-toggleable__content\"><pre>RidgeCV(alphas=[1e-06, 1e-05, 0.0001, 0.001, 0.01, 0.1, 1])</pre></div></div></div></div></div></div></div>"
      ],
      "text/plain": [
       "Pipeline(steps=[('pipeline',\n",
       "                 Pipeline(steps=[('standardscaler', StandardScaler())])),\n",
       "                ('ridgecv',\n",
       "                 RidgeCV(alphas=[1e-06, 1e-05, 0.0001, 0.001, 0.01, 0.1, 1]))])"
      ]
     },
     "execution_count": 9,
     "metadata": {},
     "output_type": "execute_result"
    }
   ],
   "source": [
    "# 训练对齐模型\n",
    "print(f'Now making alignment model for... {target} -align-to- {source} in {roi}')\n",
    "pipeline.fit(X_tr, Y_tr)"
   ]
  },
  {
   "cell_type": "code",
   "execution_count": 10,
   "id": "5db3e649-d059-41d6-aa7c-bd69cc35a99e",
   "metadata": {
    "execution": {
     "iopub.execute_input": "2024-11-26T12:44:06.685892Z",
     "iopub.status.busy": "2024-11-26T12:44:06.685421Z",
     "iopub.status.idle": "2024-11-26T12:44:07.141425Z",
     "shell.execute_reply": "2024-11-26T12:44:07.140541Z",
     "shell.execute_reply.started": "2024-11-26T12:44:06.685860Z"
    }
   },
   "outputs": [
    {
     "name": "stdout",
     "output_type": "stream",
     "text": [
      "Prediction accuracy is: 0.0465\n"
     ]
    }
   ],
   "source": [
    "# 模型预测和评估\n",
    "brain_align = pipeline.predict(X_te)\n",
    "rs = correlation_score(Y_te.T,brain_align.T)\n",
    "print(f'Prediction accuracy is: {np.mean(rs):3.3}')"
   ]
  },
  {
   "cell_type": "code",
   "execution_count": 11,
   "id": "aa0aa72c-b226-497e-bae0-0d9de8cccfc6",
   "metadata": {
    "execution": {
     "iopub.execute_input": "2024-11-26T12:44:08.677485Z",
     "iopub.status.busy": "2024-11-26T12:44:08.676623Z",
     "iopub.status.idle": "2024-11-26T12:44:08.683212Z",
     "shell.execute_reply": "2024-11-26T12:44:08.682419Z",
     "shell.execute_reply.started": "2024-11-26T12:44:08.677449Z"
    }
   },
   "outputs": [
    {
     "name": "stdout",
     "output_type": "stream",
     "text": [
      "[299.33334   58.333332 797.3333   ...  29.333334 -60.       -81.      ]\n",
      "[ 343.23886   858.7257    457.3103   ...  -13.167908 -110.56087\n",
      " -202.75308 ]\n",
      "[ -425.33334 -1332.6666   -223.      ...  -684.3333  -1225.6666\n",
      "  -429.33334]\n",
      "(200, 4559)\n"
     ]
    }
   ],
   "source": [
    "print(X_te[0])\n",
    "print(brain_align[0])\n",
    "print(Y_te[0])\n",
    "print(brain_align.shape)"
   ]
  },
  {
   "cell_type": "code",
   "execution_count": 12,
   "id": "bbf02d6f-1652-4bd9-a257-0aa79f710560",
   "metadata": {
    "execution": {
     "iopub.execute_input": "2024-11-26T12:44:11.311037Z",
     "iopub.status.busy": "2024-11-26T12:44:11.310188Z",
     "iopub.status.idle": "2024-11-26T12:44:11.316382Z",
     "shell.execute_reply": "2024-11-26T12:44:11.315016Z",
     "shell.execute_reply.started": "2024-11-26T12:44:11.310999Z"
    }
   },
   "outputs": [
    {
     "name": "stdout",
     "output_type": "stream",
     "text": [
      "Best alpha parameter: 1.0\n"
     ]
    }
   ],
   "source": [
    "best_alpha = pipeline.named_steps['ridgecv'].best_alphas_\n",
    "print(\"Best alpha parameter:\", best_alpha.mean())"
   ]
  },
  {
   "cell_type": "code",
   "execution_count": 13,
   "id": "c7e61926-5a9d-4ace-a637-0fd50bf17882",
   "metadata": {
    "execution": {
     "iopub.execute_input": "2024-11-26T12:44:24.294982Z",
     "iopub.status.busy": "2024-11-26T12:44:24.294508Z",
     "iopub.status.idle": "2024-11-26T12:44:24.607031Z",
     "shell.execute_reply": "2024-11-26T12:44:24.606148Z",
     "shell.execute_reply.started": "2024-11-26T12:44:24.294949Z"
    }
   },
   "outputs": [],
   "source": [
    "# 保存预测结果\n",
    "np.save(f'{savedir}/{target}_{\"_\".join(roi)}_brain_align2_{source}.npy',brain_align)"
   ]
  },
  {
   "cell_type": "code",
   "execution_count": null,
   "id": "2c3f5932-8a36-4386-8055-6c386c7f8573",
   "metadata": {},
   "outputs": [],
   "source": []
  }
 ],
 "metadata": {
  "kernelspec": {
   "display_name": "brain",
   "language": "python",
   "name": "brain"
  },
  "language_info": {
   "codemirror_mode": {
    "name": "ipython",
    "version": 3
   },
   "file_extension": ".py",
   "mimetype": "text/x-python",
   "name": "python",
   "nbconvert_exporter": "python",
   "pygments_lexer": "ipython3",
   "version": "3.8.18"
  },
  "widgets": {
   "application/vnd.jupyter.widget-state+json": {
    "state": {},
    "version_major": 2,
    "version_minor": 0
   }
  }
 },
 "nbformat": 4,
 "nbformat_minor": 5
}
