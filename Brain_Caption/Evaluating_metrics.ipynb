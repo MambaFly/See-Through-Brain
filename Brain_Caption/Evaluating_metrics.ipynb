{
 "cells": [
  {
   "cell_type": "code",
   "execution_count": 1,
   "id": "29b0115a-422f-4c24-9d39-bd39b877cf54",
   "metadata": {
    "execution": {
     "iopub.execute_input": "2024-11-21T10:28:57.438362Z",
     "iopub.status.busy": "2024-11-21T10:28:57.437816Z",
     "iopub.status.idle": "2024-11-21T10:31:19.566525Z",
     "shell.execute_reply": "2024-11-21T10:31:19.565513Z",
     "shell.execute_reply.started": "2024-11-21T10:28:57.438317Z"
    }
   },
   "outputs": [
    {
     "ename": "ModuleNotFoundError",
     "evalue": "No module named 'aiohttp'",
     "output_type": "error",
     "traceback": [
      "\u001b[0;31m---------------------------------------------------------------------------\u001b[0m",
      "\u001b[0;31mModuleNotFoundError\u001b[0m                       Traceback (most recent call last)",
      "Cell \u001b[0;32mIn[1], line 4\u001b[0m\n\u001b[1;32m      1\u001b[0m \u001b[38;5;124;03m'''\u001b[39;00m\n\u001b[1;32m      2\u001b[0m \u001b[38;5;124;03m导入模型评估包\u001b[39;00m\n\u001b[1;32m      3\u001b[0m \u001b[38;5;124;03m'''\u001b[39;00m\n\u001b[0;32m----> 4\u001b[0m \u001b[38;5;28;01mfrom\u001b[39;00m \u001b[38;5;21;01mdatasets\u001b[39;00m \u001b[38;5;28;01mimport\u001b[39;00m load_metric\n\u001b[1;32m      5\u001b[0m \u001b[38;5;28;01mfrom\u001b[39;00m \u001b[38;5;21;01msentence_transformers\u001b[39;00m \u001b[38;5;28;01mimport\u001b[39;00m SentenceTransformer, util\n\u001b[1;32m      6\u001b[0m \u001b[38;5;28;01mfrom\u001b[39;00m \u001b[38;5;21;01mtransformers\u001b[39;00m \u001b[38;5;28;01mimport\u001b[39;00m AutoProcessor, CLIPModel, AutoTokenizer\n",
      "File \u001b[0;32m~/miniconda3/envs/ldm/lib/python3.8/site-packages/datasets/__init__.py:17\u001b[0m\n\u001b[1;32m      1\u001b[0m \u001b[38;5;66;03m# Copyright 2020 The HuggingFace Datasets Authors and the TensorFlow Datasets Authors.\u001b[39;00m\n\u001b[1;32m      2\u001b[0m \u001b[38;5;66;03m#\u001b[39;00m\n\u001b[1;32m      3\u001b[0m \u001b[38;5;66;03m# Licensed under the Apache License, Version 2.0 (the \"License\");\u001b[39;00m\n\u001b[0;32m   (...)\u001b[0m\n\u001b[1;32m     12\u001b[0m \u001b[38;5;66;03m# See the License for the specific language governing permissions and\u001b[39;00m\n\u001b[1;32m     13\u001b[0m \u001b[38;5;66;03m# limitations under the License.\u001b[39;00m\n\u001b[1;32m     15\u001b[0m __version__ \u001b[38;5;241m=\u001b[39m \u001b[38;5;124m\"\u001b[39m\u001b[38;5;124m3.1.0\u001b[39m\u001b[38;5;124m\"\u001b[39m\n\u001b[0;32m---> 17\u001b[0m \u001b[38;5;28;01mfrom\u001b[39;00m \u001b[38;5;21;01m.\u001b[39;00m\u001b[38;5;21;01marrow_dataset\u001b[39;00m \u001b[38;5;28;01mimport\u001b[39;00m Dataset\n\u001b[1;32m     18\u001b[0m \u001b[38;5;28;01mfrom\u001b[39;00m \u001b[38;5;21;01m.\u001b[39;00m\u001b[38;5;21;01marrow_reader\u001b[39;00m \u001b[38;5;28;01mimport\u001b[39;00m ReadInstruction\n\u001b[1;32m     19\u001b[0m \u001b[38;5;28;01mfrom\u001b[39;00m \u001b[38;5;21;01m.\u001b[39;00m\u001b[38;5;21;01mbuilder\u001b[39;00m \u001b[38;5;28;01mimport\u001b[39;00m ArrowBasedBuilder, BuilderConfig, DatasetBuilder, GeneratorBasedBuilder\n",
      "File \u001b[0;32m~/miniconda3/envs/ldm/lib/python3.8/site-packages/datasets/arrow_dataset.py:76\u001b[0m\n\u001b[1;32m     73\u001b[0m \u001b[38;5;28;01mfrom\u001b[39;00m \u001b[38;5;21;01mtqdm\u001b[39;00m\u001b[38;5;21;01m.\u001b[39;00m\u001b[38;5;21;01mcontrib\u001b[39;00m\u001b[38;5;21;01m.\u001b[39;00m\u001b[38;5;21;01mconcurrent\u001b[39;00m \u001b[38;5;28;01mimport\u001b[39;00m thread_map\n\u001b[1;32m     75\u001b[0m \u001b[38;5;28;01mfrom\u001b[39;00m \u001b[38;5;21;01m.\u001b[39;00m \u001b[38;5;28;01mimport\u001b[39;00m config\n\u001b[0;32m---> 76\u001b[0m \u001b[38;5;28;01mfrom\u001b[39;00m \u001b[38;5;21;01m.\u001b[39;00m\u001b[38;5;21;01marrow_reader\u001b[39;00m \u001b[38;5;28;01mimport\u001b[39;00m ArrowReader\n\u001b[1;32m     77\u001b[0m \u001b[38;5;28;01mfrom\u001b[39;00m \u001b[38;5;21;01m.\u001b[39;00m\u001b[38;5;21;01marrow_writer\u001b[39;00m \u001b[38;5;28;01mimport\u001b[39;00m ArrowWriter, OptimizedTypedSequence\n\u001b[1;32m     78\u001b[0m \u001b[38;5;28;01mfrom\u001b[39;00m \u001b[38;5;21;01m.\u001b[39;00m\u001b[38;5;21;01mdata_files\u001b[39;00m \u001b[38;5;28;01mimport\u001b[39;00m sanitize_patterns\n",
      "File \u001b[0;32m~/miniconda3/envs/ldm/lib/python3.8/site-packages/datasets/arrow_reader.py:30\u001b[0m\n\u001b[1;32m     27\u001b[0m \u001b[38;5;28;01mimport\u001b[39;00m \u001b[38;5;21;01mpyarrow\u001b[39;00m\u001b[38;5;21;01m.\u001b[39;00m\u001b[38;5;21;01mparquet\u001b[39;00m \u001b[38;5;28;01mas\u001b[39;00m \u001b[38;5;21;01mpq\u001b[39;00m\n\u001b[1;32m     28\u001b[0m \u001b[38;5;28;01mfrom\u001b[39;00m \u001b[38;5;21;01mtqdm\u001b[39;00m\u001b[38;5;21;01m.\u001b[39;00m\u001b[38;5;21;01mcontrib\u001b[39;00m\u001b[38;5;21;01m.\u001b[39;00m\u001b[38;5;21;01mconcurrent\u001b[39;00m \u001b[38;5;28;01mimport\u001b[39;00m thread_map\n\u001b[0;32m---> 30\u001b[0m \u001b[38;5;28;01mfrom\u001b[39;00m \u001b[38;5;21;01m.\u001b[39;00m\u001b[38;5;21;01mdownload\u001b[39;00m\u001b[38;5;21;01m.\u001b[39;00m\u001b[38;5;21;01mdownload_config\u001b[39;00m \u001b[38;5;28;01mimport\u001b[39;00m DownloadConfig  \u001b[38;5;66;03m# noqa: F401\u001b[39;00m\n\u001b[1;32m     31\u001b[0m \u001b[38;5;28;01mfrom\u001b[39;00m \u001b[38;5;21;01m.\u001b[39;00m\u001b[38;5;21;01mnaming\u001b[39;00m \u001b[38;5;28;01mimport\u001b[39;00m _split_re, filenames_for_dataset_split\n\u001b[1;32m     32\u001b[0m \u001b[38;5;28;01mfrom\u001b[39;00m \u001b[38;5;21;01m.\u001b[39;00m\u001b[38;5;21;01mtable\u001b[39;00m \u001b[38;5;28;01mimport\u001b[39;00m InMemoryTable, MemoryMappedTable, Table, concat_tables\n",
      "File \u001b[0;32m~/miniconda3/envs/ldm/lib/python3.8/site-packages/datasets/download/__init__.py:9\u001b[0m\n\u001b[1;32m      1\u001b[0m __all__ \u001b[38;5;241m=\u001b[39m [\n\u001b[1;32m      2\u001b[0m     \u001b[38;5;124m\"\u001b[39m\u001b[38;5;124mDownloadConfig\u001b[39m\u001b[38;5;124m\"\u001b[39m,\n\u001b[1;32m      3\u001b[0m     \u001b[38;5;124m\"\u001b[39m\u001b[38;5;124mDownloadManager\u001b[39m\u001b[38;5;124m\"\u001b[39m,\n\u001b[1;32m      4\u001b[0m     \u001b[38;5;124m\"\u001b[39m\u001b[38;5;124mDownloadMode\u001b[39m\u001b[38;5;124m\"\u001b[39m,\n\u001b[1;32m      5\u001b[0m     \u001b[38;5;124m\"\u001b[39m\u001b[38;5;124mStreamingDownloadManager\u001b[39m\u001b[38;5;124m\"\u001b[39m,\n\u001b[1;32m      6\u001b[0m ]\n\u001b[1;32m      8\u001b[0m \u001b[38;5;28;01mfrom\u001b[39;00m \u001b[38;5;21;01m.\u001b[39;00m\u001b[38;5;21;01mdownload_config\u001b[39;00m \u001b[38;5;28;01mimport\u001b[39;00m DownloadConfig\n\u001b[0;32m----> 9\u001b[0m \u001b[38;5;28;01mfrom\u001b[39;00m \u001b[38;5;21;01m.\u001b[39;00m\u001b[38;5;21;01mdownload_manager\u001b[39;00m \u001b[38;5;28;01mimport\u001b[39;00m DownloadManager, DownloadMode\n\u001b[1;32m     10\u001b[0m \u001b[38;5;28;01mfrom\u001b[39;00m \u001b[38;5;21;01m.\u001b[39;00m\u001b[38;5;21;01mstreaming_download_manager\u001b[39;00m \u001b[38;5;28;01mimport\u001b[39;00m StreamingDownloadManager\n",
      "File \u001b[0;32m~/miniconda3/envs/ldm/lib/python3.8/site-packages/datasets/download/download_manager.py:32\u001b[0m\n\u001b[1;32m     30\u001b[0m \u001b[38;5;28;01mfrom\u001b[39;00m \u001b[38;5;21;01m.\u001b[39;00m\u001b[38;5;21;01m.\u001b[39;00m \u001b[38;5;28;01mimport\u001b[39;00m config\n\u001b[1;32m     31\u001b[0m \u001b[38;5;28;01mfrom\u001b[39;00m \u001b[38;5;21;01m.\u001b[39;00m\u001b[38;5;21;01m.\u001b[39;00m\u001b[38;5;21;01mutils\u001b[39;00m \u001b[38;5;28;01mimport\u001b[39;00m tqdm \u001b[38;5;28;01mas\u001b[39;00m hf_tqdm\n\u001b[0;32m---> 32\u001b[0m \u001b[38;5;28;01mfrom\u001b[39;00m \u001b[38;5;21;01m.\u001b[39;00m\u001b[38;5;21;01m.\u001b[39;00m\u001b[38;5;21;01mutils\u001b[39;00m\u001b[38;5;21;01m.\u001b[39;00m\u001b[38;5;21;01mfile_utils\u001b[39;00m \u001b[38;5;28;01mimport\u001b[39;00m (\n\u001b[1;32m     33\u001b[0m     ArchiveIterable,\n\u001b[1;32m     34\u001b[0m     FilesIterable,\n\u001b[1;32m     35\u001b[0m     cached_path,\n\u001b[1;32m     36\u001b[0m     is_relative_path,\n\u001b[1;32m     37\u001b[0m     stack_multiprocessing_download_progress_bars,\n\u001b[1;32m     38\u001b[0m     url_or_path_join,\n\u001b[1;32m     39\u001b[0m )\n\u001b[1;32m     40\u001b[0m \u001b[38;5;28;01mfrom\u001b[39;00m \u001b[38;5;21;01m.\u001b[39;00m\u001b[38;5;21;01m.\u001b[39;00m\u001b[38;5;21;01mutils\u001b[39;00m\u001b[38;5;21;01m.\u001b[39;00m\u001b[38;5;21;01minfo_utils\u001b[39;00m \u001b[38;5;28;01mimport\u001b[39;00m get_size_checksum_dict\n\u001b[1;32m     41\u001b[0m \u001b[38;5;28;01mfrom\u001b[39;00m \u001b[38;5;21;01m.\u001b[39;00m\u001b[38;5;21;01m.\u001b[39;00m\u001b[38;5;21;01mutils\u001b[39;00m\u001b[38;5;21;01m.\u001b[39;00m\u001b[38;5;21;01mlogging\u001b[39;00m \u001b[38;5;28;01mimport\u001b[39;00m get_logger, tqdm\n",
      "File \u001b[0;32m~/miniconda3/envs/ldm/lib/python3.8/site-packages/datasets/utils/file_utils.py:30\u001b[0m\n\u001b[1;32m     27\u001b[0m \u001b[38;5;28;01mfrom\u001b[39;00m \u001b[38;5;21;01murllib\u001b[39;00m\u001b[38;5;21;01m.\u001b[39;00m\u001b[38;5;21;01mparse\u001b[39;00m \u001b[38;5;28;01mimport\u001b[39;00m urlparse\n\u001b[1;32m     28\u001b[0m \u001b[38;5;28;01mfrom\u001b[39;00m \u001b[38;5;21;01mxml\u001b[39;00m\u001b[38;5;21;01m.\u001b[39;00m\u001b[38;5;21;01metree\u001b[39;00m \u001b[38;5;28;01mimport\u001b[39;00m ElementTree \u001b[38;5;28;01mas\u001b[39;00m ET\n\u001b[0;32m---> 30\u001b[0m \u001b[38;5;28;01mimport\u001b[39;00m \u001b[38;5;21;01maiohttp\u001b[39;00m\u001b[38;5;21;01m.\u001b[39;00m\u001b[38;5;21;01mclient_exceptions\u001b[39;00m\n\u001b[1;32m     31\u001b[0m \u001b[38;5;28;01mimport\u001b[39;00m \u001b[38;5;21;01mfsspec\u001b[39;00m\n\u001b[1;32m     32\u001b[0m \u001b[38;5;28;01mimport\u001b[39;00m \u001b[38;5;21;01mhuggingface_hub\u001b[39;00m\n",
      "\u001b[0;31mModuleNotFoundError\u001b[0m: No module named 'aiohttp'"
     ]
    }
   ],
   "source": [
    "'''\n",
    "导入模型评估包\n",
    "'''\n",
    "from datasets import load_metric\n",
    "from sentence_transformers import SentenceTransformer, util\n",
    "from transformers import AutoProcessor, CLIPModel, AutoTokenizer\n",
    "import pickle\n",
    "import torch"
   ]
  },
  {
   "cell_type": "code",
   "execution_count": 10,
   "id": "1b55d17a-5e0e-4289-86f8-b86fc5cfc002",
   "metadata": {
    "execution": {
     "iopub.execute_input": "2024-05-16T07:50:15.319816Z",
     "iopub.status.busy": "2024-05-16T07:50:15.319188Z",
     "iopub.status.idle": "2024-05-16T07:50:15.327118Z",
     "shell.execute_reply": "2024-05-16T07:50:15.325652Z",
     "shell.execute_reply.started": "2024-05-16T07:50:15.319763Z"
    }
   },
   "outputs": [],
   "source": [
    "# 相关变量和参数\n",
    "subj = 'subj01'\n",
    "test_captions= []\n",
    "captions_from_images = []\n",
    "captions_from_brain = []"
   ]
  },
  {
   "cell_type": "code",
   "execution_count": 18,
   "id": "b5a59741-8c9e-4393-916c-7e41c1fb3ec2",
   "metadata": {
    "execution": {
     "iopub.execute_input": "2024-05-16T07:53:22.399759Z",
     "iopub.status.busy": "2024-05-16T07:53:22.399193Z",
     "iopub.status.idle": "2024-05-16T07:53:22.412597Z",
     "shell.execute_reply": "2024-05-16T07:53:22.411055Z",
     "shell.execute_reply.started": "2024-05-16T07:53:22.399699Z"
    }
   },
   "outputs": [],
   "source": [
    "'''加载captions'''\n",
    "# 人工标注字幕(真实标签)\n",
    "with open(f\"decoded_captions/{subj}/test_captions.sav\",\"rb\") as f:\n",
    "    test_captions = pickle.load(f)\n",
    "\n",
    "# 图像字幕\n",
    "with open(f\"decoded_captions/{subj}/image_captions.sav\",\"rb\") as f:\n",
    "    captions_from_images = pickle.load(f) \n",
    "\n",
    "# 大脑字幕\n",
    "with open(f\"decoded_captions/{subj}/brain_captions.sav\",\"rb\") as f:\n",
    "    captions_from_brain = pickle.load(f)\n",
    "    "
   ]
  },
  {
   "cell_type": "code",
   "execution_count": 20,
   "id": "fedf18c8-fbde-4c18-92a6-0ebec2eb23f5",
   "metadata": {
    "execution": {
     "iopub.execute_input": "2024-05-16T07:53:27.349709Z",
     "iopub.status.busy": "2024-05-16T07:53:27.349167Z",
     "iopub.status.idle": "2024-05-16T07:53:31.412916Z",
     "shell.execute_reply": "2024-05-16T07:53:31.412271Z",
     "shell.execute_reply.started": "2024-05-16T07:53:27.349664Z"
    }
   },
   "outputs": [
    {
     "name": "stderr",
     "output_type": "stream",
     "text": [
      "/data/zlhu/miniconda3/envs/ldm2/lib/python3.8/site-packages/datasets/load.py:759: FutureWarning: The repository for meteor contains custom code which must be executed to correctly load the metric. You can inspect the repository content at https://raw.githubusercontent.com/huggingface/datasets/2.19.1/metrics/meteor/meteor.py\n",
      "You can avoid this message in future by passing the argument `trust_remote_code=True`.\n",
      "Passing `trust_remote_code=True` will be mandatory to load this metric from the next major release of `datasets`.\n",
      "  warnings.warn(\n",
      "[nltk_data] Downloading package wordnet to /data/zlhu/nltk_data...\n",
      "[nltk_data]   Package wordnet is already up-to-date!\n",
      "[nltk_data] Downloading package punkt to /data/zlhu/nltk_data...\n",
      "[nltk_data]   Package punkt is already up-to-date!\n",
      "[nltk_data] Downloading package omw-1.4 to /data/zlhu/nltk_data...\n",
      "[nltk_data]   Package omw-1.4 is already up-to-date!\n"
     ]
    },
    {
     "name": "stdout",
     "output_type": "stream",
     "text": [
      "[GROUND] METEOR GIT from images vs captions: 0.4042709206426454\n",
      "[ABSOLUTE] METEOR GIT from brain vs images: 0.30495808381140255\n"
     ]
    }
   ],
   "source": [
    "'''  METEOR 评估指标 '''\n",
    "meteor = load_metric('meteor')\n",
    "\n",
    "meteor_img_ref=meteor.compute(predictions=captions_from_images,references=test_captions)\n",
    "# meteor_brain_ref=meteor.compute(predictions=captions_from_brain,references=test_captions)\n",
    "meteor_brain_img=meteor.compute(predictions=captions_from_brain,references=captions_from_images)\n",
    "\n",
    "# relative_brain_image_meteor=meteor_brain_img[\"meteor\"]/meteor_img_ref[\"meteor\"]\n",
    "\n",
    "print(f\"[GROUND] METEOR GIT from images vs captions: {meteor_img_ref['meteor']}\")\n",
    "# print(f\"[ABSOLUTE] METEOR GIT from brain vs captions: {meteor_brain_ref['meteor']}\")\n",
    "print(f\"[ABSOLUTE] METEOR GIT from brain vs images: {meteor_brain_img['meteor']}\")\n",
    "\n",
    "# print(f\"[RELATIVE] METEOR  {relative_brain_image_meteor}\")"
   ]
  },
  {
   "cell_type": "code",
   "execution_count": 24,
   "id": "d955ccab-99ae-4cfc-8fcb-2562d35647eb",
   "metadata": {
    "execution": {
     "iopub.execute_input": "2024-05-16T07:54:24.131510Z",
     "iopub.status.busy": "2024-05-16T07:54:24.130561Z",
     "iopub.status.idle": "2024-05-16T07:54:24.806006Z",
     "shell.execute_reply": "2024-05-16T07:54:24.805358Z",
     "shell.execute_reply.started": "2024-05-16T07:54:24.131433Z"
    }
   },
   "outputs": [
    {
     "name": "stdout",
     "output_type": "stream",
     "text": [
      "[GROUND] Sentence Transformer Similarity GIT from image vs human: 0.7029381394386292\n",
      "[ABSOLUTE] Sentence Transformer Similarity GIT from brain vs image: 0.4474000036716461\n"
     ]
    }
   ],
   "source": [
    "''' sentence transformer 评估指标 '''\n",
    "sentence_model = SentenceTransformer('./sentence-transformers/all-MiniLM-L6-v2')\n",
    "\n",
    "#Compute embedding for both lists\n",
    "with torch.no_grad():\n",
    "    embedding_brain= sentence_model.encode(captions_from_brain, convert_to_tensor=True)\n",
    "    embedding_captions = sentence_model.encode(test_captions, convert_to_tensor=True)\n",
    "    embedding_images = sentence_model.encode(captions_from_images, convert_to_tensor=True)\n",
    "\n",
    "    ss_sim_brain_img=util.pytorch_cos_sim(embedding_brain, embedding_images).cpu()\n",
    "    ss_sim_brain_cap=util.pytorch_cos_sim(embedding_brain, embedding_captions).cpu()\n",
    "    ss_sim_img_cap=util.pytorch_cos_sim(embedding_images, embedding_captions).cpu()\n",
    "\n",
    "    # relative_brain_image_ss=ss_sim_brain_img.diag().mean()/ss_sim_img_cap.diag().mean()\n",
    "\n",
    "\n",
    "print(f\"[GROUND] Sentence Transformer Similarity GIT from image vs human: {ss_sim_img_cap.diag().mean()}\")\n",
    "print(f\"[ABSOLUTE] Sentence Transformer Similarity GIT from brain vs image: {ss_sim_brain_img.diag().mean()}\")\n",
    "# print(f\"[RELATIVE] Sentence Transformer Similarity   {relative_brain_image_ss.mean()}\")"
   ]
  },
  {
   "cell_type": "code",
   "execution_count": 25,
   "id": "e6118a32-fb46-4e9b-b310-e47625b0a809",
   "metadata": {
    "execution": {
     "iopub.execute_input": "2024-05-16T07:54:57.721500Z",
     "iopub.status.busy": "2024-05-16T07:54:57.720906Z",
     "iopub.status.idle": "2024-05-16T07:55:13.762387Z",
     "shell.execute_reply": "2024-05-16T07:55:13.761752Z",
     "shell.execute_reply.started": "2024-05-16T07:54:57.721453Z"
    }
   },
   "outputs": [
    {
     "name": "stdout",
     "output_type": "stream",
     "text": [
      "[GROUND] CLIP Similarity GIT from image vs human: 0.8316735029220581\n",
      "[ABSOLUTE] CLIP Similarity GIT from brain vs image: 0.705390989780426\n"
     ]
    }
   ],
   "source": [
    "''' clip similarity 评估指标 '''\n",
    "model_clip = CLIPModel.from_pretrained(\"./openai/clip-vit-base-patch32\")\n",
    "processor_clip = AutoProcessor.from_pretrained(\"./openai/clip-vit-base-patch32\")\n",
    "tokenizer =  AutoTokenizer.from_pretrained(\"./openai/clip-vit-base-patch32\")\n",
    "\n",
    "with torch.no_grad():\n",
    "    input_ids=tokenizer(captions_from_brain,return_tensors=\"pt\",padding=True)\n",
    "    embedding_brain= model_clip.get_text_features(**input_ids)\n",
    "\n",
    "    input_ids=tokenizer(test_captions,return_tensors=\"pt\",padding=True)\n",
    "    embedding_captions= model_clip.get_text_features(**input_ids)\n",
    "\n",
    "    input_ids=tokenizer(captions_from_images,return_tensors=\"pt\",padding=True)\n",
    "    embedding_images= model_clip.get_text_features(**input_ids)\n",
    "\n",
    "clip_sim_brain_img=util.pytorch_cos_sim(embedding_brain, embedding_images).cpu()\n",
    "clip_sim_brain_cap=util.pytorch_cos_sim(embedding_brain, embedding_captions).cpu()\n",
    "clip_sim_img_cap=util.pytorch_cos_sim(embedding_images, embedding_captions).cpu()\n",
    "\n",
    "# relative_brain_image_clip=clip_sim_brain_img.diag().mean()/clip_sim_img_cap.diag().mean()\n",
    "\n",
    "print(f\"[GROUND] CLIP Similarity GIT from image vs human: {clip_sim_img_cap.diag().mean()}\")\n",
    "print(f\"[ABSOLUTE] CLIP Similarity GIT from brain vs image: {clip_sim_brain_img.diag().mean()}\")\n",
    "# print(f\"[RELATIVE] CLIP Similarity   {relative_brain_image_clip.mean()}\")"
   ]
  }
 ],
 "metadata": {
  "kernelspec": {
   "display_name": "ldm",
   "language": "python",
   "name": "ldm"
  },
  "language_info": {
   "codemirror_mode": {
    "name": "ipython",
    "version": 3
   },
   "file_extension": ".py",
   "mimetype": "text/x-python",
   "name": "python",
   "nbconvert_exporter": "python",
   "pygments_lexer": "ipython3",
   "version": "3.8.18"
  },
  "widgets": {
   "application/vnd.jupyter.widget-state+json": {
    "state": {},
    "version_major": 2,
    "version_minor": 0
   }
  }
 },
 "nbformat": 4,
 "nbformat_minor": 5
}
