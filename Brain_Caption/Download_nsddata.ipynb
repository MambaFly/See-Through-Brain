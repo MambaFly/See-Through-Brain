{
 "cells": [
  {
   "cell_type": "code",
   "execution_count": 3,
   "id": "f1d5a576-6f4a-4677-a980-2e7e87f3970d",
   "metadata": {
    "execution": {
     "iopub.execute_input": "2024-05-14T03:55:45.860502Z",
     "iopub.status.busy": "2024-05-14T03:55:45.859784Z",
     "iopub.status.idle": "2024-05-14T03:55:45.869086Z",
     "shell.execute_reply": "2024-05-14T03:55:45.867788Z",
     "shell.execute_reply.started": "2024-05-14T03:55:45.860453Z"
    }
   },
   "outputs": [
    {
     "data": {
      "text/plain": [
       "'\\nnsd的相关数据下载\\n'"
      ]
     },
     "execution_count": 3,
     "metadata": {},
     "output_type": "execute_result"
    }
   ],
   "source": [
    "import os\n",
    "\n",
    "'''\n",
    "nsd的相关数据下载\n",
    "'''"
   ]
  },
  {
   "cell_type": "code",
   "execution_count": 4,
   "id": "1071a130-4865-4cfd-af0f-0040d2ede25a",
   "metadata": {
    "execution": {
     "iopub.execute_input": "2024-05-14T03:55:47.111064Z",
     "iopub.status.busy": "2024-05-14T03:55:47.110377Z",
     "iopub.status.idle": "2024-05-14T03:56:14.455383Z",
     "shell.execute_reply": "2024-05-14T03:56:14.454650Z",
     "shell.execute_reply.started": "2024-05-14T03:55:47.111019Z"
    }
   },
   "outputs": [
    {
     "name": "stdout",
     "output_type": "stream",
     "text": [
      "download: s3://natural-scenes-dataset/nsddata/experiments/nsd/nsd_expdesign.mat to nsddata/experiments/nsd/nsd_expdesign.mat\n",
      "download: s3://natural-scenes-dataset/nsddata/experiments/nsd/nsd_stim_info_merged.pkl to nsddata/experiments/nsd/nsd_stim_info_merged.pkl\n"
     ]
    },
    {
     "data": {
      "text/plain": [
       "0"
      ]
     },
     "execution_count": 4,
     "metadata": {},
     "output_type": "execute_result"
    }
   ],
   "source": [
    "# Download Experiment Infos\n",
    "# 实验信息数据（实验设计，刺激信息）\n",
    "os.system('aws s3 cp s3://natural-scenes-dataset/nsddata/experiments/nsd/nsd_expdesign.mat nsddata/experiments/nsd/')\n",
    "os.system('aws s3 cp s3://natural-scenes-dataset/nsddata/experiments/nsd/nsd_stim_info_merged.pkl nsddata/experiments/nsd/')"
   ]
  },
  {
   "cell_type": "code",
   "execution_count": 5,
   "id": "99397252-647f-429c-b1d7-4d82ac2c7056",
   "metadata": {
    "execution": {
     "iopub.execute_input": "2024-05-14T03:56:48.886478Z",
     "iopub.status.busy": "2024-05-14T03:56:48.885867Z",
     "iopub.status.idle": "2024-05-14T04:37:55.302584Z",
     "shell.execute_reply": "2024-05-14T04:37:55.301393Z",
     "shell.execute_reply.started": "2024-05-14T03:56:48.886427Z"
    }
   },
   "outputs": [
    {
     "name": "stdout",
     "output_type": "stream",
     "text": [
      "download: s3://natural-scenes-dataset/nsddata_stimuli/stimuli/nsd/nsd_stimuli.hdf5 to nsddata_stimuli/stimuli/nsd/nsd_stimuli.hdf5\n"
     ]
    },
    {
     "data": {
      "text/plain": [
       "0"
      ]
     },
     "execution_count": 5,
     "metadata": {},
     "output_type": "execute_result"
    }
   ],
   "source": [
    "# Download Stimuli\n",
    "# nsd刺激数据\n",
    "os.system('aws s3 cp s3://natural-scenes-dataset/nsddata_stimuli/stimuli/nsd/nsd_stimuli.hdf5 nsddata_stimuli/stimuli/nsd/')"
   ]
  },
  {
   "cell_type": "code",
   "execution_count": 7,
   "id": "067f07f4-d89a-4ffe-a640-dcef0500c827",
   "metadata": {
    "execution": {
     "iopub.execute_input": "2024-05-14T06:44:27.816439Z",
     "iopub.status.busy": "2024-05-14T06:44:27.815849Z",
     "iopub.status.idle": "2024-05-14T07:38:22.507954Z",
     "shell.execute_reply": "2024-05-14T07:38:22.507130Z",
     "shell.execute_reply.started": "2024-05-14T06:44:27.816396Z"
    },
    "scrolled": true
   },
   "outputs": [
    {
     "name": "stdout",
     "output_type": "stream",
     "text": [
      "download: s3://natural-scenes-dataset/nsddata_betas/ppdata/subj01/func1pt8mm/betas_fithrf_GLMdenoise_RR/betas_session01.nii.gz to nsddata_betas/ppdata/subj01/func1pt8mm/betas_fithrf_GLMdenoise_RR/betas_session01.nii.gz\n",
      "download: s3://natural-scenes-dataset/nsddata_betas/ppdata/subj01/func1pt8mm/betas_fithrf_GLMdenoise_RR/betas_session02.nii.gz to nsddata_betas/ppdata/subj01/func1pt8mm/betas_fithrf_GLMdenoise_RR/betas_session02.nii.gz\n",
      "download: s3://natural-scenes-dataset/nsddata_betas/ppdata/subj01/func1pt8mm/betas_fithrf_GLMdenoise_RR/betas_session03.nii.gz to nsddata_betas/ppdata/subj01/func1pt8mm/betas_fithrf_GLMdenoise_RR/betas_session03.nii.gz\n",
      "download: s3://natural-scenes-dataset/nsddata_betas/ppdata/subj01/func1pt8mm/betas_fithrf_GLMdenoise_RR/betas_session04.nii.gz to nsddata_betas/ppdata/subj01/func1pt8mm/betas_fithrf_GLMdenoise_RR/betas_session04.nii.gz\n",
      "download: s3://natural-scenes-dataset/nsddata_betas/ppdata/subj01/func1pt8mm/betas_fithrf_GLMdenoise_RR/betas_session05.nii.gz to nsddata_betas/ppdata/subj01/func1pt8mm/betas_fithrf_GLMdenoise_RR/betas_session05.nii.gz\n",
      "download: s3://natural-scenes-dataset/nsddata_betas/ppdata/subj01/func1pt8mm/betas_fithrf_GLMdenoise_RR/betas_session06.nii.gz to nsddata_betas/ppdata/subj01/func1pt8mm/betas_fithrf_GLMdenoise_RR/betas_session06.nii.gz\n",
      "download: s3://natural-scenes-dataset/nsddata_betas/ppdata/subj01/func1pt8mm/betas_fithrf_GLMdenoise_RR/betas_session07.nii.gz to nsddata_betas/ppdata/subj01/func1pt8mm/betas_fithrf_GLMdenoise_RR/betas_session07.nii.gz\n",
      "download: s3://natural-scenes-dataset/nsddata_betas/ppdata/subj01/func1pt8mm/betas_fithrf_GLMdenoise_RR/betas_session08.nii.gz to nsddata_betas/ppdata/subj01/func1pt8mm/betas_fithrf_GLMdenoise_RR/betas_session08.nii.gz\n",
      "download: s3://natural-scenes-dataset/nsddata_betas/ppdata/subj01/func1pt8mm/betas_fithrf_GLMdenoise_RR/betas_session09.nii.gz to nsddata_betas/ppdata/subj01/func1pt8mm/betas_fithrf_GLMdenoise_RR/betas_session09.nii.gz\n",
      "download: s3://natural-scenes-dataset/nsddata_betas/ppdata/subj01/func1pt8mm/betas_fithrf_GLMdenoise_RR/betas_session10.nii.gz to nsddata_betas/ppdata/subj01/func1pt8mm/betas_fithrf_GLMdenoise_RR/betas_session10.nii.gz\n",
      "download: s3://natural-scenes-dataset/nsddata_betas/ppdata/subj01/func1pt8mm/betas_fithrf_GLMdenoise_RR/betas_session11.nii.gz to nsddata_betas/ppdata/subj01/func1pt8mm/betas_fithrf_GLMdenoise_RR/betas_session11.nii.gz\n",
      "download: s3://natural-scenes-dataset/nsddata_betas/ppdata/subj01/func1pt8mm/betas_fithrf_GLMdenoise_RR/betas_session12.nii.gz to nsddata_betas/ppdata/subj01/func1pt8mm/betas_fithrf_GLMdenoise_RR/betas_session12.nii.gz\n",
      "download: s3://natural-scenes-dataset/nsddata_betas/ppdata/subj01/func1pt8mm/betas_fithrf_GLMdenoise_RR/betas_session13.nii.gz to nsddata_betas/ppdata/subj01/func1pt8mm/betas_fithrf_GLMdenoise_RR/betas_session13.nii.gz\n",
      "download: s3://natural-scenes-dataset/nsddata_betas/ppdata/subj01/func1pt8mm/betas_fithrf_GLMdenoise_RR/betas_session14.nii.gz to nsddata_betas/ppdata/subj01/func1pt8mm/betas_fithrf_GLMdenoise_RR/betas_session14.nii.gz\n",
      "download: s3://natural-scenes-dataset/nsddata_betas/ppdata/subj01/func1pt8mm/betas_fithrf_GLMdenoise_RR/betas_session15.nii.gz to nsddata_betas/ppdata/subj01/func1pt8mm/betas_fithrf_GLMdenoise_RR/betas_session15.nii.gz\n",
      "download: s3://natural-scenes-dataset/nsddata_betas/ppdata/subj01/func1pt8mm/betas_fithrf_GLMdenoise_RR/betas_session16.nii.gz to nsddata_betas/ppdata/subj01/func1pt8mm/betas_fithrf_GLMdenoise_RR/betas_session16.nii.gz\n",
      "download: s3://natural-scenes-dataset/nsddata_betas/ppdata/subj01/func1pt8mm/betas_fithrf_GLMdenoise_RR/betas_session17.nii.gz to nsddata_betas/ppdata/subj01/func1pt8mm/betas_fithrf_GLMdenoise_RR/betas_session17.nii.gz\n",
      "download: s3://natural-scenes-dataset/nsddata_betas/ppdata/subj01/func1pt8mm/betas_fithrf_GLMdenoise_RR/betas_session18.nii.gz to nsddata_betas/ppdata/subj01/func1pt8mm/betas_fithrf_GLMdenoise_RR/betas_session18.nii.gz\n",
      "download: s3://natural-scenes-dataset/nsddata_betas/ppdata/subj01/func1pt8mm/betas_fithrf_GLMdenoise_RR/betas_session19.nii.gz to nsddata_betas/ppdata/subj01/func1pt8mm/betas_fithrf_GLMdenoise_RR/betas_session19.nii.gz\n",
      "download: s3://natural-scenes-dataset/nsddata_betas/ppdata/subj01/func1pt8mm/betas_fithrf_GLMdenoise_RR/betas_session20.nii.gz to nsddata_betas/ppdata/subj01/func1pt8mm/betas_fithrf_GLMdenoise_RR/betas_session20.nii.gz\n",
      "download: s3://natural-scenes-dataset/nsddata_betas/ppdata/subj01/func1pt8mm/betas_fithrf_GLMdenoise_RR/betas_session21.nii.gz to nsddata_betas/ppdata/subj01/func1pt8mm/betas_fithrf_GLMdenoise_RR/betas_session21.nii.gz\n",
      "download: s3://natural-scenes-dataset/nsddata_betas/ppdata/subj01/func1pt8mm/betas_fithrf_GLMdenoise_RR/betas_session22.nii.gz to nsddata_betas/ppdata/subj01/func1pt8mm/betas_fithrf_GLMdenoise_RR/betas_session22.nii.gz\n",
      "download: s3://natural-scenes-dataset/nsddata_betas/ppdata/subj01/func1pt8mm/betas_fithrf_GLMdenoise_RR/betas_session23.nii.gz to nsddata_betas/ppdata/subj01/func1pt8mm/betas_fithrf_GLMdenoise_RR/betas_session23.nii.gz\n",
      "download: s3://natural-scenes-dataset/nsddata_betas/ppdata/subj01/func1pt8mm/betas_fithrf_GLMdenoise_RR/betas_session24.nii.gz to nsddata_betas/ppdata/subj01/func1pt8mm/betas_fithrf_GLMdenoise_RR/betas_session24.nii.gz\n",
      "download: s3://natural-scenes-dataset/nsddata_betas/ppdata/subj01/func1pt8mm/betas_fithrf_GLMdenoise_RR/betas_session25.nii.gz to nsddata_betas/ppdata/subj01/func1pt8mm/betas_fithrf_GLMdenoise_RR/betas_session25.nii.gz\n",
      "download: s3://natural-scenes-dataset/nsddata_betas/ppdata/subj01/func1pt8mm/betas_fithrf_GLMdenoise_RR/betas_session26.nii.gz to nsddata_betas/ppdata/subj01/func1pt8mm/betas_fithrf_GLMdenoise_RR/betas_session26.nii.gz\n",
      "download: s3://natural-scenes-dataset/nsddata_betas/ppdata/subj01/func1pt8mm/betas_fithrf_GLMdenoise_RR/betas_session27.nii.gz to nsddata_betas/ppdata/subj01/func1pt8mm/betas_fithrf_GLMdenoise_RR/betas_session27.nii.gz\n",
      "download: s3://natural-scenes-dataset/nsddata_betas/ppdata/subj01/func1pt8mm/betas_fithrf_GLMdenoise_RR/betas_session28.nii.gz to nsddata_betas/ppdata/subj01/func1pt8mm/betas_fithrf_GLMdenoise_RR/betas_session28.nii.gz\n",
      "download: s3://natural-scenes-dataset/nsddata_betas/ppdata/subj01/func1pt8mm/betas_fithrf_GLMdenoise_RR/betas_session29.nii.gz to nsddata_betas/ppdata/subj01/func1pt8mm/betas_fithrf_GLMdenoise_RR/betas_session29.nii.gz\n",
      "download: s3://natural-scenes-dataset/nsddata_betas/ppdata/subj01/func1pt8mm/betas_fithrf_GLMdenoise_RR/betas_session30.nii.gz to nsddata_betas/ppdata/subj01/func1pt8mm/betas_fithrf_GLMdenoise_RR/betas_session30.nii.gz\n",
      "download: s3://natural-scenes-dataset/nsddata_betas/ppdata/subj01/func1pt8mm/betas_fithrf_GLMdenoise_RR/betas_session31.nii.gz to nsddata_betas/ppdata/subj01/func1pt8mm/betas_fithrf_GLMdenoise_RR/betas_session31.nii.gz\n",
      "download: s3://natural-scenes-dataset/nsddata_betas/ppdata/subj01/func1pt8mm/betas_fithrf_GLMdenoise_RR/betas_session32.nii.gz to nsddata_betas/ppdata/subj01/func1pt8mm/betas_fithrf_GLMdenoise_RR/betas_session32.nii.gz\n",
      "download: s3://natural-scenes-dataset/nsddata_betas/ppdata/subj01/func1pt8mm/betas_fithrf_GLMdenoise_RR/betas_session33.nii.gz to nsddata_betas/ppdata/subj01/func1pt8mm/betas_fithrf_GLMdenoise_RR/betas_session33.nii.gz\n",
      "download: s3://natural-scenes-dataset/nsddata_betas/ppdata/subj01/func1pt8mm/betas_fithrf_GLMdenoise_RR/betas_session34.nii.gz to nsddata_betas/ppdata/subj01/func1pt8mm/betas_fithrf_GLMdenoise_RR/betas_session34.nii.gz\n",
      "download: s3://natural-scenes-dataset/nsddata_betas/ppdata/subj01/func1pt8mm/betas_fithrf_GLMdenoise_RR/betas_session35.nii.gz to nsddata_betas/ppdata/subj01/func1pt8mm/betas_fithrf_GLMdenoise_RR/betas_session35.nii.gz\n",
      "download: s3://natural-scenes-dataset/nsddata_betas/ppdata/subj01/func1pt8mm/betas_fithrf_GLMdenoise_RR/betas_session36.nii.gz to nsddata_betas/ppdata/subj01/func1pt8mm/betas_fithrf_GLMdenoise_RR/betas_session36.nii.gz\n",
      "download: s3://natural-scenes-dataset/nsddata_betas/ppdata/subj01/func1pt8mm/betas_fithrf_GLMdenoise_RR/betas_session37.nii.gz to nsddata_betas/ppdata/subj01/func1pt8mm/betas_fithrf_GLMdenoise_RR/betas_session37.nii.gz\n",
      "download: s3://natural-scenes-dataset/nsddata_betas/ppdata/subj01/func1pt8mm/betas_fithrf_GLMdenoise_RR/betas_session38.nii.gz to nsddata_betas/ppdata/subj01/func1pt8mm/betas_fithrf_GLMdenoise_RR/betas_session38.nii.gz\n",
      "download: s3://natural-scenes-dataset/nsddata_betas/ppdata/subj01/func1pt8mm/betas_fithrf_GLMdenoise_RR/betas_session39.nii.gz to nsddata_betas/ppdata/subj01/func1pt8mm/betas_fithrf_GLMdenoise_RR/betas_session39.nii.gz\n",
      "download: s3://natural-scenes-dataset/nsddata_betas/ppdata/subj01/func1pt8mm/betas_fithrf_GLMdenoise_RR/betas_session40.nii.gz to nsddata_betas/ppdata/subj01/func1pt8mm/betas_fithrf_GLMdenoise_RR/betas_session40.nii.gz\n",
      "download: s3://natural-scenes-dataset/nsddata_betas/ppdata/subj02/func1pt8mm/betas_fithrf_GLMdenoise_RR/betas_session01.nii.gz to nsddata_betas/ppdata/subj02/func1pt8mm/betas_fithrf_GLMdenoise_RR/betas_session01.nii.gz\n",
      "download: s3://natural-scenes-dataset/nsddata_betas/ppdata/subj02/func1pt8mm/betas_fithrf_GLMdenoise_RR/betas_session02.nii.gz to nsddata_betas/ppdata/subj02/func1pt8mm/betas_fithrf_GLMdenoise_RR/betas_session02.nii.gz\n",
      "download: s3://natural-scenes-dataset/nsddata_betas/ppdata/subj02/func1pt8mm/betas_fithrf_GLMdenoise_RR/betas_session03.nii.gz to nsddata_betas/ppdata/subj02/func1pt8mm/betas_fithrf_GLMdenoise_RR/betas_session03.nii.gz\n",
      "download: s3://natural-scenes-dataset/nsddata_betas/ppdata/subj02/func1pt8mm/betas_fithrf_GLMdenoise_RR/betas_session04.nii.gz to nsddata_betas/ppdata/subj02/func1pt8mm/betas_fithrf_GLMdenoise_RR/betas_session04.nii.gz\n",
      "download: s3://natural-scenes-dataset/nsddata_betas/ppdata/subj02/func1pt8mm/betas_fithrf_GLMdenoise_RR/betas_session05.nii.gz to nsddata_betas/ppdata/subj02/func1pt8mm/betas_fithrf_GLMdenoise_RR/betas_session05.nii.gz\n",
      "download: s3://natural-scenes-dataset/nsddata_betas/ppdata/subj02/func1pt8mm/betas_fithrf_GLMdenoise_RR/betas_session06.nii.gz to nsddata_betas/ppdata/subj02/func1pt8mm/betas_fithrf_GLMdenoise_RR/betas_session06.nii.gz\n",
      "download: s3://natural-scenes-dataset/nsddata_betas/ppdata/subj02/func1pt8mm/betas_fithrf_GLMdenoise_RR/betas_session07.nii.gz to nsddata_betas/ppdata/subj02/func1pt8mm/betas_fithrf_GLMdenoise_RR/betas_session07.nii.gz\n",
      "download: s3://natural-scenes-dataset/nsddata_betas/ppdata/subj02/func1pt8mm/betas_fithrf_GLMdenoise_RR/betas_session08.nii.gz to nsddata_betas/ppdata/subj02/func1pt8mm/betas_fithrf_GLMdenoise_RR/betas_session08.nii.gz\n",
      "download: s3://natural-scenes-dataset/nsddata_betas/ppdata/subj02/func1pt8mm/betas_fithrf_GLMdenoise_RR/betas_session09.nii.gz to nsddata_betas/ppdata/subj02/func1pt8mm/betas_fithrf_GLMdenoise_RR/betas_session09.nii.gz\n",
      "download: s3://natural-scenes-dataset/nsddata_betas/ppdata/subj02/func1pt8mm/betas_fithrf_GLMdenoise_RR/betas_session10.nii.gz to nsddata_betas/ppdata/subj02/func1pt8mm/betas_fithrf_GLMdenoise_RR/betas_session10.nii.gz\n",
      "download: s3://natural-scenes-dataset/nsddata_betas/ppdata/subj02/func1pt8mm/betas_fithrf_GLMdenoise_RR/betas_session11.nii.gz to nsddata_betas/ppdata/subj02/func1pt8mm/betas_fithrf_GLMdenoise_RR/betas_session11.nii.gz\n",
      "download: s3://natural-scenes-dataset/nsddata_betas/ppdata/subj02/func1pt8mm/betas_fithrf_GLMdenoise_RR/betas_session12.nii.gz to nsddata_betas/ppdata/subj02/func1pt8mm/betas_fithrf_GLMdenoise_RR/betas_session12.nii.gz\n",
      "download: s3://natural-scenes-dataset/nsddata_betas/ppdata/subj02/func1pt8mm/betas_fithrf_GLMdenoise_RR/betas_session13.nii.gz to nsddata_betas/ppdata/subj02/func1pt8mm/betas_fithrf_GLMdenoise_RR/betas_session13.nii.gz\n",
      "download: s3://natural-scenes-dataset/nsddata_betas/ppdata/subj02/func1pt8mm/betas_fithrf_GLMdenoise_RR/betas_session14.nii.gz to nsddata_betas/ppdata/subj02/func1pt8mm/betas_fithrf_GLMdenoise_RR/betas_session14.nii.gz\n",
      "download: s3://natural-scenes-dataset/nsddata_betas/ppdata/subj02/func1pt8mm/betas_fithrf_GLMdenoise_RR/betas_session15.nii.gz to nsddata_betas/ppdata/subj02/func1pt8mm/betas_fithrf_GLMdenoise_RR/betas_session15.nii.gz\n",
      "download: s3://natural-scenes-dataset/nsddata_betas/ppdata/subj02/func1pt8mm/betas_fithrf_GLMdenoise_RR/betas_session16.nii.gz to nsddata_betas/ppdata/subj02/func1pt8mm/betas_fithrf_GLMdenoise_RR/betas_session16.nii.gz\n",
      "download: s3://natural-scenes-dataset/nsddata_betas/ppdata/subj02/func1pt8mm/betas_fithrf_GLMdenoise_RR/betas_session17.nii.gz to nsddata_betas/ppdata/subj02/func1pt8mm/betas_fithrf_GLMdenoise_RR/betas_session17.nii.gz\n",
      "download: s3://natural-scenes-dataset/nsddata_betas/ppdata/subj02/func1pt8mm/betas_fithrf_GLMdenoise_RR/betas_session18.nii.gz to nsddata_betas/ppdata/subj02/func1pt8mm/betas_fithrf_GLMdenoise_RR/betas_session18.nii.gz\n",
      "download: s3://natural-scenes-dataset/nsddata_betas/ppdata/subj02/func1pt8mm/betas_fithrf_GLMdenoise_RR/betas_session19.nii.gz to nsddata_betas/ppdata/subj02/func1pt8mm/betas_fithrf_GLMdenoise_RR/betas_session19.nii.gz\n",
      "download: s3://natural-scenes-dataset/nsddata_betas/ppdata/subj02/func1pt8mm/betas_fithrf_GLMdenoise_RR/betas_session20.nii.gz to nsddata_betas/ppdata/subj02/func1pt8mm/betas_fithrf_GLMdenoise_RR/betas_session20.nii.gz\n",
      "download: s3://natural-scenes-dataset/nsddata_betas/ppdata/subj02/func1pt8mm/betas_fithrf_GLMdenoise_RR/betas_session21.nii.gz to nsddata_betas/ppdata/subj02/func1pt8mm/betas_fithrf_GLMdenoise_RR/betas_session21.nii.gz\n",
      "download: s3://natural-scenes-dataset/nsddata_betas/ppdata/subj02/func1pt8mm/betas_fithrf_GLMdenoise_RR/betas_session22.nii.gz to nsddata_betas/ppdata/subj02/func1pt8mm/betas_fithrf_GLMdenoise_RR/betas_session22.nii.gz\n",
      "download: s3://natural-scenes-dataset/nsddata_betas/ppdata/subj02/func1pt8mm/betas_fithrf_GLMdenoise_RR/betas_session23.nii.gz to nsddata_betas/ppdata/subj02/func1pt8mm/betas_fithrf_GLMdenoise_RR/betas_session23.nii.gz\n",
      "download: s3://natural-scenes-dataset/nsddata_betas/ppdata/subj02/func1pt8mm/betas_fithrf_GLMdenoise_RR/betas_session24.nii.gz to nsddata_betas/ppdata/subj02/func1pt8mm/betas_fithrf_GLMdenoise_RR/betas_session24.nii.gz\n",
      "download: s3://natural-scenes-dataset/nsddata_betas/ppdata/subj02/func1pt8mm/betas_fithrf_GLMdenoise_RR/betas_session25.nii.gz to nsddata_betas/ppdata/subj02/func1pt8mm/betas_fithrf_GLMdenoise_RR/betas_session25.nii.gz\n",
      "download: s3://natural-scenes-dataset/nsddata_betas/ppdata/subj02/func1pt8mm/betas_fithrf_GLMdenoise_RR/betas_session26.nii.gz to nsddata_betas/ppdata/subj02/func1pt8mm/betas_fithrf_GLMdenoise_RR/betas_session26.nii.gz\n",
      "download: s3://natural-scenes-dataset/nsddata_betas/ppdata/subj02/func1pt8mm/betas_fithrf_GLMdenoise_RR/betas_session27.nii.gz to nsddata_betas/ppdata/subj02/func1pt8mm/betas_fithrf_GLMdenoise_RR/betas_session27.nii.gz\n",
      "download: s3://natural-scenes-dataset/nsddata_betas/ppdata/subj02/func1pt8mm/betas_fithrf_GLMdenoise_RR/betas_session28.nii.gz to nsddata_betas/ppdata/subj02/func1pt8mm/betas_fithrf_GLMdenoise_RR/betas_session28.nii.gz\n",
      "download: s3://natural-scenes-dataset/nsddata_betas/ppdata/subj02/func1pt8mm/betas_fithrf_GLMdenoise_RR/betas_session29.nii.gz to nsddata_betas/ppdata/subj02/func1pt8mm/betas_fithrf_GLMdenoise_RR/betas_session29.nii.gz\n",
      "download: s3://natural-scenes-dataset/nsddata_betas/ppdata/subj02/func1pt8mm/betas_fithrf_GLMdenoise_RR/betas_session30.nii.gz to nsddata_betas/ppdata/subj02/func1pt8mm/betas_fithrf_GLMdenoise_RR/betas_session30.nii.gz\n",
      "download: s3://natural-scenes-dataset/nsddata_betas/ppdata/subj02/func1pt8mm/betas_fithrf_GLMdenoise_RR/betas_session31.nii.gz to nsddata_betas/ppdata/subj02/func1pt8mm/betas_fithrf_GLMdenoise_RR/betas_session31.nii.gz\n",
      "download: s3://natural-scenes-dataset/nsddata_betas/ppdata/subj02/func1pt8mm/betas_fithrf_GLMdenoise_RR/betas_session32.nii.gz to nsddata_betas/ppdata/subj02/func1pt8mm/betas_fithrf_GLMdenoise_RR/betas_session32.nii.gz\n",
      "download: s3://natural-scenes-dataset/nsddata_betas/ppdata/subj02/func1pt8mm/betas_fithrf_GLMdenoise_RR/betas_session33.nii.gz to nsddata_betas/ppdata/subj02/func1pt8mm/betas_fithrf_GLMdenoise_RR/betas_session33.nii.gz\n",
      "download: s3://natural-scenes-dataset/nsddata_betas/ppdata/subj02/func1pt8mm/betas_fithrf_GLMdenoise_RR/betas_session34.nii.gz to nsddata_betas/ppdata/subj02/func1pt8mm/betas_fithrf_GLMdenoise_RR/betas_session34.nii.gz\n",
      "download: s3://natural-scenes-dataset/nsddata_betas/ppdata/subj02/func1pt8mm/betas_fithrf_GLMdenoise_RR/betas_session35.nii.gz to nsddata_betas/ppdata/subj02/func1pt8mm/betas_fithrf_GLMdenoise_RR/betas_session35.nii.gz\n",
      "download: s3://natural-scenes-dataset/nsddata_betas/ppdata/subj02/func1pt8mm/betas_fithrf_GLMdenoise_RR/betas_session36.nii.gz to nsddata_betas/ppdata/subj02/func1pt8mm/betas_fithrf_GLMdenoise_RR/betas_session36.nii.gz\n",
      "download: s3://natural-scenes-dataset/nsddata_betas/ppdata/subj02/func1pt8mm/betas_fithrf_GLMdenoise_RR/betas_session37.nii.gz to nsddata_betas/ppdata/subj02/func1pt8mm/betas_fithrf_GLMdenoise_RR/betas_session37.nii.gz\n",
      "download: s3://natural-scenes-dataset/nsddata_betas/ppdata/subj02/func1pt8mm/betas_fithrf_GLMdenoise_RR/betas_session38.nii.gz to nsddata_betas/ppdata/subj02/func1pt8mm/betas_fithrf_GLMdenoise_RR/betas_session38.nii.gz\n",
      "download: s3://natural-scenes-dataset/nsddata_betas/ppdata/subj02/func1pt8mm/betas_fithrf_GLMdenoise_RR/betas_session39.nii.gz to nsddata_betas/ppdata/subj02/func1pt8mm/betas_fithrf_GLMdenoise_RR/betas_session39.nii.gz\n",
      "download: s3://natural-scenes-dataset/nsddata_betas/ppdata/subj02/func1pt8mm/betas_fithrf_GLMdenoise_RR/betas_session40.nii.gz to nsddata_betas/ppdata/subj02/func1pt8mm/betas_fithrf_GLMdenoise_RR/betas_session40.nii.gz\n"
     ]
    }
   ],
   "source": [
    "# Download Betas\n",
    "# 受试者的大脑响应数据（betas）\n",
    "# subj01 session01 beta值:表示受试者01在第1次session的刺激任务中，大脑各个体素的响应值，4维张量，750 x 83 x 104 x 81，表示750次刺激实验中，每个体素的响应强度（用广义线性模型GLM分析时的系数来指代）\n",
    "subj_lis = [1,2]\n",
    "for sub in subj_lis:\n",
    "    for sess in range(1,41):\n",
    "        os.system('aws s3 cp s3://natural-scenes-dataset/nsddata_betas/ppdata/subj{:02d}/func1pt8mm/betas_fithrf_GLMdenoise_RR/betas_session{:02d}.nii.gz nsddata_betas/ppdata/subj{:02d}/func1pt8mm/betas_fithrf_GLMdenoise_RR/'.format(sub,sess,sub))"
   ]
  },
  {
   "cell_type": "code",
   "execution_count": 8,
   "id": "45c4bc2e-b7d7-4678-bac7-7f21e809410f",
   "metadata": {
    "execution": {
     "iopub.execute_input": "2024-05-15T04:46:07.367388Z",
     "iopub.status.busy": "2024-05-15T04:46:07.366797Z",
     "iopub.status.idle": "2024-05-15T04:46:20.982950Z",
     "shell.execute_reply": "2024-05-15T04:46:20.981282Z",
     "shell.execute_reply.started": "2024-05-15T04:46:07.367336Z"
    },
    "scrolled": true
   },
   "outputs": [
    {
     "name": "stdout",
     "output_type": "stream",
     "text": [
      "download: s3://natural-scenes-dataset/nsddata/ppdata/subj01/func1pt8mm/roi/MTL.nii.gz to nsddata/ppdata/subj01/func1pt8mm/roi/MTL.nii.gz\n",
      "download: s3://natural-scenes-dataset/nsddata/ppdata/subj01/func1pt8mm/roi/floc-faces.nii.gz to nsddata/ppdata/subj01/func1pt8mm/roi/floc-faces.nii.gz\n",
      "download: s3://natural-scenes-dataset/nsddata/ppdata/subj01/func1pt8mm/roi/lh.HCP_MMP1.nii.gz to nsddata/ppdata/subj01/func1pt8mm/roi/lh.HCP_MMP1.nii.gz\n",
      "download: s3://natural-scenes-dataset/nsddata/ppdata/subj01/func1pt8mm/roi/lh.MTL.nii.gz to nsddata/ppdata/subj01/func1pt8mm/roi/lh.MTL.nii.gz\n",
      "download: s3://natural-scenes-dataset/nsddata/ppdata/subj01/func1pt8mm/roi/Kastner2015.nii.gz to nsddata/ppdata/subj01/func1pt8mm/roi/Kastner2015.nii.gz\n",
      "download: s3://natural-scenes-dataset/nsddata/ppdata/subj01/func1pt8mm/roi/lh.Kastner2015.nii.gz to nsddata/ppdata/subj01/func1pt8mm/roi/lh.Kastner2015.nii.gz\n",
      "download: s3://natural-scenes-dataset/nsddata/ppdata/subj01/func1pt8mm/roi/lh.corticalsulc.nii.gz to nsddata/ppdata/subj01/func1pt8mm/roi/lh.corticalsulc.nii.gz\n",
      "download: s3://natural-scenes-dataset/nsddata/ppdata/subj01/func1pt8mm/roi/corticalsulc.nii.gz to nsddata/ppdata/subj01/func1pt8mm/roi/corticalsulc.nii.gz\n",
      "download: s3://natural-scenes-dataset/nsddata/ppdata/subj01/func1pt8mm/roi/lh.floc-bodies.nii.gz to nsddata/ppdata/subj01/func1pt8mm/roi/lh.floc-bodies.nii.gz\n",
      "download: s3://natural-scenes-dataset/nsddata/ppdata/subj01/func1pt8mm/roi/HCP_MMP1.nii.gz to nsddata/ppdata/subj01/func1pt8mm/roi/HCP_MMP1.nii.gz\n",
      "download: s3://natural-scenes-dataset/nsddata/ppdata/subj01/func1pt8mm/roi/lh.floc-places.nii.gz to nsddata/ppdata/subj01/func1pt8mm/roi/lh.floc-places.nii.gz\n",
      "download: s3://natural-scenes-dataset/nsddata/ppdata/subj01/func1pt8mm/roi/lh.nsdgeneral.nii.gz to nsddata/ppdata/subj01/func1pt8mm/roi/lh.nsdgeneral.nii.gz\n",
      "download: s3://natural-scenes-dataset/nsddata/ppdata/subj01/func1pt8mm/roi/lh.prf-eccrois.nii.gz to nsddata/ppdata/subj01/func1pt8mm/roi/lh.prf-eccrois.nii.gz\n",
      "download: s3://natural-scenes-dataset/nsddata/ppdata/subj01/func1pt8mm/roi/lh.prf-visualrois.nii.gz to nsddata/ppdata/subj01/func1pt8mm/roi/lh.prf-visualrois.nii.gz\n",
      "download: s3://natural-scenes-dataset/nsddata/ppdata/subj01/func1pt8mm/roi/lh.streams.nii.gz to nsddata/ppdata/subj01/func1pt8mm/roi/lh.streams.nii.gz\n",
      "download: s3://natural-scenes-dataset/nsddata/ppdata/subj01/func1pt8mm/roi/lh.floc-words.nii.gz to nsddata/ppdata/subj01/func1pt8mm/roi/lh.floc-words.nii.gz\n",
      "download: s3://natural-scenes-dataset/nsddata/ppdata/subj01/func1pt8mm/roi/rh.Kastner2015.nii.gz to nsddata/ppdata/subj01/func1pt8mm/roi/rh.Kastner2015.nii.gz\n",
      "download: s3://natural-scenes-dataset/nsddata/ppdata/subj01/func1pt8mm/roi/prf-eccrois.nii.gz to nsddata/ppdata/subj01/func1pt8mm/roi/prf-eccrois.nii.gz\n",
      "download: s3://natural-scenes-dataset/nsddata/ppdata/subj01/func1pt8mm/roi/lh.thalamus.nii.gz to nsddata/ppdata/subj01/func1pt8mm/roi/lh.thalamus.nii.gz\n",
      "download: s3://natural-scenes-dataset/nsddata/ppdata/subj01/func1pt8mm/roi/floc-places.nii.gz to nsddata/ppdata/subj01/func1pt8mm/roi/floc-places.nii.gz\n",
      "download: s3://natural-scenes-dataset/nsddata/ppdata/subj01/func1pt8mm/roi/nsdgeneral.nii.gz to nsddata/ppdata/subj01/func1pt8mm/roi/nsdgeneral.nii.gz\n",
      "download: s3://natural-scenes-dataset/nsddata/ppdata/subj01/func1pt8mm/roi/rh.HCP_MMP1.nii.gz to nsddata/ppdata/subj01/func1pt8mm/roi/rh.HCP_MMP1.nii.gz\n",
      "download: s3://natural-scenes-dataset/nsddata/ppdata/subj01/func1pt8mm/roi/floc-bodies.nii.gz to nsddata/ppdata/subj01/func1pt8mm/roi/floc-bodies.nii.gz\n",
      "download: s3://natural-scenes-dataset/nsddata/ppdata/subj01/func1pt8mm/roi/floc-words.nii.gz to nsddata/ppdata/subj01/func1pt8mm/roi/floc-words.nii.gz\n",
      "download: s3://natural-scenes-dataset/nsddata/ppdata/subj01/func1pt8mm/roi/rh.MTL.nii.gz to nsddata/ppdata/subj01/func1pt8mm/roi/rh.MTL.nii.gz\n",
      "download: s3://natural-scenes-dataset/nsddata/ppdata/subj01/func1pt8mm/roi/rh.corticalsulc.nii.gz to nsddata/ppdata/subj01/func1pt8mm/roi/rh.corticalsulc.nii.gz\n",
      "download: s3://natural-scenes-dataset/nsddata/ppdata/subj01/func1pt8mm/roi/rh.floc-faces.nii.gz to nsddata/ppdata/subj01/func1pt8mm/roi/rh.floc-faces.nii.gz\n",
      "download: s3://natural-scenes-dataset/nsddata/ppdata/subj01/func1pt8mm/roi/rh.floc-bodies.nii.gz to nsddata/ppdata/subj01/func1pt8mm/roi/rh.floc-bodies.nii.gz\n",
      "download: s3://natural-scenes-dataset/nsddata/ppdata/subj01/func1pt8mm/roi/rh.nsdgeneral.nii.gz to nsddata/ppdata/subj01/func1pt8mm/roi/rh.nsdgeneral.nii.gz\n",
      "download: s3://natural-scenes-dataset/nsddata/ppdata/subj01/func1pt8mm/roi/rh.streams.nii.gz to nsddata/ppdata/subj01/func1pt8mm/roi/rh.streams.nii.gz\n",
      "download: s3://natural-scenes-dataset/nsddata/ppdata/subj01/func1pt8mm/roi/lh.floc-faces.nii.gz to nsddata/ppdata/subj01/func1pt8mm/roi/lh.floc-faces.nii.gz\n",
      "download: s3://natural-scenes-dataset/nsddata/ppdata/subj01/func1pt8mm/roi/streams.nii.gz to nsddata/ppdata/subj01/func1pt8mm/roi/streams.nii.gz\n",
      "download: s3://natural-scenes-dataset/nsddata/ppdata/subj01/func1pt8mm/roi/rh.prf-visualrois.nii.gz to nsddata/ppdata/subj01/func1pt8mm/roi/rh.prf-visualrois.nii.gz\n",
      "download: s3://natural-scenes-dataset/nsddata/ppdata/subj01/func1pt8mm/roi/prf-visualrois.nii.gz to nsddata/ppdata/subj01/func1pt8mm/roi/prf-visualrois.nii.gz\n",
      "download: s3://natural-scenes-dataset/nsddata/ppdata/subj01/func1pt8mm/roi/thalamus.nii.gz to nsddata/ppdata/subj01/func1pt8mm/roi/thalamus.nii.gz\n",
      "download: s3://natural-scenes-dataset/nsddata/ppdata/subj01/func1pt8mm/roi/rh.thalamus.nii.gz to nsddata/ppdata/subj01/func1pt8mm/roi/rh.thalamus.nii.gz\n",
      "download: s3://natural-scenes-dataset/nsddata/ppdata/subj01/func1pt8mm/roi/rh.floc-places.nii.gz to nsddata/ppdata/subj01/func1pt8mm/roi/rh.floc-places.nii.gz\n",
      "download: s3://natural-scenes-dataset/nsddata/ppdata/subj01/func1pt8mm/roi/rh.prf-eccrois.nii.gz to nsddata/ppdata/subj01/func1pt8mm/roi/rh.prf-eccrois.nii.gz\n",
      "download: s3://natural-scenes-dataset/nsddata/ppdata/subj01/func1pt8mm/roi/rh.floc-words.nii.gz to nsddata/ppdata/subj01/func1pt8mm/roi/rh.floc-words.nii.gz\n",
      "download: s3://natural-scenes-dataset/nsddata/ppdata/subj02/func1pt8mm/roi/MTL.nii.gz to nsddata/ppdata/subj02/func1pt8mm/roi/MTL.nii.gz\n",
      "download: s3://natural-scenes-dataset/nsddata/ppdata/subj02/func1pt8mm/roi/Kastner2015.nii.gz to nsddata/ppdata/subj02/func1pt8mm/roi/Kastner2015.nii.gz\n",
      "download: s3://natural-scenes-dataset/nsddata/ppdata/subj02/func1pt8mm/roi/floc-places.nii.gz to nsddata/ppdata/subj02/func1pt8mm/roi/floc-places.nii.gz\n",
      "download: s3://natural-scenes-dataset/nsddata/ppdata/subj02/func1pt8mm/roi/floc-faces.nii.gz to nsddata/ppdata/subj02/func1pt8mm/roi/floc-faces.nii.gz\n",
      "download: s3://natural-scenes-dataset/nsddata/ppdata/subj02/func1pt8mm/roi/corticalsulc.nii.gz to nsddata/ppdata/subj02/func1pt8mm/roi/corticalsulc.nii.gz\n",
      "download: s3://natural-scenes-dataset/nsddata/ppdata/subj02/func1pt8mm/roi/floc-words.nii.gz to nsddata/ppdata/subj02/func1pt8mm/roi/floc-words.nii.gz\n",
      "download: s3://natural-scenes-dataset/nsddata/ppdata/subj02/func1pt8mm/roi/lh.Kastner2015.nii.gz to nsddata/ppdata/subj02/func1pt8mm/roi/lh.Kastner2015.nii.gz\n",
      "download: s3://natural-scenes-dataset/nsddata/ppdata/subj02/func1pt8mm/roi/HCP_MMP1.nii.gz to nsddata/ppdata/subj02/func1pt8mm/roi/HCP_MMP1.nii.gz\n",
      "download: s3://natural-scenes-dataset/nsddata/ppdata/subj02/func1pt8mm/roi/lh.MTL.nii.gz to nsddata/ppdata/subj02/func1pt8mm/roi/lh.MTL.nii.gz\n",
      "download: s3://natural-scenes-dataset/nsddata/ppdata/subj02/func1pt8mm/roi/lh.floc-bodies.nii.gz to nsddata/ppdata/subj02/func1pt8mm/roi/lh.floc-bodies.nii.gz\n",
      "download: s3://natural-scenes-dataset/nsddata/ppdata/subj02/func1pt8mm/roi/lh.corticalsulc.nii.gz to nsddata/ppdata/subj02/func1pt8mm/roi/lh.corticalsulc.nii.gz\n",
      "download: s3://natural-scenes-dataset/nsddata/ppdata/subj02/func1pt8mm/roi/lh.floc-places.nii.gz to nsddata/ppdata/subj02/func1pt8mm/roi/lh.floc-places.nii.gz\n",
      "download: s3://natural-scenes-dataset/nsddata/ppdata/subj02/func1pt8mm/roi/lh.floc-faces.nii.gz to nsddata/ppdata/subj02/func1pt8mm/roi/lh.floc-faces.nii.gz\n",
      "download: s3://natural-scenes-dataset/nsddata/ppdata/subj02/func1pt8mm/roi/lh.floc-words.nii.gz to nsddata/ppdata/subj02/func1pt8mm/roi/lh.floc-words.nii.gz\n",
      "download: s3://natural-scenes-dataset/nsddata/ppdata/subj02/func1pt8mm/roi/lh.prf-eccrois.nii.gz to nsddata/ppdata/subj02/func1pt8mm/roi/lh.prf-eccrois.nii.gz\n",
      "download: s3://natural-scenes-dataset/nsddata/ppdata/subj02/func1pt8mm/roi/lh.prf-visualrois.nii.gz to nsddata/ppdata/subj02/func1pt8mm/roi/lh.prf-visualrois.nii.gz\n",
      "download: s3://natural-scenes-dataset/nsddata/ppdata/subj02/func1pt8mm/roi/lh.thalamus.nii.gz to nsddata/ppdata/subj02/func1pt8mm/roi/lh.thalamus.nii.gz\n",
      "download: s3://natural-scenes-dataset/nsddata/ppdata/subj02/func1pt8mm/roi/nsdgeneral.nii.gz to nsddata/ppdata/subj02/func1pt8mm/roi/nsdgeneral.nii.gz\n",
      "download: s3://natural-scenes-dataset/nsddata/ppdata/subj02/func1pt8mm/roi/lh.streams.nii.gz to nsddata/ppdata/subj02/func1pt8mm/roi/lh.streams.nii.gz\n",
      "download: s3://natural-scenes-dataset/nsddata/ppdata/subj02/func1pt8mm/roi/prf-eccrois.nii.gz to nsddata/ppdata/subj02/func1pt8mm/roi/prf-eccrois.nii.gz\n",
      "download: s3://natural-scenes-dataset/nsddata/ppdata/subj02/func1pt8mm/roi/lh.nsdgeneral.nii.gz to nsddata/ppdata/subj02/func1pt8mm/roi/lh.nsdgeneral.nii.gz\n",
      "download: s3://natural-scenes-dataset/nsddata/ppdata/subj02/func1pt8mm/roi/floc-bodies.nii.gz to nsddata/ppdata/subj02/func1pt8mm/roi/floc-bodies.nii.gz\n",
      "download: s3://natural-scenes-dataset/nsddata/ppdata/subj02/func1pt8mm/roi/lh.HCP_MMP1.nii.gz to nsddata/ppdata/subj02/func1pt8mm/roi/lh.HCP_MMP1.nii.gz\n",
      "download: s3://natural-scenes-dataset/nsddata/ppdata/subj02/func1pt8mm/roi/prf-visualrois.nii.gz to nsddata/ppdata/subj02/func1pt8mm/roi/prf-visualrois.nii.gz\n",
      "download: s3://natural-scenes-dataset/nsddata/ppdata/subj02/func1pt8mm/roi/rh.MTL.nii.gz to nsddata/ppdata/subj02/func1pt8mm/roi/rh.MTL.nii.gz\n",
      "download: s3://natural-scenes-dataset/nsddata/ppdata/subj02/func1pt8mm/roi/rh.floc-bodies.nii.gz to nsddata/ppdata/subj02/func1pt8mm/roi/rh.floc-bodies.nii.gz\n",
      "download: s3://natural-scenes-dataset/nsddata/ppdata/subj02/func1pt8mm/roi/rh.corticalsulc.nii.gz to nsddata/ppdata/subj02/func1pt8mm/roi/rh.corticalsulc.nii.gz\n",
      "download: s3://natural-scenes-dataset/nsddata/ppdata/subj02/func1pt8mm/roi/rh.Kastner2015.nii.gz to nsddata/ppdata/subj02/func1pt8mm/roi/rh.Kastner2015.nii.gz\n",
      "download: s3://natural-scenes-dataset/nsddata/ppdata/subj02/func1pt8mm/roi/rh.floc-places.nii.gz to nsddata/ppdata/subj02/func1pt8mm/roi/rh.floc-places.nii.gz\n",
      "download: s3://natural-scenes-dataset/nsddata/ppdata/subj02/func1pt8mm/roi/rh.HCP_MMP1.nii.gz to nsddata/ppdata/subj02/func1pt8mm/roi/rh.HCP_MMP1.nii.gz\n",
      "download: s3://natural-scenes-dataset/nsddata/ppdata/subj02/func1pt8mm/roi/rh.nsdgeneral.nii.gz to nsddata/ppdata/subj02/func1pt8mm/roi/rh.nsdgeneral.nii.gz\n",
      "download: s3://natural-scenes-dataset/nsddata/ppdata/subj02/func1pt8mm/roi/rh.floc-words.nii.gz to nsddata/ppdata/subj02/func1pt8mm/roi/rh.floc-words.nii.gz\n",
      "download: s3://natural-scenes-dataset/nsddata/ppdata/subj02/func1pt8mm/roi/rh.prf-visualrois.nii.gz to nsddata/ppdata/subj02/func1pt8mm/roi/rh.prf-visualrois.nii.gz\n",
      "download: s3://natural-scenes-dataset/nsddata/ppdata/subj02/func1pt8mm/roi/rh.streams.nii.gz to nsddata/ppdata/subj02/func1pt8mm/roi/rh.streams.nii.gz\n",
      "download: s3://natural-scenes-dataset/nsddata/ppdata/subj02/func1pt8mm/roi/rh.thalamus.nii.gz to nsddata/ppdata/subj02/func1pt8mm/roi/rh.thalamus.nii.gz\n",
      "download: s3://natural-scenes-dataset/nsddata/ppdata/subj02/func1pt8mm/roi/thalamus.nii.gz to nsddata/ppdata/subj02/func1pt8mm/roi/thalamus.nii.gz\n",
      "download: s3://natural-scenes-dataset/nsddata/ppdata/subj02/func1pt8mm/roi/streams.nii.gz to nsddata/ppdata/subj02/func1pt8mm/roi/streams.nii.gz\n",
      "download: s3://natural-scenes-dataset/nsddata/ppdata/subj02/func1pt8mm/roi/rh.prf-eccrois.nii.gz to nsddata/ppdata/subj02/func1pt8mm/roi/rh.prf-eccrois.nii.gz\n",
      "download: s3://natural-scenes-dataset/nsddata/ppdata/subj02/func1pt8mm/roi/rh.floc-faces.nii.gz to nsddata/ppdata/subj02/func1pt8mm/roi/rh.floc-faces.nii.gz\n"
     ]
    }
   ],
   "source": [
    "# Download ROIs\n",
    "# for sub in [1,2,5,7]:\n",
    "# 受试者的感兴趣区域（ROI）相关数据\n",
    "# ROIs：空间定义，描述信息（视觉皮层v1~v4），统计数据\n",
    "for sub in subj_lis:\n",
    "    os.system('aws s3 cp s3://natural-scenes-dataset/nsddata/ppdata/subj{:02d}/func1pt8mm/roi/ nsddata/ppdata/subj{:02d}/func1pt8mm/roi/ --recursive'.format(sub,sub))"
   ]
  },
  {
   "cell_type": "code",
   "execution_count": null,
   "id": "05578276-96e0-4c6a-bd09-89e6a25e7ade",
   "metadata": {},
   "outputs": [],
   "source": []
  }
 ],
 "metadata": {
  "kernelspec": {
   "display_name": "ldm2",
   "language": "python",
   "name": "ldm2"
  },
  "language_info": {
   "codemirror_mode": {
    "name": "ipython",
    "version": 3
   },
   "file_extension": ".py",
   "mimetype": "text/x-python",
   "name": "python",
   "nbconvert_exporter": "python",
   "pygments_lexer": "ipython3",
   "version": "3.8.5"
  },
  "widgets": {
   "application/vnd.jupyter.widget-state+json": {
    "state": {},
    "version_major": 2,
    "version_minor": 0
   }
  }
 },
 "nbformat": 4,
 "nbformat_minor": 5
}
